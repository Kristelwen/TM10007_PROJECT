{
  "nbformat": 4,
  "nbformat_minor": 0,
  "metadata": {
    "colab": {
      "name": "brat_assignment.ipynb",
      "provenance": [],
      "collapsed_sections": [
        "ySDv5ko54ViJ",
        "gY9t_GtJ1KrG",
        "tzrJpQt-PM9u",
        "wO_MGCSW8d0l",
        "FqLl7RNggs9n",
        "gL04AA6EH9_7",
        "fuluNEEqjEoY"
      ],
      "include_colab_link": true
    },
    "kernelspec": {
      "display_name": "Python 3",
      "language": "python",
      "name": "python3"
    },
    "language_info": {
      "codemirror_mode": {
        "name": "ipython",
        "version": 3
      },
      "file_extension": ".py",
      "mimetype": "text/x-python",
      "name": "python",
      "nbconvert_exporter": "python",
      "pygments_lexer": "ipython3",
      "version": "3.7.4"
    }
  },
  "cells": [
    {
      "cell_type": "markdown",
      "metadata": {
        "id": "view-in-github",
        "colab_type": "text"
      },
      "source": [
        "<a href=\"https://colab.research.google.com/github/Kristelwen/TM10007_PROJECT/blob/master/brat_assignment.ipynb\" target=\"_parent\"><img src=\"https://colab.research.google.com/assets/colab-badge.svg\" alt=\"Open In Colab\"/></a>"
      ]
    },
    {
      "cell_type": "markdown",
      "metadata": {
        "colab_type": "text",
        "id": "7SXpaKwwGe5x"
      },
      "source": [
        "# TM10007 Assignment\n",
        "Kristel, Lalot, Marijn, Tahisa"
      ]
    },
    {
      "cell_type": "code",
      "metadata": {
        "colab_type": "code",
        "id": "CiDn2Sk-VWqE",
        "colab": {
          "base_uri": "https://localhost:8080/",
          "height": 34
        },
        "outputId": "777baa67-82a5-475e-b266-bc5e69e8dab4"
      },
      "source": [
        "# Run this to use from colab environment\n",
        "!pip install -q --upgrade git+https://github.com/Kristelwen/TM10007_PROJECT"
      ],
      "execution_count": 1,
      "outputs": [
        {
          "output_type": "stream",
          "text": [
            "  Building wheel for brats (setup.py) ... \u001b[?25l\u001b[?25hdone\n"
          ],
          "name": "stdout"
        }
      ]
    },
    {
      "cell_type": "markdown",
      "metadata": {
        "id": "ySDv5ko54ViJ",
        "colab_type": "text"
      },
      "source": [
        "# Data loading and importing modules"
      ]
    },
    {
      "cell_type": "code",
      "metadata": {
        "id": "B_Lae4Zh5V3B",
        "colab_type": "code",
        "colab": {}
      },
      "source": [
        "# Importing modules\n",
        "# General packages\n",
        "import numpy as np\n",
        "import pandas as pd\n",
        "import math\n",
        "import matplotlib.pyplot as plt\n",
        "from time import time\n",
        "from sklearn import datasets as ds\n",
        "from scipy.stats import randint\n",
        "\n",
        "# Preprocessing packages\n",
        "from sklearn.preprocessing import LabelEncoder\n",
        "from sklearn.preprocessing import StandardScaler\n",
        "from sklearn.preprocessing import RobustScaler\n",
        "from sklearn.decomposition import PCA\n",
        "from sklearn.feature_selection import RFECV\n",
        "\n",
        "# Classifiers\n",
        "from sklearn.tree import DecisionTreeClassifier\n",
        "from sklearn.neighbors import KNeighborsClassifier\n",
        "from sklearn.svm import SVC\n",
        "from sklearn.ensemble import RandomForestClassifier\n",
        "from sklearn.ensemble import BaggingClassifier\n",
        "from sklearn.ensemble import VotingClassifier\n",
        "from sklearn.neural_network import MLPClassifier\n",
        "\n",
        "# SVM Kernels\n",
        "from sklearn.kernel_approximation import RBFSampler\n",
        "from sklearn.metrics.pairwise import rbf_kernel, sigmoid_kernel\n",
        "from sklearn.decomposition import KernelPCA\n",
        "\n",
        "# Model selection\n",
        "from sklearn.model_selection import RandomizedSearchCV, GridSearchCV\n",
        "from sklearn.model_selection import train_test_split\n",
        "from sklearn.model_selection import learning_curve\n",
        "from sklearn.model_selection import ShuffleSplit\n",
        "from sklearn.model_selection import StratifiedKFold\n",
        "from sklearn.model_selection import StratifiedShuffleSplit\n",
        "\n",
        "# Performance metrics\n",
        "from sklearn.metrics import classification_report, confusion_matrix, accuracy_score\n",
        "from sklearn.model_selection import cross_val_score\n",
        "\n",
        "# Regularization\n",
        "from sklearn.linear_model import Lasso, RidgeClassifier\n",
        "from sklearn.feature_selection import SelectFromModel"
      ],
      "execution_count": 0,
      "outputs": []
    },
    {
      "cell_type": "code",
      "metadata": {
        "colab_type": "code",
        "id": "-NE_fTbKGe5z",
        "outputId": "c29d0880-bfa3-476e-b9a4-302b8fd482e9",
        "colab": {
          "base_uri": "https://localhost:8080/",
          "height": 51
        }
      },
      "source": [
        "# Loading the data\n",
        "from brats.load_data import load_data\n",
        "\n",
        "data = load_data()\n",
        "print(f'The number of samples: {len(data.index)}')\n",
        "print(f'The number of columns: {len(data.columns)}')\n"
      ],
      "execution_count": 4,
      "outputs": [
        {
          "output_type": "stream",
          "text": [
            "The number of samples: 167\n",
            "The number of columns: 725\n"
          ],
          "name": "stdout"
        }
      ]
    },
    {
      "cell_type": "code",
      "metadata": {
        "id": "50S8Z8Y968kr",
        "colab_type": "code",
        "colab": {}
      },
      "source": [
        "data_top = data.head()  \n",
        "\n",
        "# display  \n",
        "# data_top "
      ],
      "execution_count": 0,
      "outputs": []
    },
    {
      "cell_type": "markdown",
      "metadata": {
        "id": "gY9t_GtJ1KrG",
        "colab_type": "text"
      },
      "source": [
        "# Preprocessing"
      ]
    },
    {
      "cell_type": "code",
      "metadata": {
        "id": "kl2rwSBvHPjO",
        "colab_type": "code",
        "colab": {}
      },
      "source": [
        "# Drop columns which contain NaN values\n",
        "threshold = math.floor(len(data)/2)  # calculate threshold, half of total rows\n",
        "data_drop = data.dropna(thresh=threshold, axis=1)  # Delete columns/features with more than 'threshold' NaNs\n",
        "data_drop = data_drop.dropna(axis=0)  # Delete rows/subjects with NaNs\n",
        "\n",
        "# Split data and labels\n",
        "labels = data_drop['label']\n",
        "data_drop = data_drop.drop(columns=\"label\")  # Data without labels\n",
        "\n",
        "# Convert labels 'GBM' and 'LGG' to respectively 0 and 1\n",
        "label_encoder = LabelEncoder()\n",
        "labels = label_encoder.fit_transform(labels)\n",
        "\n",
        "# Split the data in a train (90%) and test set (10%)\n",
        "data_train, data_test, label_train, label_test = train_test_split(data_drop, labels, test_size=0.1)\n",
        "data_train2, data_val, label_train2, label_val = train_test_split(data_train, label_train, test_size=0.1)\n",
        "\n",
        "# Feature scaling\n",
        "scaler = RobustScaler()\n",
        "transformer = scaler.fit(data_train2.values)  # Fit on training data 2\n",
        "data_scaled_train2 = transformer.transform(data_train2.values)\n",
        "data_df_train2 = pd.DataFrame(data_scaled_train2, index = data_train2.index, columns = data_train2.columns)\n",
        "\n",
        "data_scaled_val = transformer.transform(data_val.values)\n",
        "data_df_val = pd.DataFrame(data_scaled_val, index = data_val.index, columns = data_val.columns)\n",
        "\n",
        "data_scaled_test = transformer.transform(data_test.values)\n",
        "data_df_test = pd.DataFrame(data_scaled_test, index = data_test.index, columns = data_test.columns)\n",
        "\n",
        "scaler2 = RobustScaler()\n",
        "transformer2 = scaler2.fit(data_train.values)  # Fit on training data 1\n",
        "data_scaled_train = transformer2.transform(data_train.values)\n",
        "data_df_train = pd.DataFrame(data_scaled_train, index = data_train.index, columns = data_train.columns)\n",
        "\n",
        "# Feature selection: PCA\n",
        "  # Training set 2\n",
        "pca_train = PCA(n_components=80)  # Create a PCA with 20 components\n",
        "pca_train.fit(data_scaled_train2)  # Fit PCA\n",
        "data_train_pca2 = pca_train.transform(data_scaled_train2)  # Transform train data using PCA\n",
        "#df_train_pca2 = pd.DataFrame(data_train_pca2, index = data_scaled_train2.index)  # Put train data back in dataframe with 20 most important features\n",
        " \n",
        "  # Training set 1\n",
        "data_train_pca = pca_train.transform(data_train)\n",
        "  # Validatie set\n",
        "data_val_pca = pca_train.transform(data_scaled_val)  # Transform test data using PCA\n",
        "  # Test set\n",
        "data_test_pca = pca_train.transform(data_scaled_test)  # Transform test data using PCA\n"
      ],
      "execution_count": 0,
      "outputs": []
    },
    {
      "cell_type": "markdown",
      "metadata": {
        "id": "ANFuoo-r_yek",
        "colab_type": "text"
      },
      "source": [
        "# Classifiers"
      ]
    },
    {
      "cell_type": "markdown",
      "metadata": {
        "id": "tzrJpQt-PM9u",
        "colab_type": "text"
      },
      "source": [
        "## Ridgen"
      ]
    },
    {
      "cell_type": "code",
      "metadata": {
        "id": "7G_NXuWnEkgR",
        "colab_type": "code",
        "outputId": "cf27772a-407c-4bd6-b8d5-b0a122b00158",
        "colab": {
          "base_uri": "https://localhost:8080/",
          "height": 863
        }
      },
      "source": [
        "# Display the weights and compute error for multiple values for alpha\n",
        "n_alphas = 200\n",
        "alphas = np.logspace(-10, -1, n_alphas)\n",
        "\n",
        "# Construct classifiers\n",
        "coefs = []\n",
        "accuracies = []\n",
        "times = []\n",
        "for a in alphas:\n",
        "    # Fit classifier\n",
        "    clf = RidgeClassifier(alpha=a, fit_intercept=False)\n",
        "    t0 = time()\n",
        "    clf.fit(data_train_pca, label_train)\n",
        "    duration = time() - t0\n",
        "    val_pred = clf.predict(data_val_pca)\n",
        "    message = (\"\\t Misclassified: %d / %d\" % ((label_validation != val_pred).sum(), label_validation.shape[0]))\n",
        "    # print(message)\n",
        "    \n",
        "    # Append statistics\n",
        "    accuracy = float((label_validation != val_pred).sum()) / float(label_validation.shape[0])\n",
        "    times.append(duration)\n",
        "    accuracies.append(accuracy)\n",
        "    coefs.append(clf.coef_)\n",
        "\n",
        "# #############################################################################\n",
        "# Display results\n",
        "\n",
        "# Weights\n",
        "plt.figure()\n",
        "ax = plt.gca()\n",
        "ax.plot(alphas, np.squeeze(coefs))\n",
        "ax.set_xscale('log')\n",
        "ax.set_xlim(ax.get_xlim()[::-1])  # reverse axis\n",
        "plt.xlabel('alpha')\n",
        "plt.ylabel('weights')\n",
        "plt.title('Ridge coefficients as a function of the regularization')\n",
        "plt.axis('tight')\n",
        "plt.show()\n",
        "\n",
        "# Performance\n",
        "plt.figure()\n",
        "ax = plt.gca()\n",
        "ax.plot(alphas, accuracies)\n",
        "ax.set_xscale('log')\n",
        "ax.set_xlim(ax.get_xlim()[::-1])  # reverse axis\n",
        "plt.xlabel('alpha')\n",
        "plt.ylabel('accuracies')\n",
        "plt.title('Performance as a function of the regularization')\n",
        "plt.axis('tight')\n",
        "plt.show()\n",
        "\n",
        "# Times\n",
        "plt.figure()\n",
        "ax = plt.gca()\n",
        "ax.plot(alphas, times)\n",
        "ax.set_xscale('log')\n",
        "ax.set_xlim(ax.get_xlim()[::-1])  # reverse axis\n",
        "plt.xlabel('alpha')\n",
        "plt.ylabel('times (s)')\n",
        "plt.title('Fitting time as a function of the regularization')\n",
        "plt.axis('tight')\n",
        "plt.show()\n"
      ],
      "execution_count": 0,
      "outputs": [
        {
          "output_type": "display_data",
          "data": {
            "image/png": "[encoded data removed]",
            "text/plain": [
              "<Figure size 432x288 with 1 Axes>"
            ]
          },
          "metadata": {
            "tags": []
          }
        },
        {
          "output_type": "display_data",
          "data": {
            "image/png": "[encoded data removed]",
            "text/plain": [
              "<Figure size 432x288 with 1 Axes>"
            ]
          },
          "metadata": {
            "tags": []
          }
        },
        {
          "output_type": "display_data",
          "data": {
            "image/png": "[encoded data removed]",
            "text/plain": [
              "<Figure size 432x288 with 1 Axes>"
            ]
          },
          "metadata": {
            "tags": []
          }
        }
      ]
    },
    {
      "cell_type": "markdown",
      "metadata": {
        "id": "zWWd0nzQPEfa",
        "colab_type": "text"
      },
      "source": [
        "## Random Forest Classifier with PCA\n",
        "Zoals ik het nu heb aangepast kan denk ik blokje 6, 20 en 21 weg. Zijn jullie het hiermee eens? Heb de accuracy op de nette manier berekend ook nu. En random forest niet meer gefit op de validatie set."
      ]
    },
    {
      "cell_type": "code",
      "metadata": {
        "id": "FA1o4T0F6lOy",
        "colab_type": "code",
        "outputId": "7ce22cc1-7c58-4b93-b263-c06e302fef46",
        "colab": {
          "base_uri": "https://localhost:8080/",
          "height": 748
        }
      },
      "source": [
        "# IK (KRISTEL) DENK DAT DIT HELE BLOKJE WEG KAN, EVEN CHECKEN !! -> CHECKEN VOOR BOOTSTRAP KOMT IN HYPERPARAMETER OPTIMIZATION OOK NAAR VOREN\n",
        "#default settings \n",
        "n_samples=len(data_val_pca)\n",
        "homemade_random_forest = BaggingClassifier(RandomForestClassifier()) \n",
        "homemade_random_forest.fit(data_train_pca,label_train) #fit the classifier on the training set \n",
        "test=homemade_random_forest.predict(data_val_pca) #test \n",
        "error= (sum(abs(test - label_val))/n_samples)*100\n",
        "error = (round(error, 2))\n",
        "print ('the error when using default settings is {}%'.format(error))\n",
        "\n",
        "print ('')\n",
        "\n",
        "#using different n_trees and bootstrapping  \n",
        "n_trees=[5,10,50,100,150,200,300,400,500,600]\n",
        "for n_tree in n_trees:\n",
        "  clf = RandomForestClassifier(n_estimators=n_tree, bootstrap=True)\n",
        "  clf.fit(data_train_pca2,label_train2)\n",
        "  \n",
        "  predictions_train = clf.predict(data_train_pca2)\n",
        "  errors_train = (sum(abs(predictions_train - label_train2))/n_samples)*100\n",
        "  errors_train = (round(errors_train, 2))\n",
        "  \n",
        "  print ('Train set: When using bootstrapping and {} trees, the error is {}%'.format(n_tree,errors_train))\n",
        "\n",
        "  predictions_val = clf.predict(data_val_pca)\n",
        "  errors_val = (sum(abs(predictions_val - label_val))/n_samples)*100\n",
        "  errors_val = (round(errors_val, 2))\n",
        "\n",
        "  print ('Validation set: When using bootstrapping and {} trees, the error is {}%'.format(n_tree,errors_val))\n",
        "\n",
        "print ('')\n",
        "\n",
        "#using different n_trees without bootstrapping  \n",
        "n_trees=[5,10,50,100,150,200,300,400,500,600]\n",
        "for n_tree in n_trees:\n",
        "  clf = RandomForestClassifier(n_estimators=n_tree, bootstrap=False)\n",
        "  clf.fit(data_train_pca2,label_train2)\n",
        "  \n",
        "  predictions_train = clf.predict(data_train_pca2)\n",
        "  errors_train = (sum(abs(predictions_train - label_train2))/n_samples)*100\n",
        "  errors_train = (round(errors_train, 2))\n",
        "  \n",
        "  print ('Train set: Without bootstrapping and {} trees, the error is {}%'.format(n_tree,errors_train))\n",
        "\n",
        "  predictions_val = clf.predict(data_val_pca)\n",
        "  errors_val = (sum(abs(predictions_val - label_val))/n_samples)*100\n",
        "  errors_val = (round(errors_val, 2))\n",
        "\n",
        "  print ('Validation set: Without bootstrapping and {} trees, the error is {}%'.format(n_tree,errors_val))"
      ],
      "execution_count": 6,
      "outputs": [
        {
          "output_type": "stream",
          "text": [
            "the error when using default settings is 14.29%\n",
            "\n",
            "Train set: When using bootstrapping and 5 trees, the error is 7.14%\n",
            "Validation set: When using bootstrapping and 5 trees, the error is 35.71%\n",
            "Train set: When using bootstrapping and 10 trees, the error is 21.43%\n",
            "Validation set: When using bootstrapping and 10 trees, the error is 35.71%\n",
            "Train set: When using bootstrapping and 50 trees, the error is 0.0%\n",
            "Validation set: When using bootstrapping and 50 trees, the error is 14.29%\n",
            "Train set: When using bootstrapping and 100 trees, the error is 0.0%\n",
            "Validation set: When using bootstrapping and 100 trees, the error is 21.43%\n",
            "Train set: When using bootstrapping and 150 trees, the error is 0.0%\n",
            "Validation set: When using bootstrapping and 150 trees, the error is 14.29%\n",
            "Train set: When using bootstrapping and 200 trees, the error is 0.0%\n",
            "Validation set: When using bootstrapping and 200 trees, the error is 14.29%\n",
            "Train set: When using bootstrapping and 300 trees, the error is 0.0%\n",
            "Validation set: When using bootstrapping and 300 trees, the error is 21.43%\n",
            "Train set: When using bootstrapping and 400 trees, the error is 0.0%\n",
            "Validation set: When using bootstrapping and 400 trees, the error is 21.43%\n",
            "Train set: When using bootstrapping and 500 trees, the error is 0.0%\n",
            "Validation set: When using bootstrapping and 500 trees, the error is 14.29%\n",
            "Train set: When using bootstrapping and 600 trees, the error is 0.0%\n",
            "Validation set: When using bootstrapping and 600 trees, the error is 21.43%\n",
            "\n",
            "Train set: Without bootstrapping and 5 trees, the error is 0.0%\n",
            "Validation set: Without bootstrapping and 5 trees, the error is 21.43%\n",
            "Train set: Without bootstrapping and 10 trees, the error is 0.0%\n",
            "Validation set: Without bootstrapping and 10 trees, the error is 28.57%\n",
            "Train set: Without bootstrapping and 50 trees, the error is 0.0%\n",
            "Validation set: Without bootstrapping and 50 trees, the error is 21.43%\n",
            "Train set: Without bootstrapping and 100 trees, the error is 0.0%\n",
            "Validation set: Without bootstrapping and 100 trees, the error is 14.29%\n",
            "Train set: Without bootstrapping and 150 trees, the error is 0.0%\n",
            "Validation set: Without bootstrapping and 150 trees, the error is 28.57%\n",
            "Train set: Without bootstrapping and 200 trees, the error is 0.0%\n",
            "Validation set: Without bootstrapping and 200 trees, the error is 21.43%\n",
            "Train set: Without bootstrapping and 300 trees, the error is 0.0%\n",
            "Validation set: Without bootstrapping and 300 trees, the error is 14.29%\n",
            "Train set: Without bootstrapping and 400 trees, the error is 0.0%\n",
            "Validation set: Without bootstrapping and 400 trees, the error is 14.29%\n",
            "Train set: Without bootstrapping and 500 trees, the error is 0.0%\n",
            "Validation set: Without bootstrapping and 500 trees, the error is 14.29%\n",
            "Train set: Without bootstrapping and 600 trees, the error is 0.0%\n",
            "Validation set: Without bootstrapping and 600 trees, the error is 21.43%\n"
          ],
          "name": "stdout"
        }
      ]
    },
    {
      "cell_type": "code",
      "metadata": {
        "id": "w27ZGUSg9TPx",
        "colab_type": "code",
        "colab": {
          "base_uri": "https://localhost:8080/",
          "height": 425
        },
        "outputId": "17bb13cf-12d6-4429-a5e1-c9444c569b69"
      },
      "source": [
        "# Hyperparameter optimization of Random Forest Classifier\n",
        "\n",
        "# Our parameter to optimize is the number of estimators, which we vary uniformly between 1 and 400\n",
        "param_distributions = {'n_estimators': randint(1, 400)}\n",
        "    \n",
        "# Execute RandomizedSearchCV to find optimal parameters\n",
        "clf_rf = RandomizedSearchCV(RandomForestClassifier(), param_distributions, cv=5, n_iter=20, random_state=42)\n",
        "\n",
        "# Fit the classifier\n",
        "clf_rf.fit(data_train_pca2, label_train2)\n"
      ],
      "execution_count": 7,
      "outputs": [
        {
          "output_type": "execute_result",
          "data": {
            "text/plain": [
              "RandomizedSearchCV(cv=5, error_score=nan,\n",
              "                   estimator=RandomForestClassifier(bootstrap=True,\n",
              "                                                    ccp_alpha=0.0,\n",
              "                                                    class_weight=None,\n",
              "                                                    criterion='gini',\n",
              "                                                    max_depth=None,\n",
              "                                                    max_features='auto',\n",
              "                                                    max_leaf_nodes=None,\n",
              "                                                    max_samples=None,\n",
              "                                                    min_impurity_decrease=0.0,\n",
              "                                                    min_impurity_split=None,\n",
              "                                                    min_samples_leaf=1,\n",
              "                                                    min_samples_split=2,\n",
              "                                                    min_weight_fraction_leaf=0.0,\n",
              "                                                    n_estimators=100,\n",
              "                                                    n_jobs=None,\n",
              "                                                    oob_score=False,\n",
              "                                                    random_state=None,\n",
              "                                                    verbose=0,\n",
              "                                                    warm_start=False),\n",
              "                   iid='deprecated', n_iter=20, n_jobs=None,\n",
              "                   param_distributions={'n_estimators': <scipy.stats._distn_infrastructure.rv_frozen object at 0x7f4bbd07b9b0>},\n",
              "                   pre_dispatch='2*n_jobs', random_state=42, refit=True,\n",
              "                   return_train_score=False, scoring=None, verbose=0)"
            ]
          },
          "metadata": {
            "tags": []
          },
          "execution_count": 7
        }
      ]
    },
    {
      "cell_type": "code",
      "metadata": {
        "id": "JGMR4Isu_WjQ",
        "colab_type": "code",
        "outputId": "1527b85f-b528-4363-c04c-6a337f0bed94",
        "colab": {
          "base_uri": "https://localhost:8080/",
          "height": 187
        }
      },
      "source": [
        "# Get the best estimator and best parameters belonging to that estimator\n",
        "print(f'\\n The best estimator is {clf_rf.best_estimator_} \\n The best amount of trees is {clf_rf.best_params_}')"
      ],
      "execution_count": 8,
      "outputs": [
        {
          "output_type": "stream",
          "text": [
            "\n",
            " The best estimator is RandomForestClassifier(bootstrap=True, ccp_alpha=0.0, class_weight=None,\n",
            "                       criterion='gini', max_depth=None, max_features='auto',\n",
            "                       max_leaf_nodes=None, max_samples=None,\n",
            "                       min_impurity_decrease=0.0, min_impurity_split=None,\n",
            "                       min_samples_leaf=1, min_samples_split=2,\n",
            "                       min_weight_fraction_leaf=0.0, n_estimators=103,\n",
            "                       n_jobs=None, oob_score=False, random_state=None,\n",
            "                       verbose=0, warm_start=False) \n",
            " The best amount of trees is {'n_estimators': 103}\n"
          ],
          "name": "stdout"
        }
      ]
    },
    {
      "cell_type": "code",
      "metadata": {
        "id": "KasLabs11qBm",
        "colab_type": "code",
        "colab": {
          "base_uri": "https://localhost:8080/",
          "height": 34
        },
        "outputId": "91916da7-9f85-4315-cab2-9d67a8712872"
      },
      "source": [
        "# KAN DENK IK WEG!\n",
        "#Random Forest classifier as a function \n",
        "def RandomForest(n_trees,data_train_pca2,data_val_pca,labels_train2,labels_val):\n",
        "  clf = RandomForestClassifier(n_estimators=n_trees, bootstrap=True)\n",
        "  clf.fit(data_train_pca2,label_train2)\n",
        "  predictions_train = clf.predict(data_train_pca2)\n",
        "  acc_train = accuracy_score(label_train2, predictions_train)\n",
        "\n",
        "  # acc/error op Beun manier WEGHALEN?!\n",
        "  # n_samples=len(data_train_pca2)\n",
        "  # errors_train = (sum(abs(predictions_train - label_train2))/n_samples)*100\n",
        "  # errors_train = (round(errors_train, 2))\n",
        "  # accuracy_train=100-errors_train\n",
        "\n",
        "  # clf.fit(data_val_pca,label_val)  # DEZE REGEL WEGGEHAALD WANT JE MOET NIET FITTEN OP VALIDATIE?\n",
        "  predictions_val = clf.predict(data_val_pca)\n",
        "  acc_val = accuracy_score(label_val, predictions_val)\n",
        "\n",
        "  # Acc/error op Beun manier WEGHALEN?!\n",
        "  # n_samples=len(data_val_pca)\n",
        "  # errors_val = (sum(abs(predictions_val - label_val))/n_samples)*100\n",
        "  # errors_val = (round(errors_val, 2))\n",
        "  # accuracy_val=100-errors_val\n",
        "\n",
        "  return (acc_train, acc_val)\n",
        "\n",
        "# Evaluate accuracy of random forest on training and validation set\n",
        "acc = RandomForest(15,data_train_pca2,data_val_pca,label_train2,label_val)\n",
        "\n",
        "print(f'Accuracy of Random Forest Classifier for the training set is {acc[0]} and for the validation set is {acc[1]}')\n"
      ],
      "execution_count": 20,
      "outputs": [
        {
          "output_type": "stream",
          "text": [
            "Accuracy of Random Forest Classifier for the training set is 1.0 and for the validation set is 0.7142857142857143\n"
          ],
          "name": "stdout"
        }
      ]
    },
    {
      "cell_type": "code",
      "metadata": {
        "id": "VJb6pbVk4Pc1",
        "colab_type": "code",
        "colab": {
          "base_uri": "https://localhost:8080/",
          "height": 119
        },
        "outputId": "fbf1682a-900b-4eb4-bd5f-a78fe42695b1"
      },
      "source": [
        "# DIT STUK IPV DE 2 BLOKJES HIERBOVEN?!\n",
        "# Fitting the Random Forest classifier\n",
        "n_trees = 15\n",
        "RF = RandomForestClassifier(n_estimators=n_trees, bootstrap=True)\n",
        "RF.fit(data_train_pca2, label_train2)\n",
        "\n",
        "# Predictions\n",
        "train2_pred_RF = RF.predict(data_train_pca2)\n",
        "val_pred_RF = RF.predict(data_val_pca)\n",
        "train_pred_RF = RF.predict(data_train_pca)\n",
        "test_pred_RF = RF.predict(data_test_pca)\n",
        "\n",
        "# Evaluate accuracy of Random Forest Classifier on training set\n",
        "acc_train_RF = accuracy_score(label_train2, train2_pred_RF)\n",
        "print(f'\\n The accuracy of the training set is {acc_train_RF}')\n",
        "\n",
        "# Evaluate accuracy of Random Forest Classifier on validation set\n",
        "acc_val_RF = accuracy_score(label_val, val_pred_RF)\n",
        "print(f'\\n The accuracy of the validation set is {acc_val_RF}')\n",
        "\n",
        "# Evaluate accuracy of Random Forest Classifier on test set\n",
        "acc_test_RF = accuracy_score(label_test, test_pred_RF)\n",
        "print(f'\\n The accuracy of the test set is {acc_test_RF}')\n"
      ],
      "execution_count": 26,
      "outputs": [
        {
          "output_type": "stream",
          "text": [
            "\n",
            " The accuracy of the training set is 1.0\n",
            "\n",
            " The accuracy of the validation set is 0.8571428571428571\n",
            "\n",
            " The accuracy of the test set is 0.8666666666666667\n"
          ],
          "name": "stdout"
        }
      ]
    },
    {
      "cell_type": "code",
      "metadata": {
        "id": "0qs2lcvbEhDk",
        "colab_type": "code",
        "outputId": "9a8372d8-4cc6-49b3-ca7f-a1ebb4c2cd6f",
        "colab": {
          "base_uri": "https://localhost:8080/",
          "height": 34
        }
      },
      "source": [
        "# KAN DENK IK WEG?!\n",
        "# Evaluate accuracy of random forest \n",
        "predictions_test = clf.predict(data_test_pca)\n",
        "n_samples=len(data_test_pca)\n",
        "errors_test = (sum(abs(predictions_test - label_test))/n_samples)*100\n",
        "errors_test = (round(errors_test, 2))\n",
        "accuracy_test=100-errors_test\n",
        "\n",
        "print(f'Accuracy of Random Forest Classifier for the test set is {accuracy_test}')"
      ],
      "execution_count": 21,
      "outputs": [
        {
          "output_type": "stream",
          "text": [
            "Accuracy of Random Forest Classifier for the test set is 86.67\n"
          ],
          "name": "stdout"
        }
      ]
    },
    {
      "cell_type": "markdown",
      "metadata": {
        "id": "wO_MGCSW8d0l",
        "colab_type": "text"
      },
      "source": [
        "## Random forest with feature_importances_"
      ]
    },
    {
      "cell_type": "code",
      "metadata": {
        "id": "djSbNBU-Dq5v",
        "colab_type": "code",
        "outputId": "a6d562a8-1b9f-49d5-9c15-6340eea4b962",
        "colab": {
          "base_uri": "https://localhost:8080/",
          "height": 548
        }
      },
      "source": [
        "# Feature importances\n",
        "forest = RandomForestClassifier(n_estimators=100, bootstrap=True)\n",
        "\n",
        "forest.fit(data_df_train2, label_train2)\n",
        "importances = forest.feature_importances_\n",
        "std = np.std([tree.feature_importances_ for tree in forest.estimators_],\n",
        "             axis=0)\n",
        "indices = np.argsort(importances)[::-1]\n",
        "\n",
        "# Print the feature ranking\n",
        "print(\"Feature ranking:\")\n",
        "\n",
        "# for f in range(data_df_train2.shape[1]):\n",
        "    # print(\"%d. feature %d (%f)\" % (f + 1, indices[f], importances[indices[f]]))\n",
        "\n",
        "# Plot the feature importances of the forest\n",
        "plt.figure()\n",
        "plt.title(\"Feature importances\")\n",
        "plt.bar(range(data_df_train2.shape[1]), importances[indices],\n",
        "       color=\"r\", yerr=std[indices], align=\"center\")\n",
        "plt.xticks(range(data_df_train2.shape[1]), indices)\n",
        "plt.xlim([-1, data_df_train2.shape[1]])\n",
        "plt.show()\n",
        "\n",
        "# Only keep features with importance > 0.00\n",
        "mask = importances > 0\n",
        "mask2 = data_df_train2.columns[mask]\n",
        "data_train2_selection = data_df_train2[mask2]\n",
        "print(data_train2_selection)"
      ],
      "execution_count": 0,
      "outputs": [
        {
          "output_type": "stream",
          "text": [
            "Feature ranking:\n"
          ],
          "name": "stdout"
        },
        {
          "output_type": "display_data",
          "data": {
            "image/png": "[encoded data removed]",
            "text/plain": [
              "<Figure size 432x288 with 1 Axes>"
            ]
          },
          "metadata": {
            "tags": []
          }
        },
        {
          "output_type": "stream",
          "text": [
            "              VOLUME_ET  VOLUME_NET  ...  TGM_Cog_Y_1   TGM_T_1\n",
            "ID                                   ...                       \n",
            "TCGA-76-6664  -0.192073   -0.341534  ...    -1.300943 -0.447847\n",
            "TCGA-HT-7690  -0.007164    4.505023  ...    -0.794279  1.479518\n",
            "TCGA-HT-8111  -0.474489   -0.420584  ...    -0.813479 -0.781609\n",
            "TCGA-02-0085   0.254606   -0.316455  ...    -0.514006 -0.121796\n",
            "TCGA-06-0137   1.021397   -0.172802  ...     0.897209  0.255732\n",
            "...                 ...         ...  ...          ...       ...\n",
            "TCGA-19-5954  -0.080364   -0.217093  ...     0.630053 -0.383578\n",
            "TCGA-02-0047   1.042106    0.000000  ...     0.313475 -0.011195\n",
            "TCGA-14-1794   1.501423    1.470411  ...    -0.813735  0.982596\n",
            "TCGA-06-1084   0.261801   -0.362176  ...    -0.136651  0.014476\n",
            "TCGA-06-0142   1.031908   -0.115458  ...    -0.260002  0.455674\n",
            "\n",
            "[117 rows x 395 columns]\n"
          ],
          "name": "stdout"
        }
      ]
    },
    {
      "cell_type": "code",
      "metadata": {
        "id": "34UwTlXt8iXk",
        "colab_type": "code",
        "outputId": "36dd7602-bec1-4398-e4f1-93f4a3160a57",
        "colab": {
          "base_uri": "https://localhost:8080/",
          "height": 369
        }
      },
      "source": [
        "#default settings \n",
        "n_samples=len(data_scaled_val)\n",
        "# BaggingClassifier().coef_ = BaggingClassifier().feature_importances_\n",
        "homemade_random_forest = BaggingClassifier(RandomForestClassifier()) \n",
        "# homemade_random_forest.coef_ = homemade_random_forest.feature_importances_\n",
        "selector = RFECV(homemade_random_forest, step=1, cv=5)\n",
        "selector = selector.fit(data_df_train2, label_train2)\n",
        "selector.support_\n",
        "print(selector.ranking_)\n",
        "\n",
        "\n",
        "homemade_random_forest.fit(data_scaled_train2,label_train2) #fit the classifier on the training set \n",
        "test=homemade_random_forest.predict(data_scaled_val) #test \n",
        "error= (sum(abs(test - label_val))/n_samples)*100\n",
        "error = (round(error, 2))\n",
        "print ('the error when using default settings is {}%'.format(error))\n",
        "\n",
        "print ('')#  ff voor overzicht \n",
        "\n",
        "#using different n_trees and bootstrapping  \n",
        "n_trees=[5,10,50,100,150,200,300,400,500,600]\n",
        "for n_tree in n_trees:\n",
        "  clf = RandomForestClassifier(n_estimators=n_tree, bootstrap=True)\n",
        "  clf.fit(data_scaled_train2, label_train2)\n",
        "  \n",
        "  predictions_train = clf.predict(data_scaled_train2)\n",
        "  errors_train = (sum(abs(predictions_train - label_train2))/n_samples)*100\n",
        "  errors_train = (round(errors_train, 2))\n",
        "  \n",
        "  print ('Train set: When using bootstrapping and {} trees, the error is {}%'.format(n_tree,errors_train))\n",
        "\n",
        "  predictions_val = clf.predict(data_scaled_val)\n",
        "  errors_val = (sum(abs(predictions_val - label_val))/n_samples)*100\n",
        "  errors_val = (round(errors_val, 2))\n",
        "\n",
        "  print ('Validation set: When using bootstrapping and {} trees, the error is {}%'.format(n_tree,errors_val))\n",
        "\n",
        "print ('')\n",
        "\n",
        "#using different n_trees without bootstrapping  \n",
        "n_trees=[5,10,50,100,150,200,300,400,500,600]\n",
        "for n_tree in n_trees:\n",
        "  clf = RandomForestClassifier(n_estimators=n_tree, bootstrap=False)\n",
        "  clf.fit(data_scaled_train2,label_train2)\n",
        "  \n",
        "  predictions_train = clf.predict(data_scaled_train2)\n",
        "  errors_train = (sum(abs(predictions_train - label_train2))/n_samples)*100\n",
        "  errors_train = (round(errors_train, 2))\n",
        "  \n",
        "  print ('Train set: Without bootstrapping and {} trees, the error is {}%'.format(n_tree,errors_train))\n",
        "\n",
        "  predictions_val = clf.predict(data_scaled_val)\n",
        "  errors_val = (sum(abs(predictions_val - label_val))/n_samples)*100\n",
        "  errors_val = (round(errors_val, 2))\n",
        "\n",
        "  print ('Validation set: Without bootstrapping and {} trees, the error is {}%'.format(n_tree,errors_val))"
      ],
      "execution_count": 0,
      "outputs": [
        {
          "output_type": "error",
          "ename": "RuntimeError",
          "evalue": "ignored",
          "traceback": [
            "\u001b[0;31m---------------------------------------------------------------------------\u001b[0m",
            "\u001b[0;31mRuntimeError\u001b[0m                              Traceback (most recent call last)",
            "\u001b[0;32m<ipython-input-12-9beefac36dc1>\u001b[0m in \u001b[0;36m<module>\u001b[0;34m()\u001b[0m\n\u001b[1;32m      4\u001b[0m \u001b[0;31m# homemade_random_forest.coef_ = homemade_random_forest.feature_importances_\u001b[0m\u001b[0;34m\u001b[0m\u001b[0;34m\u001b[0m\u001b[0;34m\u001b[0m\u001b[0m\n\u001b[1;32m      5\u001b[0m \u001b[0mselector\u001b[0m \u001b[0;34m=\u001b[0m \u001b[0mRFECV\u001b[0m\u001b[0;34m(\u001b[0m\u001b[0mhomemade_random_forest\u001b[0m\u001b[0;34m,\u001b[0m \u001b[0mstep\u001b[0m\u001b[0;34m=\u001b[0m\u001b[0;36m1\u001b[0m\u001b[0;34m,\u001b[0m \u001b[0mcv\u001b[0m\u001b[0;34m=\u001b[0m\u001b[0;36m5\u001b[0m\u001b[0;34m)\u001b[0m\u001b[0;34m\u001b[0m\u001b[0;34m\u001b[0m\u001b[0m\n\u001b[0;32m----> 6\u001b[0;31m \u001b[0mselector\u001b[0m \u001b[0;34m=\u001b[0m \u001b[0mselector\u001b[0m\u001b[0;34m.\u001b[0m\u001b[0mfit\u001b[0m\u001b[0;34m(\u001b[0m\u001b[0mdata_df_train2\u001b[0m\u001b[0;34m,\u001b[0m \u001b[0mlabel_train2\u001b[0m\u001b[0;34m)\u001b[0m\u001b[0;34m\u001b[0m\u001b[0;34m\u001b[0m\u001b[0m\n\u001b[0m\u001b[1;32m      7\u001b[0m \u001b[0mselector\u001b[0m\u001b[0;34m.\u001b[0m\u001b[0msupport_\u001b[0m\u001b[0;34m\u001b[0m\u001b[0;34m\u001b[0m\u001b[0m\n\u001b[1;32m      8\u001b[0m \u001b[0mprint\u001b[0m\u001b[0;34m(\u001b[0m\u001b[0mselector\u001b[0m\u001b[0;34m.\u001b[0m\u001b[0mranking_\u001b[0m\u001b[0;34m)\u001b[0m\u001b[0;34m\u001b[0m\u001b[0;34m\u001b[0m\u001b[0m\n",
            "\u001b[0;32m/usr/local/lib/python3.6/dist-packages/sklearn/feature_selection/_rfe.py\u001b[0m in \u001b[0;36mfit\u001b[0;34m(self, X, y, groups)\u001b[0m\n\u001b[1;32m    531\u001b[0m         scores = parallel(\n\u001b[1;32m    532\u001b[0m             \u001b[0mfunc\u001b[0m\u001b[0;34m(\u001b[0m\u001b[0mrfe\u001b[0m\u001b[0;34m,\u001b[0m \u001b[0mself\u001b[0m\u001b[0;34m.\u001b[0m\u001b[0mestimator\u001b[0m\u001b[0;34m,\u001b[0m \u001b[0mX\u001b[0m\u001b[0;34m,\u001b[0m \u001b[0my\u001b[0m\u001b[0;34m,\u001b[0m \u001b[0mtrain\u001b[0m\u001b[0;34m,\u001b[0m \u001b[0mtest\u001b[0m\u001b[0;34m,\u001b[0m \u001b[0mscorer\u001b[0m\u001b[0;34m)\u001b[0m\u001b[0;34m\u001b[0m\u001b[0;34m\u001b[0m\u001b[0m\n\u001b[0;32m--> 533\u001b[0;31m             for train, test in cv.split(X, y, groups))\n\u001b[0m\u001b[1;32m    534\u001b[0m \u001b[0;34m\u001b[0m\u001b[0m\n\u001b[1;32m    535\u001b[0m         \u001b[0mscores\u001b[0m \u001b[0;34m=\u001b[0m \u001b[0mnp\u001b[0m\u001b[0;34m.\u001b[0m\u001b[0msum\u001b[0m\u001b[0;34m(\u001b[0m\u001b[0mscores\u001b[0m\u001b[0;34m,\u001b[0m \u001b[0maxis\u001b[0m\u001b[0;34m=\u001b[0m\u001b[0;36m0\u001b[0m\u001b[0;34m)\u001b[0m\u001b[0;34m\u001b[0m\u001b[0;34m\u001b[0m\u001b[0m\n",
            "\u001b[0;32m/usr/local/lib/python3.6/dist-packages/sklearn/feature_selection/_rfe.py\u001b[0m in \u001b[0;36m<genexpr>\u001b[0;34m(.0)\u001b[0m\n\u001b[1;32m    531\u001b[0m         scores = parallel(\n\u001b[1;32m    532\u001b[0m             \u001b[0mfunc\u001b[0m\u001b[0;34m(\u001b[0m\u001b[0mrfe\u001b[0m\u001b[0;34m,\u001b[0m \u001b[0mself\u001b[0m\u001b[0;34m.\u001b[0m\u001b[0mestimator\u001b[0m\u001b[0;34m,\u001b[0m \u001b[0mX\u001b[0m\u001b[0;34m,\u001b[0m \u001b[0my\u001b[0m\u001b[0;34m,\u001b[0m \u001b[0mtrain\u001b[0m\u001b[0;34m,\u001b[0m \u001b[0mtest\u001b[0m\u001b[0;34m,\u001b[0m \u001b[0mscorer\u001b[0m\u001b[0;34m)\u001b[0m\u001b[0;34m\u001b[0m\u001b[0;34m\u001b[0m\u001b[0m\n\u001b[0;32m--> 533\u001b[0;31m             for train, test in cv.split(X, y, groups))\n\u001b[0m\u001b[1;32m    534\u001b[0m \u001b[0;34m\u001b[0m\u001b[0m\n\u001b[1;32m    535\u001b[0m         \u001b[0mscores\u001b[0m \u001b[0;34m=\u001b[0m \u001b[0mnp\u001b[0m\u001b[0;34m.\u001b[0m\u001b[0msum\u001b[0m\u001b[0;34m(\u001b[0m\u001b[0mscores\u001b[0m\u001b[0;34m,\u001b[0m \u001b[0maxis\u001b[0m\u001b[0;34m=\u001b[0m\u001b[0;36m0\u001b[0m\u001b[0;34m)\u001b[0m\u001b[0;34m\u001b[0m\u001b[0;34m\u001b[0m\u001b[0m\n",
            "\u001b[0;32m/usr/local/lib/python3.6/dist-packages/sklearn/feature_selection/_rfe.py\u001b[0m in \u001b[0;36m_rfe_single_fit\u001b[0;34m(rfe, estimator, X, y, train, test, scorer)\u001b[0m\n\u001b[1;32m     31\u001b[0m     \u001b[0mX_test\u001b[0m\u001b[0;34m,\u001b[0m \u001b[0my_test\u001b[0m \u001b[0;34m=\u001b[0m \u001b[0m_safe_split\u001b[0m\u001b[0;34m(\u001b[0m\u001b[0mestimator\u001b[0m\u001b[0;34m,\u001b[0m \u001b[0mX\u001b[0m\u001b[0;34m,\u001b[0m \u001b[0my\u001b[0m\u001b[0;34m,\u001b[0m \u001b[0mtest\u001b[0m\u001b[0;34m,\u001b[0m \u001b[0mtrain\u001b[0m\u001b[0;34m)\u001b[0m\u001b[0;34m\u001b[0m\u001b[0;34m\u001b[0m\u001b[0m\n\u001b[1;32m     32\u001b[0m     return rfe._fit(\n\u001b[0;32m---> 33\u001b[0;31m         \u001b[0mX_train\u001b[0m\u001b[0;34m,\u001b[0m \u001b[0my_train\u001b[0m\u001b[0;34m,\u001b[0m \u001b[0;32mlambda\u001b[0m \u001b[0mestimator\u001b[0m\u001b[0;34m,\u001b[0m \u001b[0mfeatures\u001b[0m\u001b[0;34m:\u001b[0m\u001b[0;34m\u001b[0m\u001b[0;34m\u001b[0m\u001b[0m\n\u001b[0m\u001b[1;32m     34\u001b[0m         _score(estimator, X_test[:, features], y_test, scorer)).scores_\n\u001b[1;32m     35\u001b[0m \u001b[0;34m\u001b[0m\u001b[0m\n",
            "\u001b[0;32m/usr/local/lib/python3.6/dist-packages/sklearn/feature_selection/_rfe.py\u001b[0m in \u001b[0;36m_fit\u001b[0;34m(self, X, y, step_score)\u001b[0m\n\u001b[1;32m    196\u001b[0m                 \u001b[0mcoefs\u001b[0m \u001b[0;34m=\u001b[0m \u001b[0mgetattr\u001b[0m\u001b[0;34m(\u001b[0m\u001b[0mestimator\u001b[0m\u001b[0;34m,\u001b[0m \u001b[0;34m'feature_importances_'\u001b[0m\u001b[0;34m,\u001b[0m \u001b[0;32mNone\u001b[0m\u001b[0;34m)\u001b[0m\u001b[0;34m\u001b[0m\u001b[0;34m\u001b[0m\u001b[0m\n\u001b[1;32m    197\u001b[0m             \u001b[0;32mif\u001b[0m \u001b[0mcoefs\u001b[0m \u001b[0;32mis\u001b[0m \u001b[0;32mNone\u001b[0m\u001b[0;34m:\u001b[0m\u001b[0;34m\u001b[0m\u001b[0;34m\u001b[0m\u001b[0m\n\u001b[0;32m--> 198\u001b[0;31m                 raise RuntimeError('The classifier does not expose '\n\u001b[0m\u001b[1;32m    199\u001b[0m                                    \u001b[0;34m'\"coef_\" or \"feature_importances_\" '\u001b[0m\u001b[0;34m\u001b[0m\u001b[0;34m\u001b[0m\u001b[0m\n\u001b[1;32m    200\u001b[0m                                    'attributes')\n",
            "\u001b[0;31mRuntimeError\u001b[0m: The classifier does not expose \"coef_\" or \"feature_importances_\" attributes"
          ]
        }
      ]
    },
    {
      "cell_type": "markdown",
      "metadata": {
        "id": "FqLl7RNggs9n",
        "colab_type": "text"
      },
      "source": [
        "## Hyperparameter optimization of Random Forest Classifier"
      ]
    },
    {
      "cell_type": "code",
      "metadata": {
        "id": "05Yo1edF-Y_g",
        "colab_type": "code",
        "colab": {}
      },
      "source": [
        "# Our parameter to optimize is the number of estimators, which we vary uniformlybetween 1 and 400\n",
        "param_distributions = {'n_estimators': randint(1, 400)}\n",
        "\n",
        "# Now use the classifiers on all datasets\n",
        "fitted_clfs = list()\n",
        "    \n",
        "# Within a 5-fold cross-validation, try out 20 different number of trees\n",
        "clf = RandomizedSearchCV(RandomForestClassifier(), param_distributions, cv=5, n_iter=20, random_state=42)\n",
        "\n",
        "# Fit the classifier\n",
        "clf.fit(data_scaled_train2, label_train2)\n",
        "\n",
        "# Save for next part\n",
        "fitted_clfs.append(clf)"
      ],
      "execution_count": 0,
      "outputs": []
    },
    {
      "cell_type": "code",
      "metadata": {
        "id": "Txu-c2Eh-dEA",
        "colab_type": "code",
        "outputId": "dcef5ae7-b18c-4f86-9948-ccdf3b424267",
        "colab": {
          "base_uri": "https://localhost:8080/",
          "height": 187
        }
      },
      "source": [
        "# Get the best estimator and best parameters belonging to that estimator\n",
        "print(f'\\n The best estimator is {clf.best_estimator_} \\n The best amount of trees is {clf.best_params_}')"
      ],
      "execution_count": 0,
      "outputs": [
        {
          "output_type": "stream",
          "text": [
            "\n",
            " The best estimator is RandomForestClassifier(bootstrap=True, ccp_alpha=0.0, class_weight=None,\n",
            "                       criterion='gini', max_depth=None, max_features='auto',\n",
            "                       max_leaf_nodes=None, max_samples=None,\n",
            "                       min_impurity_decrease=0.0, min_impurity_split=None,\n",
            "                       min_samples_leaf=1, min_samples_split=2,\n",
            "                       min_weight_fraction_leaf=0.0, n_estimators=271,\n",
            "                       n_jobs=None, oob_score=False, random_state=None,\n",
            "                       verbose=0, warm_start=False) \n",
            " The best amount of trees is {'n_estimators': 271}\n"
          ],
          "name": "stdout"
        }
      ]
    },
    {
      "cell_type": "code",
      "metadata": {
        "id": "7cTNUpu7-h43",
        "colab_type": "code",
        "outputId": "cef7d638-a5b5-4883-897c-37bd16bde1cb",
        "colab": {
          "base_uri": "https://localhost:8080/",
          "height": 34
        }
      },
      "source": [
        "#Random Forest classifier as a function \n",
        "def RandomForest(n_trees,data_scaled_train,data_scaled_val,labels_train2,labels_val):\n",
        "  clf = RandomForestClassifier(n_estimators=n_trees, bootstrap=True)\n",
        "  clf.fit(data_scaled_train2,label_train2)\n",
        "  predictions_train = clf.predict(data_scaled_train2)\n",
        "  n_samples=len(data_scaled_train2)\n",
        "  errors_train = (sum(abs(predictions_train - label_train2))/n_samples)*100\n",
        "  errors_train = (round(errors_train, 2))\n",
        "  accuracy_train=100-errors_train\n",
        "\n",
        "  clf.fit(data_scaled_val,label_val)\n",
        "  predictions_val = clf.predict(data_scaled_val)\n",
        "  n_samples=len(data_scaled_val)\n",
        "  errors_val = (sum(abs(predictions_val - label_val))/n_samples)*100\n",
        "  errors_val = (round(errors_val, 2))\n",
        "  accuracy_val=100-errors_val\n",
        "\n",
        "  return (accuracy_train, accuracy_val)\n",
        "\n",
        "acc = RandomForest(15,data_scaled_train2,data_scaled_val,label_train2,label_val)\n",
        "print(f'Accuracy of Random Forest Classifier for the training set is {acc[0]} and for the validation set is {acc[1]}')"
      ],
      "execution_count": 0,
      "outputs": [
        {
          "output_type": "stream",
          "text": [
            "Accuracy of Random Forest Classifier for the training set is 99.15 and for the validation set is 100.0\n"
          ],
          "name": "stdout"
        }
      ]
    },
    {
      "cell_type": "code",
      "metadata": {
        "id": "usv5Ku1M-ktj",
        "colab_type": "code",
        "outputId": "0ded1b1d-6fb8-4c79-f0da-202e5240da4d",
        "colab": {
          "base_uri": "https://localhost:8080/",
          "height": 34
        }
      },
      "source": [
        "predictions_test = clf.predict(data_scaled_test)\n",
        "n_samples=len(data_scaled_test)\n",
        "errors_test = (sum(abs(predictions_test - label_test))/n_samples)*100\n",
        "errors_test = (round(errors_test, 2))\n",
        "accuracy_test=100-errors_test\n",
        "\n",
        "print(f'Accuracy of Random Forest Classifier for the test set is {accuracy_test}')"
      ],
      "execution_count": 0,
      "outputs": [
        {
          "output_type": "stream",
          "text": [
            "Accuracy of Random Forest Classifier for the test set is 86.67\n"
          ],
          "name": "stdout"
        }
      ]
    },
    {
      "cell_type": "markdown",
      "metadata": {
        "id": "gL04AA6EH9_7",
        "colab_type": "text"
      },
      "source": [
        "## Support Vector Machine with PCA"
      ]
    },
    {
      "cell_type": "code",
      "metadata": {
        "id": "7ePcN2CQIBwu",
        "colab_type": "code",
        "outputId": "99783902-f017-47dd-84d4-3d85b7110e10",
        "colab": {
          "base_uri": "https://localhost:8080/"
        }
      },
      "source": [
        "#Construct classifiers\n",
        "svmlin = SVC(kernel='linear', gamma='scale') # linear kernel \n",
        "svmrbf = SVC(kernel='rbf', gamma='scale') # radial basis function kernel \n",
        "svmpoly = SVC(kernel='poly', degree=3, gamma='scale') # polynomial kernel\n",
        "\n",
        "clsfs = [svmlin, svmrbf, svmpoly]\n",
        "\n",
        "# for clf in clsfs: # voor alle classifiers in lijst\n",
        "#    clf.fit(data_train_pca2, label_train2) # fit classifier op trainingsset\n",
        "#    val = clf.predict(data_val) # test classifier op testset\n",
        "#    error = (sum(abs(val - label_val))/len(data_val))*100 # hoevaak fout? \n",
        "#    error = (round(error, 2))\n",
        "#    accuracy = 100 - error\n",
        "    # print(f'The Accuracy of SVM is {accuracy}%')\n",
        "\n",
        "# functie\n",
        "def SVM(clsfs, data_df_train2, data_df_val, label_train2, label_val): \n",
        "    accuracies_train = list()\n",
        "    accuracies_val = list()\n",
        "\n",
        "    for clf in clsfs:\n",
        "      clf.fit(data_df_train2,label_train2)\n",
        "      predictions_train = clf.predict(data_df_train2)\n",
        "      n_samples=len(data_df_train2)\n",
        "      errors_train = (sum(abs(predictions_train - label_train2))/n_samples)*100\n",
        "      errors_train = (round(errors_train, 2))\n",
        "      accuracy_train=100-errors_train\n",
        "      accuracies_train.append(accuracy_train)\n",
        "      \n",
        "      clf.fit(data_df_val,label_val)\n",
        "      predictions_val = clf.predict(data_df_val)\n",
        "      n_samples=len(data_df_val)\n",
        "      errors_val = (sum(abs(predictions_val - label_val))/n_samples)*100\n",
        "      errors_val = (round(errors_val, 2))\n",
        "      accuracy_val=100-errors_val\n",
        "      accuracies_val.append(accuracy_val)\n",
        "\n",
        "    return (accuracies_train, accuracies_val)\n",
        "\n",
        "accuracies_train, accuracies_val = SVM(clsfs, data_train_pca2, data_val_pca, label_train2, label_val)\n",
        "\n",
        "clsfs_names = ['SVM with linear kernel', 'SVM with radial basis function kernel', 'SVM with polynomial kernel']\n",
        "for num, acc_train in enumerate(accuracies_train):\n",
        "    print(f'\\n The accuracy of {clsfs_names[num]} is {acc_train}% for the train set and {accuracies_val[num]}% for the validation set')\n"
      ],
      "execution_count": 0,
      "outputs": [
        {
          "output_type": "stream",
          "text": [
            "\n",
            " The accuracy of SVM with linear kernel is 100.0% for the train set and 100.0% for the validation set\n",
            "\n",
            " The accuracy of SVM with radial basis function kernel is 67.52000000000001% for the train set and 92.86% for the validation set\n",
            "\n",
            " The accuracy of SVM with polynomial kernel is 67.52000000000001% for the train set and 92.86% for the validation set\n"
          ],
          "name": "stdout"
        }
      ]
    },
    {
      "cell_type": "markdown",
      "metadata": {
        "id": "fuluNEEqjEoY",
        "colab_type": "text"
      },
      "source": [
        "## Hyperparameters SVM"
      ]
    },
    {
      "cell_type": "code",
      "metadata": {
        "id": "CrU_YknbHARw",
        "colab_type": "code",
        "outputId": "af2319a1-f2ca-4510-fa04-cf8e9ebee74b",
        "colab": {
          "base_uri": "https://localhost:8080/",
          "height": 1000
        }
      },
      "source": [
        "# Parameters\n",
        "degrees = randint(1, 5)\n",
        "coef0s = [1, 0.5, 0.01]\n",
        "slacks = [0.1,1, 10, 100]\n",
        "gammas = [1, 0.1 ,0.01, 0.001]\n",
        "kernels = ['linear', 'rbf', 'poly']\n",
        "\n",
        "# Creating paramater space\n",
        "param_grid = {'degree': degrees,'coef0': coef0s, 'C': slacks, 'gamma': gammas, 'kernel': kernels}\n",
        "\n",
        "# Searching for best parameters\n",
        "SVM = RandomizedSearchCV(SVC(),param_grid,cv=5, random_state=42, return_train_score=True)\n",
        "# Fitting classifier on training set\n",
        "SVM.fit(data_train_pca2, label_train2)\n",
        "\n",
        "# Predict parameters\n",
        "train2_pred = SVM.predict(data_train_pca2)\n",
        "val_pred = SVM.predict(data_val_pca)\n",
        "# train_pred = SVM.predict(data_train_pca)\n",
        "test_pred = SVM.predict(data_test_pca)\n",
        "\n",
        "# Calculating scores\n",
        "folds = 3\n",
        "score = cross_val_score(SVM.best_estimator_, data_df_train, label_train, cv=folds)  # Train set\n",
        "mean_score = score.mean()\n",
        "\n",
        "# Print final best estimator and accuracies\n",
        "# Best estimator\n",
        "print(\"\\n###############################################################\")\n",
        "print(f'\\n The best estimator is {SVM.best_estimator_} \\n \\n The best settings are {SVM.best_params_}\\n')\n",
        "print(\"###############################################################\\n\")\n",
        "\n",
        "\n",
        "# Confusion matrix and classification report\n",
        "print('Confusion matrix and classification report of training set')\n",
        "print(confusion_matrix(label_train2, train2_pred))\n",
        "print(classification_report(label_train2, train2_pred))\n",
        "print(\"---------------------------------------------------------------\\n\")\n",
        "\n",
        "print('Confusion matrix and classification report of validation set')\n",
        "print(confusion_matrix(label_val, val_pred))\n",
        "print(classification_report(label_val, val_pred))\n",
        "print(\"---------------------------------------------------------------\\n\")\n",
        "\n",
        "print('Confusion matrix and classification report of test set')\n",
        "print(confusion_matrix(label_test, test_pred))\n",
        "print(classification_report(label_test, test_pred))\n",
        "\n",
        "# Accuracy of Validation set:\n",
        "print(\"\\n###############################################################\\n\")\n",
        "print(f'\\n The accuracy of the validation set in the n={folds} different folds is {score}')\n",
        "print(f'\\n The mean accuracy of the validation set of n={folds} different folds is {mean_score}')\n",
        "print(\"\\n###############################################################\\n\")\n",
        "\n",
        "# Evaluate SVM on training set\n",
        "acc_train = accuracy_score(label_train2, train2_pred)\n",
        "print(f'\\n The accuracy of the training set is {acc_train}')\n",
        "\n",
        "# Evaluate SVM on validation set\n",
        "acc_val = accuracy_score(label_val, val_pred)\n",
        "print(f'\\n The accuracy of the validation set is {acc_val}')\n",
        "\n",
        "# Evaluate SVM on test set\n",
        "acc_test = accuracy_score(label_test, test_pred)\n",
        "print(f'\\n The accuracy of the test set is {acc_test}')"
      ],
      "execution_count": 0,
      "outputs": [
        {
          "output_type": "stream",
          "text": [
            "\n",
            "###############################################################\n",
            "\n",
            " The best estimator is SVC(C=10, break_ties=False, cache_size=200, class_weight=None, coef0=1,\n",
            "    decision_function_shape='ovr', degree=3, gamma=0.01, kernel='linear',\n",
            "    max_iter=-1, probability=False, random_state=None, shrinking=True,\n",
            "    tol=0.001, verbose=False) \n",
            " \n",
            " The best settings are {'C': 10, 'coef0': 1, 'degree': 3, 'gamma': 0.01, 'kernel': 'linear'}\n",
            "\n",
            "###############################################################\n",
            "\n",
            "Confusion matrix and classification report of training set\n",
            "[[83  0]\n",
            " [ 0 34]]\n",
            "              precision    recall  f1-score   support\n",
            "\n",
            "           0       1.00      1.00      1.00        83\n",
            "           1       1.00      1.00      1.00        34\n",
            "\n",
            "    accuracy                           1.00       117\n",
            "   macro avg       1.00      1.00      1.00       117\n",
            "weighted avg       1.00      1.00      1.00       117\n",
            "\n",
            "---------------------------------------------------------------\n",
            "\n",
            "Confusion matrix and classification report of validation set\n",
            "[[10  0]\n",
            " [ 1  3]]\n",
            "              precision    recall  f1-score   support\n",
            "\n",
            "           0       0.91      1.00      0.95        10\n",
            "           1       1.00      0.75      0.86         4\n",
            "\n",
            "    accuracy                           0.93        14\n",
            "   macro avg       0.95      0.88      0.90        14\n",
            "weighted avg       0.94      0.93      0.93        14\n",
            "\n",
            "---------------------------------------------------------------\n",
            "\n",
            "Confusion matrix and classification report of test set\n",
            "[[8 1]\n",
            " [1 5]]\n",
            "              precision    recall  f1-score   support\n",
            "\n",
            "           0       0.89      0.89      0.89         9\n",
            "           1       0.83      0.83      0.83         6\n",
            "\n",
            "    accuracy                           0.87        15\n",
            "   macro avg       0.86      0.86      0.86        15\n",
            "weighted avg       0.87      0.87      0.87        15\n",
            "\n",
            "\n",
            "###############################################################\n",
            "\n",
            "\n",
            " The accuracy of the validation set in the n=3 different folds is [0.84090909 0.88636364 0.8372093 ]\n",
            "\n",
            " The mean accuracy of the validation set of n=3 different folds is 0.8548273431994362\n",
            "\n",
            "###############################################################\n",
            "\n",
            "\n",
            " The accuracy of the training set is 1.0\n",
            "\n",
            " The accuracy of the validation set is 0.9285714285714286\n",
            "\n",
            " The accuracy of the test set is 0.8666666666666667\n"
          ],
          "name": "stdout"
        }
      ]
    },
    {
      "cell_type": "markdown",
      "metadata": {
        "id": "nSEXIhNo9jtU",
        "colab_type": "text"
      },
      "source": [
        "## Neural Networks"
      ]
    },
    {
      "cell_type": "code",
      "metadata": {
        "id": "bODUN5a09lfX",
        "colab_type": "code",
        "outputId": "f0a39e17-b35d-4b50-cddf-e77180603cf5",
        "colab": {
          "base_uri": "https://localhost:8080/",
          "height": 935
        }
      },
      "source": [
        "# Hyperparameter optimization of Neural Network\n",
        "\n",
        "# Define parameter space that needs to be optimized\n",
        "parameter_space = {\n",
        "    'hidden_layer_sizes': [(50,50,50), (50,100,50), (100,), (7,2), (7,7,7),(9,9,9,9),(50,50,50,50), (50,50,50,50,50)],\n",
        "    'activation': ['logistic','identity','tanh'], \n",
        "    'solver': ['sgd', 'adam'],\n",
        "    'alpha': [0.0001, 0.05],\n",
        "    'learning_rate': ['constant','adaptive'],\n",
        "}\n",
        "    \n",
        "# Execute RandomizedSearchCV to find optimal parameters\n",
        "clf_mlp = RandomizedSearchCV(MLPClassifier(max_iter=2000), parameter_space, cv=5, random_state=42, return_train_score=True)  # Verbose=2 & refit=True uitzoeken\n",
        "\n",
        "# Fit the classifier\n",
        "clf_mlp.fit(data_train, label_train)\n",
        "\n",
        "# Get the best parameters for the MLP estimator\n",
        "print('Best parameters found:\\n', clf_mlp.best_params_)\n"
      ],
      "execution_count": 27,
      "outputs": [
        {
          "output_type": "stream",
          "text": [
            "/usr/local/lib/python3.6/dist-packages/sklearn/utils/extmath.py:151: RuntimeWarning: overflow encountered in matmul\n",
            "  ret = a @ b\n",
            "/usr/local/lib/python3.6/dist-packages/sklearn/utils/extmath.py:151: RuntimeWarning: invalid value encountered in matmul\n",
            "  ret = a @ b\n",
            "/usr/local/lib/python3.6/dist-packages/sklearn/neural_network/_multilayer_perceptron.py:571: ConvergenceWarning: Stochastic Optimizer: Maximum iterations (2000) reached and the optimization hasn't converged yet.\n",
            "  % self.max_iter, ConvergenceWarning)\n",
            "/usr/local/lib/python3.6/dist-packages/sklearn/preprocessing/_label.py:768: RuntimeWarning: invalid value encountered in greater\n",
            "  y = np.array(y > threshold, dtype=np.int)\n",
            "/usr/local/lib/python3.6/dist-packages/sklearn/preprocessing/_label.py:768: RuntimeWarning: invalid value encountered in greater\n",
            "  y = np.array(y > threshold, dtype=np.int)\n",
            "/usr/local/lib/python3.6/dist-packages/sklearn/utils/extmath.py:151: RuntimeWarning: overflow encountered in matmul\n",
            "  ret = a @ b\n",
            "/usr/local/lib/python3.6/dist-packages/sklearn/utils/extmath.py:151: RuntimeWarning: invalid value encountered in matmul\n",
            "  ret = a @ b\n",
            "/usr/local/lib/python3.6/dist-packages/sklearn/neural_network/_multilayer_perceptron.py:571: ConvergenceWarning: Stochastic Optimizer: Maximum iterations (2000) reached and the optimization hasn't converged yet.\n",
            "  % self.max_iter, ConvergenceWarning)\n",
            "/usr/local/lib/python3.6/dist-packages/sklearn/preprocessing/_label.py:768: RuntimeWarning: invalid value encountered in greater\n",
            "  y = np.array(y > threshold, dtype=np.int)\n",
            "/usr/local/lib/python3.6/dist-packages/sklearn/preprocessing/_label.py:768: RuntimeWarning: invalid value encountered in greater\n",
            "  y = np.array(y > threshold, dtype=np.int)\n",
            "/usr/local/lib/python3.6/dist-packages/sklearn/utils/extmath.py:151: RuntimeWarning: overflow encountered in matmul\n",
            "  ret = a @ b\n",
            "/usr/local/lib/python3.6/dist-packages/sklearn/utils/extmath.py:151: RuntimeWarning: invalid value encountered in matmul\n",
            "  ret = a @ b\n",
            "/usr/local/lib/python3.6/dist-packages/sklearn/neural_network/_multilayer_perceptron.py:571: ConvergenceWarning: Stochastic Optimizer: Maximum iterations (2000) reached and the optimization hasn't converged yet.\n",
            "  % self.max_iter, ConvergenceWarning)\n",
            "/usr/local/lib/python3.6/dist-packages/sklearn/preprocessing/_label.py:768: RuntimeWarning: invalid value encountered in greater\n",
            "  y = np.array(y > threshold, dtype=np.int)\n",
            "/usr/local/lib/python3.6/dist-packages/sklearn/preprocessing/_label.py:768: RuntimeWarning: invalid value encountered in greater\n",
            "  y = np.array(y > threshold, dtype=np.int)\n",
            "/usr/local/lib/python3.6/dist-packages/sklearn/utils/extmath.py:151: RuntimeWarning: overflow encountered in matmul\n",
            "  ret = a @ b\n",
            "/usr/local/lib/python3.6/dist-packages/sklearn/utils/extmath.py:151: RuntimeWarning: invalid value encountered in matmul\n",
            "  ret = a @ b\n",
            "/usr/local/lib/python3.6/dist-packages/sklearn/neural_network/_multilayer_perceptron.py:571: ConvergenceWarning: Stochastic Optimizer: Maximum iterations (2000) reached and the optimization hasn't converged yet.\n",
            "  % self.max_iter, ConvergenceWarning)\n",
            "/usr/local/lib/python3.6/dist-packages/sklearn/preprocessing/_label.py:768: RuntimeWarning: invalid value encountered in greater\n",
            "  y = np.array(y > threshold, dtype=np.int)\n",
            "/usr/local/lib/python3.6/dist-packages/sklearn/preprocessing/_label.py:768: RuntimeWarning: invalid value encountered in greater\n",
            "  y = np.array(y > threshold, dtype=np.int)\n",
            "/usr/local/lib/python3.6/dist-packages/sklearn/utils/extmath.py:151: RuntimeWarning: overflow encountered in matmul\n",
            "  ret = a @ b\n",
            "/usr/local/lib/python3.6/dist-packages/sklearn/utils/extmath.py:151: RuntimeWarning: invalid value encountered in matmul\n",
            "  ret = a @ b\n",
            "/usr/local/lib/python3.6/dist-packages/numpy/core/_methods.py:151: RuntimeWarning: invalid value encountered in reduce\n",
            "  ret = umr_sum(arr, axis, dtype, out, keepdims)\n",
            "/usr/local/lib/python3.6/dist-packages/sklearn/neural_network/_multilayer_perceptron.py:571: ConvergenceWarning: Stochastic Optimizer: Maximum iterations (2000) reached and the optimization hasn't converged yet.\n",
            "  % self.max_iter, ConvergenceWarning)\n",
            "/usr/local/lib/python3.6/dist-packages/sklearn/preprocessing/_label.py:768: RuntimeWarning: invalid value encountered in greater\n",
            "  y = np.array(y > threshold, dtype=np.int)\n",
            "/usr/local/lib/python3.6/dist-packages/sklearn/preprocessing/_label.py:768: RuntimeWarning: invalid value encountered in greater\n",
            "  y = np.array(y > threshold, dtype=np.int)\n"
          ],
          "name": "stderr"
        },
        {
          "output_type": "stream",
          "text": [
            "Best parameters found:\n",
            " {'solver': 'adam', 'learning_rate': 'constant', 'hidden_layer_sizes': (7, 7, 7), 'alpha': 0.05, 'activation': 'identity'}\n"
          ],
          "name": "stdout"
        }
      ]
    },
    {
      "cell_type": "code",
      "metadata": {
        "id": "DBP3UFzJ94oY",
        "colab_type": "code",
        "outputId": "179931c5-58b9-4a7a-b5ea-4782b51b0fab",
        "colab": {
          "base_uri": "https://localhost:8080/",
          "height": 821
        }
      },
      "source": [
        "# Plot the dataframe of the hyperparameter optimization\n",
        "pd.DataFrame(clf_mlp.cv_results_)"
      ],
      "execution_count": 0,
      "outputs": [
        {
          "output_type": "execute_result",
          "data": {
            "text/html": [
              "<div>\n",
              "<style scoped>\n",
              "    .dataframe tbody tr th:only-of-type {\n",
              "        vertical-align: middle;\n",
              "    }\n",
              "\n",
              "    .dataframe tbody tr th {\n",
              "        vertical-align: top;\n",
              "    }\n",
              "\n",
              "    .dataframe thead th {\n",
              "        text-align: right;\n",
              "    }\n",
              "</style>\n",
              "<table border=\"1\" class=\"dataframe\">\n",
              "  <thead>\n",
              "    <tr style=\"text-align: right;\">\n",
              "      <th></th>\n",
              "      <th>mean_fit_time</th>\n",
              "      <th>std_fit_time</th>\n",
              "      <th>mean_score_time</th>\n",
              "      <th>std_score_time</th>\n",
              "      <th>param_solver</th>\n",
              "      <th>param_learning_rate</th>\n",
              "      <th>param_hidden_layer_sizes</th>\n",
              "      <th>param_alpha</th>\n",
              "      <th>param_activation</th>\n",
              "      <th>params</th>\n",
              "      <th>split0_test_score</th>\n",
              "      <th>split1_test_score</th>\n",
              "      <th>split2_test_score</th>\n",
              "      <th>split3_test_score</th>\n",
              "      <th>split4_test_score</th>\n",
              "      <th>mean_test_score</th>\n",
              "      <th>std_test_score</th>\n",
              "      <th>rank_test_score</th>\n",
              "      <th>split0_train_score</th>\n",
              "      <th>split1_train_score</th>\n",
              "      <th>split2_train_score</th>\n",
              "      <th>split3_train_score</th>\n",
              "      <th>split4_train_score</th>\n",
              "      <th>mean_train_score</th>\n",
              "      <th>std_train_score</th>\n",
              "    </tr>\n",
              "  </thead>\n",
              "  <tbody>\n",
              "    <tr>\n",
              "      <th>0</th>\n",
              "      <td>0.299022</td>\n",
              "      <td>0.271891</td>\n",
              "      <td>0.004074</td>\n",
              "      <td>0.000240</td>\n",
              "      <td>adam</td>\n",
              "      <td>constant</td>\n",
              "      <td>(7, 2)</td>\n",
              "      <td>0.05</td>\n",
              "      <td>logistic</td>\n",
              "      <td>{'solver': 'adam', 'learning_rate': 'constant'...</td>\n",
              "      <td>0.703704</td>\n",
              "      <td>0.692308</td>\n",
              "      <td>0.692308</td>\n",
              "      <td>0.307692</td>\n",
              "      <td>0.692308</td>\n",
              "      <td>0.617664</td>\n",
              "      <td>0.155049</td>\n",
              "      <td>9</td>\n",
              "      <td>0.692308</td>\n",
              "      <td>0.695238</td>\n",
              "      <td>0.695238</td>\n",
              "      <td>0.304762</td>\n",
              "      <td>0.695238</td>\n",
              "      <td>0.616557</td>\n",
              "      <td>0.155902</td>\n",
              "    </tr>\n",
              "    <tr>\n",
              "      <th>1</th>\n",
              "      <td>2.478899</td>\n",
              "      <td>1.135125</td>\n",
              "      <td>0.004381</td>\n",
              "      <td>0.000071</td>\n",
              "      <td>sgd</td>\n",
              "      <td>constant</td>\n",
              "      <td>(100,)</td>\n",
              "      <td>0.0001</td>\n",
              "      <td>tanh</td>\n",
              "      <td>{'solver': 'sgd', 'learning_rate': 'constant',...</td>\n",
              "      <td>0.740741</td>\n",
              "      <td>0.730769</td>\n",
              "      <td>0.692308</td>\n",
              "      <td>0.769231</td>\n",
              "      <td>0.769231</td>\n",
              "      <td>0.740456</td>\n",
              "      <td>0.028524</td>\n",
              "      <td>2</td>\n",
              "      <td>0.875000</td>\n",
              "      <td>0.828571</td>\n",
              "      <td>0.695238</td>\n",
              "      <td>0.847619</td>\n",
              "      <td>0.876190</td>\n",
              "      <td>0.824524</td>\n",
              "      <td>0.067055</td>\n",
              "    </tr>\n",
              "    <tr>\n",
              "      <th>2</th>\n",
              "      <td>2.187029</td>\n",
              "      <td>0.024433</td>\n",
              "      <td>0.004357</td>\n",
              "      <td>0.000265</td>\n",
              "      <td>sgd</td>\n",
              "      <td>constant</td>\n",
              "      <td>(7, 2)</td>\n",
              "      <td>0.0001</td>\n",
              "      <td>identity</td>\n",
              "      <td>{'solver': 'sgd', 'learning_rate': 'constant',...</td>\n",
              "      <td>0.703704</td>\n",
              "      <td>0.692308</td>\n",
              "      <td>0.692308</td>\n",
              "      <td>0.692308</td>\n",
              "      <td>0.692308</td>\n",
              "      <td>0.694587</td>\n",
              "      <td>0.004558</td>\n",
              "      <td>3</td>\n",
              "      <td>0.692308</td>\n",
              "      <td>0.695238</td>\n",
              "      <td>0.695238</td>\n",
              "      <td>0.695238</td>\n",
              "      <td>0.695238</td>\n",
              "      <td>0.694652</td>\n",
              "      <td>0.001172</td>\n",
              "    </tr>\n",
              "    <tr>\n",
              "      <th>3</th>\n",
              "      <td>0.109056</td>\n",
              "      <td>0.051416</td>\n",
              "      <td>0.004101</td>\n",
              "      <td>0.000178</td>\n",
              "      <td>adam</td>\n",
              "      <td>adaptive</td>\n",
              "      <td>(7, 2)</td>\n",
              "      <td>0.0001</td>\n",
              "      <td>tanh</td>\n",
              "      <td>{'solver': 'adam', 'learning_rate': 'adaptive'...</td>\n",
              "      <td>0.333333</td>\n",
              "      <td>0.192308</td>\n",
              "      <td>0.307692</td>\n",
              "      <td>0.692308</td>\n",
              "      <td>0.692308</td>\n",
              "      <td>0.443590</td>\n",
              "      <td>0.208561</td>\n",
              "      <td>10</td>\n",
              "      <td>0.490385</td>\n",
              "      <td>0.380952</td>\n",
              "      <td>0.466667</td>\n",
              "      <td>0.695238</td>\n",
              "      <td>0.742857</td>\n",
              "      <td>0.555220</td>\n",
              "      <td>0.139447</td>\n",
              "    </tr>\n",
              "    <tr>\n",
              "      <th>4</th>\n",
              "      <td>1.718686</td>\n",
              "      <td>0.424521</td>\n",
              "      <td>0.004168</td>\n",
              "      <td>0.000063</td>\n",
              "      <td>adam</td>\n",
              "      <td>constant</td>\n",
              "      <td>(7, 7, 7)</td>\n",
              "      <td>0.05</td>\n",
              "      <td>identity</td>\n",
              "      <td>{'solver': 'adam', 'learning_rate': 'constant'...</td>\n",
              "      <td>0.777778</td>\n",
              "      <td>0.807692</td>\n",
              "      <td>0.769231</td>\n",
              "      <td>0.730769</td>\n",
              "      <td>0.769231</td>\n",
              "      <td>0.770940</td>\n",
              "      <td>0.024564</td>\n",
              "      <td>1</td>\n",
              "      <td>0.884615</td>\n",
              "      <td>0.923810</td>\n",
              "      <td>0.942857</td>\n",
              "      <td>0.942857</td>\n",
              "      <td>0.971429</td>\n",
              "      <td>0.933114</td>\n",
              "      <td>0.028624</td>\n",
              "    </tr>\n",
              "    <tr>\n",
              "      <th>5</th>\n",
              "      <td>0.111279</td>\n",
              "      <td>0.041251</td>\n",
              "      <td>0.004158</td>\n",
              "      <td>0.000114</td>\n",
              "      <td>adam</td>\n",
              "      <td>constant</td>\n",
              "      <td>(7, 7, 7)</td>\n",
              "      <td>0.05</td>\n",
              "      <td>tanh</td>\n",
              "      <td>{'solver': 'adam', 'learning_rate': 'constant'...</td>\n",
              "      <td>0.740741</td>\n",
              "      <td>0.692308</td>\n",
              "      <td>0.692308</td>\n",
              "      <td>0.653846</td>\n",
              "      <td>0.692308</td>\n",
              "      <td>0.694302</td>\n",
              "      <td>0.027587</td>\n",
              "      <td>7</td>\n",
              "      <td>0.615385</td>\n",
              "      <td>0.695238</td>\n",
              "      <td>0.714286</td>\n",
              "      <td>0.695238</td>\n",
              "      <td>0.704762</td>\n",
              "      <td>0.684982</td>\n",
              "      <td>0.035508</td>\n",
              "    </tr>\n",
              "    <tr>\n",
              "      <th>6</th>\n",
              "      <td>0.219620</td>\n",
              "      <td>0.142995</td>\n",
              "      <td>0.004013</td>\n",
              "      <td>0.000146</td>\n",
              "      <td>adam</td>\n",
              "      <td>adaptive</td>\n",
              "      <td>(7, 2)</td>\n",
              "      <td>0.0001</td>\n",
              "      <td>logistic</td>\n",
              "      <td>{'solver': 'adam', 'learning_rate': 'adaptive'...</td>\n",
              "      <td>0.703704</td>\n",
              "      <td>0.692308</td>\n",
              "      <td>0.692308</td>\n",
              "      <td>0.692308</td>\n",
              "      <td>0.692308</td>\n",
              "      <td>0.694587</td>\n",
              "      <td>0.004558</td>\n",
              "      <td>3</td>\n",
              "      <td>0.692308</td>\n",
              "      <td>0.695238</td>\n",
              "      <td>0.695238</td>\n",
              "      <td>0.695238</td>\n",
              "      <td>0.695238</td>\n",
              "      <td>0.694652</td>\n",
              "      <td>0.001172</td>\n",
              "    </tr>\n",
              "    <tr>\n",
              "      <th>7</th>\n",
              "      <td>0.185261</td>\n",
              "      <td>0.109540</td>\n",
              "      <td>0.004246</td>\n",
              "      <td>0.000157</td>\n",
              "      <td>sgd</td>\n",
              "      <td>adaptive</td>\n",
              "      <td>(7, 7, 7)</td>\n",
              "      <td>0.0001</td>\n",
              "      <td>logistic</td>\n",
              "      <td>{'solver': 'sgd', 'learning_rate': 'adaptive',...</td>\n",
              "      <td>0.703704</td>\n",
              "      <td>0.692308</td>\n",
              "      <td>0.692308</td>\n",
              "      <td>0.692308</td>\n",
              "      <td>0.692308</td>\n",
              "      <td>0.694587</td>\n",
              "      <td>0.004558</td>\n",
              "      <td>3</td>\n",
              "      <td>0.692308</td>\n",
              "      <td>0.695238</td>\n",
              "      <td>0.695238</td>\n",
              "      <td>0.695238</td>\n",
              "      <td>0.695238</td>\n",
              "      <td>0.694652</td>\n",
              "      <td>0.001172</td>\n",
              "    </tr>\n",
              "    <tr>\n",
              "      <th>8</th>\n",
              "      <td>0.220436</td>\n",
              "      <td>0.104478</td>\n",
              "      <td>0.004046</td>\n",
              "      <td>0.000098</td>\n",
              "      <td>sgd</td>\n",
              "      <td>constant</td>\n",
              "      <td>(7, 7, 7)</td>\n",
              "      <td>0.0001</td>\n",
              "      <td>logistic</td>\n",
              "      <td>{'solver': 'sgd', 'learning_rate': 'constant',...</td>\n",
              "      <td>0.703704</td>\n",
              "      <td>0.692308</td>\n",
              "      <td>0.692308</td>\n",
              "      <td>0.692308</td>\n",
              "      <td>0.692308</td>\n",
              "      <td>0.694587</td>\n",
              "      <td>0.004558</td>\n",
              "      <td>3</td>\n",
              "      <td>0.692308</td>\n",
              "      <td>0.695238</td>\n",
              "      <td>0.695238</td>\n",
              "      <td>0.695238</td>\n",
              "      <td>0.695238</td>\n",
              "      <td>0.694652</td>\n",
              "      <td>0.001172</td>\n",
              "    </tr>\n",
              "    <tr>\n",
              "      <th>9</th>\n",
              "      <td>0.354048</td>\n",
              "      <td>0.037892</td>\n",
              "      <td>0.004274</td>\n",
              "      <td>0.000095</td>\n",
              "      <td>adam</td>\n",
              "      <td>constant</td>\n",
              "      <td>(100,)</td>\n",
              "      <td>0.0001</td>\n",
              "      <td>logistic</td>\n",
              "      <td>{'solver': 'adam', 'learning_rate': 'constant'...</td>\n",
              "      <td>0.629630</td>\n",
              "      <td>0.692308</td>\n",
              "      <td>0.692308</td>\n",
              "      <td>0.615385</td>\n",
              "      <td>0.692308</td>\n",
              "      <td>0.664387</td>\n",
              "      <td>0.034491</td>\n",
              "      <td>8</td>\n",
              "      <td>0.730769</td>\n",
              "      <td>0.685714</td>\n",
              "      <td>0.695238</td>\n",
              "      <td>0.695238</td>\n",
              "      <td>0.714286</td>\n",
              "      <td>0.704249</td>\n",
              "      <td>0.016186</td>\n",
              "    </tr>\n",
              "  </tbody>\n",
              "</table>\n",
              "</div>"
            ],
            "text/plain": [
              "   mean_fit_time  std_fit_time  ...  mean_train_score  std_train_score\n",
              "0       0.299022      0.271891  ...          0.616557         0.155902\n",
              "1       2.478899      1.135125  ...          0.824524         0.067055\n",
              "2       2.187029      0.024433  ...          0.694652         0.001172\n",
              "3       0.109056      0.051416  ...          0.555220         0.139447\n",
              "4       1.718686      0.424521  ...          0.933114         0.028624\n",
              "5       0.111279      0.041251  ...          0.684982         0.035508\n",
              "6       0.219620      0.142995  ...          0.694652         0.001172\n",
              "7       0.185261      0.109540  ...          0.694652         0.001172\n",
              "8       0.220436      0.104478  ...          0.694652         0.001172\n",
              "9       0.354048      0.037892  ...          0.704249         0.016186\n",
              "\n",
              "[10 rows x 25 columns]"
            ]
          },
          "metadata": {
            "tags": []
          },
          "execution_count": 12
        }
      ]
    },
    {
      "cell_type": "code",
      "metadata": {
        "id": "VuBiRAuB96Yf",
        "colab_type": "code",
        "colab": {}
      },
      "source": [
        "# Fitting the Neural Network Classifier with optimal hyperparameters\n",
        "MLP = MLPClassifier(solver='adam', learning_rate='constant',hidden_layer_sizes=(9,9,9,9), alpha=0.0001, activation='identity')\n",
        "MLP.fit(data_df_train2, label_train2)\n",
        "\n",
        "# Predictions\n",
        "train2_pred_MLP = MLP.predict(data_df_train2)\n",
        "val_pred_MLP = MLP.predict(data_df_val)\n",
        "train_pred_MLP = MLP.predict(data_df_train)\n",
        "test_pred_MLP = MLP.predict(data_df_test)\n"
      ],
      "execution_count": 0,
      "outputs": []
    },
    {
      "cell_type": "code",
      "metadata": {
        "id": "AiVEssBr98he",
        "colab_type": "code",
        "outputId": "07b20750-7376-4837-e36f-d50d7ae6a764",
        "colab": {
          "base_uri": "https://localhost:8080/",
          "height": 204
        }
      },
      "source": [
        "# Evaluate neural network using cross-validation\n",
        "score = cross_val_score(MLP, data_df_train, label_train, cv=10)\n",
        "mean_score = score.mean()\n",
        "\n",
        "print(f'\\n The accuracy of the validation set in 10 different folds is {score}')\n",
        "print(f'\\n The mean accuracy of the validation set of 10 different folds is {mean_score}')\n",
        "\n",
        "# Evaluate accuracy of neural network on training set\n",
        "acc_train = accuracy_score(label_train2, train2_pred_MLP)\n",
        "print(f'\\n The accuracy of the training set is {acc_train}')\n",
        "\n",
        "# Evaluate accuracy of neural network on validation set\n",
        "acc_val = accuracy_score(label_val, val_pred_MLP)\n",
        "print(f'\\n The accuracy of the validation set is {acc_val}')\n",
        "\n",
        "# Evaluate accuracy of neural network on test set\n",
        "acc_test = accuracy_score(label_test, test_pred_MLP)\n",
        "print(f'\\n The accuracy of the test set is {acc_test}')"
      ],
      "execution_count": 30,
      "outputs": [
        {
          "output_type": "stream",
          "text": [
            "\n",
            " The accuracy of the validation set in 10 different folds is [0.78571429 0.76923077 0.69230769 0.92307692 0.84615385 0.69230769\n",
            " 0.92307692 0.76923077 1.         0.92307692]\n",
            "\n",
            " The mean accuracy of the validation set of 10 different folds is 0.8324175824175825\n",
            "\n",
            " The accuracy of the training set is 1.0\n",
            "\n",
            " The accuracy of the validation set is 0.9285714285714286\n",
            "\n",
            " The accuracy of the test set is 1.0\n"
          ],
          "name": "stdout"
        }
      ]
    },
    {
      "cell_type": "code",
      "metadata": {
        "id": "KjjObAu39_wV",
        "colab_type": "code",
        "outputId": "e3c6b6c9-8372-4214-f3db-80f67ddb8967",
        "colab": {
          "base_uri": "https://localhost:8080/",
          "height": 629
        }
      },
      "source": [
        "# Confusion matrices and classification reports\n",
        "print('Confusion matrix and classification report of validation set')\n",
        "print(confusion_matrix(label_val, val_pred))\n",
        "print(classification_report(label_val, val_pred))\n",
        "\n",
        "print('Confusion matrix and classification report of training set')\n",
        "print(confusion_matrix(label_train2, train2_pred))\n",
        "print(classification_report(label_train2, train2_pred))\n",
        "\n",
        "print('Confusion matrix and classification report of test set')\n",
        "print(confusion_matrix(label_test, test_pred))\n",
        "print(classification_report(label_test, test_pred))"
      ],
      "execution_count": 0,
      "outputs": [
        {
          "output_type": "stream",
          "text": [
            "Confusion matrix and classification report of validation set\n",
            "[[8 0]\n",
            " [3 3]]\n",
            "              precision    recall  f1-score   support\n",
            "\n",
            "           0       0.73      1.00      0.84         8\n",
            "           1       1.00      0.50      0.67         6\n",
            "\n",
            "    accuracy                           0.79        14\n",
            "   macro avg       0.86      0.75      0.75        14\n",
            "weighted avg       0.84      0.79      0.77        14\n",
            "\n",
            "Confusion matrix and classification report of training set\n",
            "[[83  0]\n",
            " [ 0 34]]\n",
            "              precision    recall  f1-score   support\n",
            "\n",
            "           0       1.00      1.00      1.00        83\n",
            "           1       1.00      1.00      1.00        34\n",
            "\n",
            "    accuracy                           1.00       117\n",
            "   macro avg       1.00      1.00      1.00       117\n",
            "weighted avg       1.00      1.00      1.00       117\n",
            "\n",
            "Confusion matrix and classification report of test set\n",
            "[[11  0]\n",
            " [ 2  2]]\n",
            "              precision    recall  f1-score   support\n",
            "\n",
            "           0       0.85      1.00      0.92        11\n",
            "           1       1.00      0.50      0.67         4\n",
            "\n",
            "    accuracy                           0.87        15\n",
            "   macro avg       0.92      0.75      0.79        15\n",
            "weighted avg       0.89      0.87      0.85        15\n",
            "\n"
          ],
          "name": "stdout"
        }
      ]
    },
    {
      "cell_type": "markdown",
      "metadata": {
        "id": "hwGUOWXusaFh",
        "colab_type": "text"
      },
      "source": [
        "# Learning Curves"
      ]
    },
    {
      "cell_type": "code",
      "metadata": {
        "id": "Jnh5imnpsYjk",
        "colab_type": "code",
        "colab": {}
      },
      "source": [
        "# Function definition of learning curves\n",
        "def plot_learning_curve(estimator, title, X, y, axes, ylim=None, cv=None,\n",
        "                        n_jobs=None, train_sizes=np.linspace(.1, 1.0, 5)):\n",
        "    axes.set_title(title)\n",
        "    if ylim is not None:\n",
        "        axes.set_ylim(*ylim)\n",
        "    axes.set_xlabel(\"Training examples\")\n",
        "    axes.set_ylabel(\"Score\")\n",
        "\n",
        "    train_sizes, train_scores, test_scores  = \\\n",
        "        learning_curve(estimator, X, y, cv=cv, n_jobs=n_jobs,\n",
        "                       train_sizes=train_sizes)\n",
        "    train_scores_mean = np.mean(train_scores, axis=1)\n",
        "    train_scores_std = np.std(train_scores, axis=1)\n",
        "    test_scores_mean = np.mean(test_scores, axis=1)\n",
        "    test_scores_std = np.std(test_scores, axis=1)\n",
        "\n",
        "    # Plot learning curve\n",
        "    axes.grid()\n",
        "    axes.fill_between(train_sizes, train_scores_mean - train_scores_std,\n",
        "                         train_scores_mean + train_scores_std, alpha=0.1,\n",
        "                         color=\"r\")\n",
        "    axes.fill_between(train_sizes, test_scores_mean - test_scores_std,\n",
        "                         test_scores_mean + test_scores_std, alpha=0.1,\n",
        "                         color=\"g\")\n",
        "    axes.plot(train_sizes, train_scores_mean, 'o-', color=\"r\",\n",
        "                 label=\"Training score\")\n",
        "    axes.plot(train_sizes, test_scores_mean, 'o-', color=\"g\",\n",
        "                 label=\"Cross-validation score\")\n",
        "    axes.legend(loc=\"best\")\n",
        "\n",
        "    return plt\n"
      ],
      "execution_count": 0,
      "outputs": []
    },
    {
      "cell_type": "code",
      "metadata": {
        "id": "4djNT-CZAADv",
        "colab_type": "code",
        "colab": {}
      },
      "source": [
        "# Classifiers\n",
        "clsfs = [MLP]\n",
        "\n",
        "# Plot figuren\n",
        "fig = plt.figure(figsize=(24,8*len(clsfs)))\n",
        "  \n",
        "# Create a cross-validation object\n",
        "cv = ShuffleSplit(n_splits=10, test_size=0.15, random_state=0)\n",
        "# cv = StratifiedKFold(n_splits=10, shuffle=True, random_state=0)\n",
        "# cv = StratifiedShuffleSplit(n_splits=10, test_size=0.15, random_state=0)\n",
        "\n",
        "# Now use the classifiers on all datasets\n",
        "num = 0\n",
        "for clf in clsfs:\n",
        "    # Split data in training and testing\n",
        "    # title = str(type(clf))\n",
        "    if hasattr(clf, 'n_estimators'):\n",
        "        title = f\"Random Forest Classifier, n(trees) = {clf.n_estimators}\"\n",
        "    elif hasattr(clf, 'C'):\n",
        "        title = f\"SVM Classifier, C (slack) = {clf.C}\"\n",
        "    elif hasattr(clf, 'n_neighbors'):\n",
        "        title = f\"kNN Classifier, #neighbors = {clf.n_neighbors}\"\n",
        "    elif hasattr(clf, 'hidden_layer_sizes'):\n",
        "        title = f\"Neural Network\"\n",
        "    ax = fig.add_subplot(len(clsfs), 3, num + 1)\n",
        "    plot_learning_curve(clf, title, data_df_train, label_train, ax, ylim=(0.3, 1.01), cv=cv)\n",
        "    num += 1\n"
      ],
      "execution_count": 0,
      "outputs": []
    },
    {
      "cell_type": "markdown",
      "metadata": {
        "id": "mYs9pVAD_fjs",
        "colab_type": "text"
      },
      "source": [
        "## Learning Curves oud\n",
        "stond eerst onder function definition"
      ]
    },
    {
      "cell_type": "code",
      "metadata": {
        "id": "BE2bTNXT_ZIe",
        "colab_type": "code",
        "colab": {}
      },
      "source": [
        "# OUD VAN LEARNING CURVES, MAG WEG ALS ALLES WERKT\n",
        "# First make plot without classifiers:\n",
        "# Construct classifiers\n",
        "svmlin = SVC(C=2, kernel='linear', gamma='scale') # linear kernel \n",
        "svmrbf = SVC(C=2, kernel='rbf', gamma='scale') # radial basis function kernel \n",
        "svmpoly = SVC(C=2, kernel='poly', degree=3, gamma='scale') # polynomial kernel\n",
        "\n",
        "clsfs = [\n",
        "         RandomForestClassifier(n_estimators=5, min_samples_leaf=3, max_features='auto', random_state=0, bootstrap=True),\n",
        "         RandomForestClassifier(n_estimators=20, min_samples_leaf=3, random_state=0, bootstrap=True),\n",
        "         RandomForestClassifier(n_estimators=50, min_samples_leaf=3, random_state=0, bootstrap=True),\n",
        "         svmlin, svmrbf, svmpoly,\n",
        "         KNeighborsClassifier(n_neighbors=1, weights='distance'),\n",
        "         KNeighborsClassifier(n_neighbors=7, weights='distance'),\n",
        "         KNeighborsClassifier(n_neighbors=10, weights='distance')\n",
        "        ]\n",
        "\n",
        "# Plot figuren\n",
        "fig = plt.figure(figsize=(24,8*len(clsfs)))\n",
        "# ax.scatter(data_train_pca[:, 0], data_train_pca[:, 1], marker='o', c=label_train,\n",
        "#     s=25, edgecolor='k', cmap=plt.cm.Paired)\n",
        "    \n",
        "        \n",
        "# Create a cross-validation object\n",
        "cv = ShuffleSplit(n_splits=10, test_size=0.15, random_state=0)\n",
        "# cv = StratifiedKFold(n_splits=10, shuffle=True, random_state=0)\n",
        "# cv = StratifiedShuffleSplit(n_splits=10, test_size=0.15, random_state=0)\n",
        "\n",
        "# Now use the classifiers on all datasets\n",
        "num = 0\n",
        "for clf in clsfs:\n",
        "    # Split data in training and testing\n",
        "    # title = str(type(clf))\n",
        "    if hasattr(clf, 'n_estimators'):\n",
        "        title = f\"Random Forest Classifier, n(trees) = {clf.n_estimators}\"\n",
        "    elif hasattr(clf, 'C'):\n",
        "        title = f\"SVM Classifier, C (slack) = {clf.C}\"\n",
        "    elif hasattr(clf, 'n_neighbors'):\n",
        "        title = f\"kNN Classifier, #neighbors = {clf.n_neighbors}\"\n",
        "    ax = fig.add_subplot(len(clsfs), 3, num + 1)\n",
        "    plot_learning_curve(clf, title, data_train_pca, label_train, ax, ylim=(0.3, 1.01), cv=cv)\n",
        "    num += 1\n"
      ],
      "execution_count": 0,
      "outputs": []
    }
  ]
}