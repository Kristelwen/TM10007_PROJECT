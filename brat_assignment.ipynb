{
  "nbformat": 4,
  "nbformat_minor": 0,
  "metadata": {
    "colab": {
      "name": "brat_assignment.ipynb",
      "provenance": [],
      "collapsed_sections": [
        "ySDv5ko54ViJ",
        "gY9t_GtJ1KrG",
        "tzrJpQt-PM9u",
        "wO_MGCSW8d0l",
        "FqLl7RNggs9n",
        "gL04AA6EH9_7",
        "fuluNEEqjEoY"
      ],
      "include_colab_link": true
    },
    "kernelspec": {
      "display_name": "Python 3",
      "language": "python",
      "name": "python3"
    },
    "language_info": {
      "codemirror_mode": {
        "name": "ipython",
        "version": 3
      },
      "file_extension": ".py",
      "mimetype": "text/x-python",
      "name": "python",
      "nbconvert_exporter": "python",
      "pygments_lexer": "ipython3",
      "version": "3.7.4"
    }
  },
  "cells": [
    {
      "cell_type": "markdown",
      "metadata": {
        "id": "view-in-github",
        "colab_type": "text"
      },
      "source": [
        "<a href=\"https://colab.research.google.com/github/Kristelwen/TM10007_PROJECT/blob/master/brat_assignment.ipynb\" target=\"_parent\"><img src=\"https://colab.research.google.com/assets/colab-badge.svg\" alt=\"Open In Colab\"/></a>"
      ]
    },
    {
      "cell_type": "markdown",
      "metadata": {
        "colab_type": "text",
        "id": "7SXpaKwwGe5x"
      },
      "source": [
        "# TM10007 Assignment, data set 1\n",
        "Kristel Wenink (4450396), Lalot Gunneman (4532155), Marijn van der Graaf (4468708), Tahisa Robles (4531434)"
      ]
    },
    {
      "cell_type": "code",
      "metadata": {
        "colab_type": "code",
        "id": "CiDn2Sk-VWqE",
        "outputId": "54a1d4db-4bd6-4f3a-8aec-d91e0d7a4ee3",
        "colab": {
          "base_uri": "https://localhost:8080/",
          "height": 34
        }
      },
      "source": [
        "# Run this to use from colab environment\n",
        "!pip install -q --upgrade git+https://github.com/Kristelwen/TM10007_PROJECT"
      ],
      "execution_count": 92,
      "outputs": [
        {
          "output_type": "stream",
          "text": [
            "  Building wheel for brats (setup.py) ... \u001b[?25l\u001b[?25hdone\n"
          ],
          "name": "stdout"
        }
      ]
    },
    {
      "cell_type": "markdown",
      "metadata": {
        "id": "ySDv5ko54ViJ",
        "colab_type": "text"
      },
      "source": [
        "# Data loading and importing modules"
      ]
    },
    {
      "cell_type": "code",
      "metadata": {
        "id": "B_Lae4Zh5V3B",
        "colab_type": "code",
        "colab": {}
      },
      "source": [
        "# Importing modules\n",
        "# General packages\n",
        "import numpy as np\n",
        "import pandas as pd\n",
        "import math\n",
        "import matplotlib.pyplot as plt\n",
        "from time import time\n",
        "from scipy.stats import randint\n",
        "\n",
        "# Preprocessing packages\n",
        "from sklearn.preprocessing import LabelEncoder\n",
        "from sklearn.preprocessing import RobustScaler, StandardScaler\n",
        "from sklearn.decomposition import PCA\n",
        "\n",
        "# Classifiers\n",
        "from sklearn.tree import DecisionTreeClassifier\n",
        "from sklearn.neighbors import KNeighborsClassifier\n",
        "from sklearn.svm import SVC\n",
        "from sklearn.ensemble import RandomForestClassifier\n",
        "from sklearn.neural_network import MLPClassifier\n",
        "\n",
        "# SVM Kernels\n",
        "from sklearn.kernel_approximation import RBFSampler\n",
        "from sklearn.metrics.pairwise import rbf_kernel, sigmoid_kernel\n",
        "from sklearn.decomposition import KernelPCA\n",
        "\n",
        "# Model selection\n",
        "from sklearn.model_selection import RandomizedSearchCV\n",
        "from sklearn.model_selection import train_test_split\n",
        "from sklearn.model_selection import learning_curve\n",
        "from sklearn.model_selection import ShuffleSplit, StratifiedShuffleSplit, StratifiedKFold\n",
        "\n",
        "# Performance metrics\n",
        "from sklearn.metrics import classification_report, confusion_matrix, accuracy_score\n",
        "from sklearn.model_selection import cross_val_score"
      ],
      "execution_count": 0,
      "outputs": []
    },
    {
      "cell_type": "code",
      "metadata": {
        "colab_type": "code",
        "id": "-NE_fTbKGe5z",
        "outputId": "9bbe5d11-8b35-4075-d5e1-2840e2cd88ef",
        "colab": {
          "base_uri": "https://localhost:8080/",
          "height": 51
        }
      },
      "source": [
        "# Loading the data\n",
        "from brats.load_data import load_data\n",
        "\n",
        "data = load_data()\n",
        "print(f'The number of samples: {len(data.index)}')\n",
        "print(f'The number of columns: {len(data.columns)}')\n"
      ],
      "execution_count": 94,
      "outputs": [
        {
          "output_type": "stream",
          "text": [
            "The number of samples: 167\n",
            "The number of columns: 725\n"
          ],
          "name": "stdout"
        }
      ]
    },
    {
      "cell_type": "code",
      "metadata": {
        "id": "50S8Z8Y968kr",
        "colab_type": "code",
        "outputId": "b67ab915-f35f-40ca-afdf-fde417393b6f",
        "colab": {
          "base_uri": "https://localhost:8080/",
          "height": 446
        }
      },
      "source": [
        "# Display data for analysis\n",
        "data_top = data.head()\n",
        "data_top "
      ],
      "execution_count": 95,
      "outputs": [
        {
          "output_type": "execute_result",
          "data": {
            "text/html": [
              "<div>\n",
              "<style scoped>\n",
              "    .dataframe tbody tr th:only-of-type {\n",
              "        vertical-align: middle;\n",
              "    }\n",
              "\n",
              "    .dataframe tbody tr th {\n",
              "        vertical-align: top;\n",
              "    }\n",
              "\n",
              "    .dataframe thead th {\n",
              "        text-align: right;\n",
              "    }\n",
              "</style>\n",
              "<table border=\"1\" class=\"dataframe\">\n",
              "  <thead>\n",
              "    <tr style=\"text-align: right;\">\n",
              "      <th></th>\n",
              "      <th>VOLUME_ET</th>\n",
              "      <th>VOLUME_NET</th>\n",
              "      <th>VOLUME_ED</th>\n",
              "      <th>VOLUME_TC</th>\n",
              "      <th>VOLUME_WT</th>\n",
              "      <th>VOLUME_BRAIN</th>\n",
              "      <th>VOLUME_ET_OVER_NET</th>\n",
              "      <th>VOLUME_ET_OVER_ED</th>\n",
              "      <th>VOLUME_NET_OVER_ED</th>\n",
              "      <th>VOLUME_ET_over_TC</th>\n",
              "      <th>VOLUME_NET_over_TC</th>\n",
              "      <th>VOLUME_ED_over_TC</th>\n",
              "      <th>VOLUME_ET_OVER_WT</th>\n",
              "      <th>VOLUME_NET_OVER_WT</th>\n",
              "      <th>VOLUME_ED_OVER_WT</th>\n",
              "      <th>VOLUME_TC_OVER_WT</th>\n",
              "      <th>VOLUME_ET_OVER_BRAIN</th>\n",
              "      <th>VOLUME_NET_OVER_BRAIN</th>\n",
              "      <th>VOLUME_ED_over_BRAIN</th>\n",
              "      <th>VOLUME_TC_over_BRAIN</th>\n",
              "      <th>VOLUME_WT_OVER_BRAIN</th>\n",
              "      <th>DIST_Vent_TC</th>\n",
              "      <th>DIST_Vent_ED</th>\n",
              "      <th>INTENSITY_Mean_ET_T1Gd</th>\n",
              "      <th>INTENSITY_STD_ET_T1Gd</th>\n",
              "      <th>INTENSITY_Mean_ET_T1</th>\n",
              "      <th>INTENSITY_STD_ET_T1</th>\n",
              "      <th>INTENSITY_Mean_ET_T2</th>\n",
              "      <th>INTENSITY_STD_ET_T2</th>\n",
              "      <th>INTENSITY_Mean_ET_FLAIR</th>\n",
              "      <th>INTENSITY_STD_ET_FLAIR</th>\n",
              "      <th>INTENSITY_Mean_NET_T1Gd</th>\n",
              "      <th>INTENSITY_STD_NET_T1Gd</th>\n",
              "      <th>INTENSITY_Mean_NET_T1</th>\n",
              "      <th>INTENSITY_STD_NET_T1</th>\n",
              "      <th>INTENSITY_Mean_NET_T2</th>\n",
              "      <th>INTENSITY_STD_NET_T2</th>\n",
              "      <th>INTENSITY_Mean_NET_FLAIR</th>\n",
              "      <th>INTENSITY_STD_NET_FLAIR</th>\n",
              "      <th>INTENSITY_Mean_ED_T1Gd</th>\n",
              "      <th>...</th>\n",
              "      <th>TEXTURE_NGTDM_NET_T1_Busyness</th>\n",
              "      <th>TEXTURE_NGTDM_NET_T1_Complexity</th>\n",
              "      <th>TEXTURE_NGTDM_NET_T1_Strength</th>\n",
              "      <th>TEXTURE_NGTDM_NET_T2_Coarseness</th>\n",
              "      <th>TEXTURE_NGTDM_NET_T2_Contrast</th>\n",
              "      <th>TEXTURE_NGTDM_NET_T2_Busyness</th>\n",
              "      <th>TEXTURE_NGTDM_NET_T2_Complexity</th>\n",
              "      <th>TEXTURE_NGTDM_NET_T2_Strength</th>\n",
              "      <th>TEXTURE_NGTDM_NET_FLAIR_Coarseness</th>\n",
              "      <th>TEXTURE_NGTDM_NET_FLAIR_Contrast</th>\n",
              "      <th>TEXTURE_NGTDM_NET_FLAIR_Busyness</th>\n",
              "      <th>TEXTURE_NGTDM_NET_FLAIR_Complexity</th>\n",
              "      <th>TEXTURE_NGTDM_NET_FLAIR_Strength</th>\n",
              "      <th>TGM_p1</th>\n",
              "      <th>TGM_dw</th>\n",
              "      <th>TGM_Cog_X_1</th>\n",
              "      <th>TGM_Cog_Y_1</th>\n",
              "      <th>TGM_Cog_Z_1</th>\n",
              "      <th>TGM_T_1</th>\n",
              "      <th>TGM_Cog_X_2</th>\n",
              "      <th>TGM_Cog_Y_2</th>\n",
              "      <th>TGM_Cog_Z_2</th>\n",
              "      <th>TGM_T_2</th>\n",
              "      <th>TGM_Cog_X_3</th>\n",
              "      <th>TGM_Cog_Y_3</th>\n",
              "      <th>TGM_Cog_Z_3</th>\n",
              "      <th>TGM_T_3</th>\n",
              "      <th>TGM_Cog_X_4</th>\n",
              "      <th>TGM_Cog_Y_4</th>\n",
              "      <th>TGM_Cog_Z_4</th>\n",
              "      <th>TGM_T_4</th>\n",
              "      <th>TGM_Cog_X_5</th>\n",
              "      <th>TGM_Cog_Y_5</th>\n",
              "      <th>TGM_Cog_Z_5</th>\n",
              "      <th>TGM_T_5</th>\n",
              "      <th>TGM_Cog_X_6</th>\n",
              "      <th>TGM_Cog_Y_6</th>\n",
              "      <th>TGM_Cog_Z_6</th>\n",
              "      <th>TGM_T_6</th>\n",
              "      <th>label</th>\n",
              "    </tr>\n",
              "    <tr>\n",
              "      <th>ID</th>\n",
              "      <th></th>\n",
              "      <th></th>\n",
              "      <th></th>\n",
              "      <th></th>\n",
              "      <th></th>\n",
              "      <th></th>\n",
              "      <th></th>\n",
              "      <th></th>\n",
              "      <th></th>\n",
              "      <th></th>\n",
              "      <th></th>\n",
              "      <th></th>\n",
              "      <th></th>\n",
              "      <th></th>\n",
              "      <th></th>\n",
              "      <th></th>\n",
              "      <th></th>\n",
              "      <th></th>\n",
              "      <th></th>\n",
              "      <th></th>\n",
              "      <th></th>\n",
              "      <th></th>\n",
              "      <th></th>\n",
              "      <th></th>\n",
              "      <th></th>\n",
              "      <th></th>\n",
              "      <th></th>\n",
              "      <th></th>\n",
              "      <th></th>\n",
              "      <th></th>\n",
              "      <th></th>\n",
              "      <th></th>\n",
              "      <th></th>\n",
              "      <th></th>\n",
              "      <th></th>\n",
              "      <th></th>\n",
              "      <th></th>\n",
              "      <th></th>\n",
              "      <th></th>\n",
              "      <th></th>\n",
              "      <th></th>\n",
              "      <th></th>\n",
              "      <th></th>\n",
              "      <th></th>\n",
              "      <th></th>\n",
              "      <th></th>\n",
              "      <th></th>\n",
              "      <th></th>\n",
              "      <th></th>\n",
              "      <th></th>\n",
              "      <th></th>\n",
              "      <th></th>\n",
              "      <th></th>\n",
              "      <th></th>\n",
              "      <th></th>\n",
              "      <th></th>\n",
              "      <th></th>\n",
              "      <th></th>\n",
              "      <th></th>\n",
              "      <th></th>\n",
              "      <th></th>\n",
              "      <th></th>\n",
              "      <th></th>\n",
              "      <th></th>\n",
              "      <th></th>\n",
              "      <th></th>\n",
              "      <th></th>\n",
              "      <th></th>\n",
              "      <th></th>\n",
              "      <th></th>\n",
              "      <th></th>\n",
              "      <th></th>\n",
              "      <th></th>\n",
              "      <th></th>\n",
              "      <th></th>\n",
              "      <th></th>\n",
              "      <th></th>\n",
              "      <th></th>\n",
              "      <th></th>\n",
              "      <th></th>\n",
              "      <th></th>\n",
              "    </tr>\n",
              "  </thead>\n",
              "  <tbody>\n",
              "    <tr>\n",
              "      <th>TCGA-02-0006</th>\n",
              "      <td>1662</td>\n",
              "      <td>384</td>\n",
              "      <td>36268</td>\n",
              "      <td>2046</td>\n",
              "      <td>38314</td>\n",
              "      <td>1469432</td>\n",
              "      <td>4.328125</td>\n",
              "      <td>0.0458255</td>\n",
              "      <td>0.0105878</td>\n",
              "      <td>0.81232</td>\n",
              "      <td>0.18768</td>\n",
              "      <td>17.7263</td>\n",
              "      <td>0.043378</td>\n",
              "      <td>0.010022</td>\n",
              "      <td>0.946599</td>\n",
              "      <td>0.053401</td>\n",
              "      <td>0.001131</td>\n",
              "      <td>0.000261</td>\n",
              "      <td>0.024682</td>\n",
              "      <td>0.001392</td>\n",
              "      <td>0.026074</td>\n",
              "      <td>31.5903</td>\n",
              "      <td>2.7735</td>\n",
              "      <td>149.7977</td>\n",
              "      <td>10.4671</td>\n",
              "      <td>194.1422</td>\n",
              "      <td>15.1037</td>\n",
              "      <td>154.9225</td>\n",
              "      <td>43.4709</td>\n",
              "      <td>220.5894</td>\n",
              "      <td>30.2917</td>\n",
              "      <td>137.8881</td>\n",
              "      <td>6.3820</td>\n",
              "      <td>183.6933</td>\n",
              "      <td>14.8846</td>\n",
              "      <td>161.1005</td>\n",
              "      <td>35.8591</td>\n",
              "      <td>227.7510</td>\n",
              "      <td>23.9509</td>\n",
              "      <td>131.8402</td>\n",
              "      <td>...</td>\n",
              "      <td>0.02674</td>\n",
              "      <td>2536.7559</td>\n",
              "      <td>43.3129</td>\n",
              "      <td>0.036634</td>\n",
              "      <td>0.50304</td>\n",
              "      <td>0.024264</td>\n",
              "      <td>3593.3279</td>\n",
              "      <td>43.67590</td>\n",
              "      <td>0.057204</td>\n",
              "      <td>0.33980</td>\n",
              "      <td>0.021897</td>\n",
              "      <td>2203.2034</td>\n",
              "      <td>61.3293</td>\n",
              "      <td>8.00000</td>\n",
              "      <td>7.500000e-07</td>\n",
              "      <td>0.178609</td>\n",
              "      <td>0.096256</td>\n",
              "      <td>0.052741</td>\n",
              "      <td>2.0000</td>\n",
              "      <td>NaN</td>\n",
              "      <td>NaN</td>\n",
              "      <td>NaN</td>\n",
              "      <td>NaN</td>\n",
              "      <td>NaN</td>\n",
              "      <td>NaN</td>\n",
              "      <td>NaN</td>\n",
              "      <td>NaN</td>\n",
              "      <td>NaN</td>\n",
              "      <td>NaN</td>\n",
              "      <td>NaN</td>\n",
              "      <td>NaN</td>\n",
              "      <td>NaN</td>\n",
              "      <td>NaN</td>\n",
              "      <td>NaN</td>\n",
              "      <td>NaN</td>\n",
              "      <td>NaN</td>\n",
              "      <td>NaN</td>\n",
              "      <td>NaN</td>\n",
              "      <td>NaN</td>\n",
              "      <td>GBM</td>\n",
              "    </tr>\n",
              "    <tr>\n",
              "      <th>TCGA-02-0009</th>\n",
              "      <td>4362</td>\n",
              "      <td>4349</td>\n",
              "      <td>15723</td>\n",
              "      <td>8711</td>\n",
              "      <td>24434</td>\n",
              "      <td>1295721</td>\n",
              "      <td>1.002989</td>\n",
              "      <td>0.277428</td>\n",
              "      <td>0.276601</td>\n",
              "      <td>0.50075</td>\n",
              "      <td>0.49925</td>\n",
              "      <td>1.8050</td>\n",
              "      <td>0.178522</td>\n",
              "      <td>0.177990</td>\n",
              "      <td>0.643489</td>\n",
              "      <td>0.356511</td>\n",
              "      <td>0.003366</td>\n",
              "      <td>0.003356</td>\n",
              "      <td>0.012135</td>\n",
              "      <td>0.006723</td>\n",
              "      <td>0.018857</td>\n",
              "      <td>9.2443</td>\n",
              "      <td>3.0207</td>\n",
              "      <td>165.4345</td>\n",
              "      <td>6.4047</td>\n",
              "      <td>201.2400</td>\n",
              "      <td>13.4733</td>\n",
              "      <td>113.1601</td>\n",
              "      <td>10.1373</td>\n",
              "      <td>210.1810</td>\n",
              "      <td>15.9543</td>\n",
              "      <td>152.6013</td>\n",
              "      <td>4.2360</td>\n",
              "      <td>188.0607</td>\n",
              "      <td>11.1316</td>\n",
              "      <td>116.8538</td>\n",
              "      <td>10.0992</td>\n",
              "      <td>209.7901</td>\n",
              "      <td>16.7943</td>\n",
              "      <td>139.2815</td>\n",
              "      <td>...</td>\n",
              "      <td>0.31558</td>\n",
              "      <td>967.7845</td>\n",
              "      <td>3.7444</td>\n",
              "      <td>0.003790</td>\n",
              "      <td>0.36163</td>\n",
              "      <td>0.271420</td>\n",
              "      <td>1996.1440</td>\n",
              "      <td>2.77050</td>\n",
              "      <td>0.004966</td>\n",
              "      <td>0.28715</td>\n",
              "      <td>0.189980</td>\n",
              "      <td>1440.4285</td>\n",
              "      <td>3.5999</td>\n",
              "      <td>3.31250</td>\n",
              "      <td>1.000000e-09</td>\n",
              "      <td>0.077618</td>\n",
              "      <td>0.122900</td>\n",
              "      <td>0.094336</td>\n",
              "      <td>91.4736</td>\n",
              "      <td>NaN</td>\n",
              "      <td>NaN</td>\n",
              "      <td>NaN</td>\n",
              "      <td>NaN</td>\n",
              "      <td>NaN</td>\n",
              "      <td>NaN</td>\n",
              "      <td>NaN</td>\n",
              "      <td>NaN</td>\n",
              "      <td>NaN</td>\n",
              "      <td>NaN</td>\n",
              "      <td>NaN</td>\n",
              "      <td>NaN</td>\n",
              "      <td>NaN</td>\n",
              "      <td>NaN</td>\n",
              "      <td>NaN</td>\n",
              "      <td>NaN</td>\n",
              "      <td>NaN</td>\n",
              "      <td>NaN</td>\n",
              "      <td>NaN</td>\n",
              "      <td>NaN</td>\n",
              "      <td>GBM</td>\n",
              "    </tr>\n",
              "    <tr>\n",
              "      <th>TCGA-02-0011</th>\n",
              "      <td>33404</td>\n",
              "      <td>48612</td>\n",
              "      <td>45798</td>\n",
              "      <td>82016</td>\n",
              "      <td>127814</td>\n",
              "      <td>1425843</td>\n",
              "      <td>0.687155</td>\n",
              "      <td>0.729377</td>\n",
              "      <td>1.06144</td>\n",
              "      <td>0.40729</td>\n",
              "      <td>0.59271</td>\n",
              "      <td>0.5584</td>\n",
              "      <td>0.261349</td>\n",
              "      <td>0.380334</td>\n",
              "      <td>0.358318</td>\n",
              "      <td>0.641682</td>\n",
              "      <td>0.023428</td>\n",
              "      <td>0.034094</td>\n",
              "      <td>0.032120</td>\n",
              "      <td>0.057521</td>\n",
              "      <td>0.089641</td>\n",
              "      <td>1.0000</td>\n",
              "      <td>1.0000</td>\n",
              "      <td>186.3385</td>\n",
              "      <td>17.6126</td>\n",
              "      <td>188.2019</td>\n",
              "      <td>23.5195</td>\n",
              "      <td>172.8969</td>\n",
              "      <td>32.7401</td>\n",
              "      <td>167.1395</td>\n",
              "      <td>34.1684</td>\n",
              "      <td>149.0643</td>\n",
              "      <td>12.9090</td>\n",
              "      <td>158.4197</td>\n",
              "      <td>15.2632</td>\n",
              "      <td>197.4966</td>\n",
              "      <td>27.1781</td>\n",
              "      <td>165.1014</td>\n",
              "      <td>25.2120</td>\n",
              "      <td>161.5790</td>\n",
              "      <td>...</td>\n",
              "      <td>1.39580</td>\n",
              "      <td>1322.6082</td>\n",
              "      <td>0.7473</td>\n",
              "      <td>0.000634</td>\n",
              "      <td>0.31856</td>\n",
              "      <td>1.144300</td>\n",
              "      <td>2517.8629</td>\n",
              "      <td>0.84294</td>\n",
              "      <td>0.000794</td>\n",
              "      <td>0.17961</td>\n",
              "      <td>1.068800</td>\n",
              "      <td>1147.5177</td>\n",
              "      <td>0.8048</td>\n",
              "      <td>5.78125</td>\n",
              "      <td>1.000000e-09</td>\n",
              "      <td>0.132283</td>\n",
              "      <td>0.116006</td>\n",
              "      <td>0.096035</td>\n",
              "      <td>272.4290</td>\n",
              "      <td>NaN</td>\n",
              "      <td>NaN</td>\n",
              "      <td>NaN</td>\n",
              "      <td>NaN</td>\n",
              "      <td>NaN</td>\n",
              "      <td>NaN</td>\n",
              "      <td>NaN</td>\n",
              "      <td>NaN</td>\n",
              "      <td>NaN</td>\n",
              "      <td>NaN</td>\n",
              "      <td>NaN</td>\n",
              "      <td>NaN</td>\n",
              "      <td>NaN</td>\n",
              "      <td>NaN</td>\n",
              "      <td>NaN</td>\n",
              "      <td>NaN</td>\n",
              "      <td>NaN</td>\n",
              "      <td>NaN</td>\n",
              "      <td>NaN</td>\n",
              "      <td>NaN</td>\n",
              "      <td>GBM</td>\n",
              "    </tr>\n",
              "    <tr>\n",
              "      <th>TCGA-02-0027</th>\n",
              "      <td>12114</td>\n",
              "      <td>7587</td>\n",
              "      <td>34086</td>\n",
              "      <td>19701</td>\n",
              "      <td>53787</td>\n",
              "      <td>1403429</td>\n",
              "      <td>1.596679</td>\n",
              "      <td>0.355395</td>\n",
              "      <td>0.222584</td>\n",
              "      <td>0.61489</td>\n",
              "      <td>0.38511</td>\n",
              "      <td>1.7302</td>\n",
              "      <td>0.225222</td>\n",
              "      <td>0.141056</td>\n",
              "      <td>0.633722</td>\n",
              "      <td>0.366278</td>\n",
              "      <td>0.008632</td>\n",
              "      <td>0.005406</td>\n",
              "      <td>0.024288</td>\n",
              "      <td>0.014038</td>\n",
              "      <td>0.038325</td>\n",
              "      <td>1.0331</td>\n",
              "      <td>1.0000</td>\n",
              "      <td>178.6925</td>\n",
              "      <td>23.1751</td>\n",
              "      <td>199.7626</td>\n",
              "      <td>27.0047</td>\n",
              "      <td>157.0192</td>\n",
              "      <td>25.6793</td>\n",
              "      <td>173.6525</td>\n",
              "      <td>26.3596</td>\n",
              "      <td>120.3726</td>\n",
              "      <td>17.5926</td>\n",
              "      <td>199.5765</td>\n",
              "      <td>25.3652</td>\n",
              "      <td>194.2708</td>\n",
              "      <td>24.5411</td>\n",
              "      <td>207.5531</td>\n",
              "      <td>32.7868</td>\n",
              "      <td>129.2927</td>\n",
              "      <td>...</td>\n",
              "      <td>0.14356</td>\n",
              "      <td>1722.6804</td>\n",
              "      <td>6.9449</td>\n",
              "      <td>0.002126</td>\n",
              "      <td>0.54383</td>\n",
              "      <td>0.379490</td>\n",
              "      <td>3698.6228</td>\n",
              "      <td>2.31820</td>\n",
              "      <td>0.003284</td>\n",
              "      <td>0.41179</td>\n",
              "      <td>0.206600</td>\n",
              "      <td>3320.1690</td>\n",
              "      <td>4.7336</td>\n",
              "      <td>3.87500</td>\n",
              "      <td>1.000000e-09</td>\n",
              "      <td>0.100415</td>\n",
              "      <td>0.088249</td>\n",
              "      <td>0.096470</td>\n",
              "      <td>128.4680</td>\n",
              "      <td>NaN</td>\n",
              "      <td>NaN</td>\n",
              "      <td>NaN</td>\n",
              "      <td>NaN</td>\n",
              "      <td>NaN</td>\n",
              "      <td>NaN</td>\n",
              "      <td>NaN</td>\n",
              "      <td>NaN</td>\n",
              "      <td>NaN</td>\n",
              "      <td>NaN</td>\n",
              "      <td>NaN</td>\n",
              "      <td>NaN</td>\n",
              "      <td>NaN</td>\n",
              "      <td>NaN</td>\n",
              "      <td>NaN</td>\n",
              "      <td>NaN</td>\n",
              "      <td>NaN</td>\n",
              "      <td>NaN</td>\n",
              "      <td>NaN</td>\n",
              "      <td>NaN</td>\n",
              "      <td>GBM</td>\n",
              "    </tr>\n",
              "    <tr>\n",
              "      <th>TCGA-02-0033</th>\n",
              "      <td>34538</td>\n",
              "      <td>7137</td>\n",
              "      <td>65653</td>\n",
              "      <td>41675</td>\n",
              "      <td>107328</td>\n",
              "      <td>1365237</td>\n",
              "      <td>4.839288</td>\n",
              "      <td>0.526069</td>\n",
              "      <td>0.108708</td>\n",
              "      <td>0.82875</td>\n",
              "      <td>0.17125</td>\n",
              "      <td>1.5754</td>\n",
              "      <td>0.321799</td>\n",
              "      <td>0.066497</td>\n",
              "      <td>0.611704</td>\n",
              "      <td>0.388296</td>\n",
              "      <td>0.025298</td>\n",
              "      <td>0.005228</td>\n",
              "      <td>0.048089</td>\n",
              "      <td>0.030526</td>\n",
              "      <td>0.078615</td>\n",
              "      <td>1.0000</td>\n",
              "      <td>1.0000</td>\n",
              "      <td>172.4109</td>\n",
              "      <td>27.5731</td>\n",
              "      <td>121.4969</td>\n",
              "      <td>10.3061</td>\n",
              "      <td>148.9331</td>\n",
              "      <td>27.8493</td>\n",
              "      <td>159.0135</td>\n",
              "      <td>23.9666</td>\n",
              "      <td>116.9944</td>\n",
              "      <td>8.2358</td>\n",
              "      <td>117.7009</td>\n",
              "      <td>9.9957</td>\n",
              "      <td>139.4320</td>\n",
              "      <td>34.3293</td>\n",
              "      <td>139.3234</td>\n",
              "      <td>12.9900</td>\n",
              "      <td>120.7850</td>\n",
              "      <td>...</td>\n",
              "      <td>0.71382</td>\n",
              "      <td>538.8446</td>\n",
              "      <td>1.1436</td>\n",
              "      <td>0.002162</td>\n",
              "      <td>0.47817</td>\n",
              "      <td>0.555670</td>\n",
              "      <td>3020.3680</td>\n",
              "      <td>1.90570</td>\n",
              "      <td>0.003108</td>\n",
              "      <td>0.31043</td>\n",
              "      <td>0.413750</td>\n",
              "      <td>1834.1052</td>\n",
              "      <td>2.4532</td>\n",
              "      <td>1.00000</td>\n",
              "      <td>5.725000e-08</td>\n",
              "      <td>0.106184</td>\n",
              "      <td>0.131952</td>\n",
              "      <td>0.096894</td>\n",
              "      <td>240.7780</td>\n",
              "      <td>NaN</td>\n",
              "      <td>NaN</td>\n",
              "      <td>NaN</td>\n",
              "      <td>NaN</td>\n",
              "      <td>NaN</td>\n",
              "      <td>NaN</td>\n",
              "      <td>NaN</td>\n",
              "      <td>NaN</td>\n",
              "      <td>NaN</td>\n",
              "      <td>NaN</td>\n",
              "      <td>NaN</td>\n",
              "      <td>NaN</td>\n",
              "      <td>NaN</td>\n",
              "      <td>NaN</td>\n",
              "      <td>NaN</td>\n",
              "      <td>NaN</td>\n",
              "      <td>NaN</td>\n",
              "      <td>NaN</td>\n",
              "      <td>NaN</td>\n",
              "      <td>NaN</td>\n",
              "      <td>GBM</td>\n",
              "    </tr>\n",
              "  </tbody>\n",
              "</table>\n",
              "<p>5 rows × 725 columns</p>\n",
              "</div>"
            ],
            "text/plain": [
              "              VOLUME_ET  VOLUME_NET  VOLUME_ED  ...  TGM_Cog_Z_6  TGM_T_6  label\n",
              "ID                                              ...                             \n",
              "TCGA-02-0006       1662         384      36268  ...          NaN      NaN    GBM\n",
              "TCGA-02-0009       4362        4349      15723  ...          NaN      NaN    GBM\n",
              "TCGA-02-0011      33404       48612      45798  ...          NaN      NaN    GBM\n",
              "TCGA-02-0027      12114        7587      34086  ...          NaN      NaN    GBM\n",
              "TCGA-02-0033      34538        7137      65653  ...          NaN      NaN    GBM\n",
              "\n",
              "[5 rows x 725 columns]"
            ]
          },
          "metadata": {
            "tags": []
          },
          "execution_count": 95
        }
      ]
    },
    {
      "cell_type": "markdown",
      "metadata": {
        "id": "gY9t_GtJ1KrG",
        "colab_type": "text"
      },
      "source": [
        "# Preprocessing"
      ]
    },
    {
      "cell_type": "code",
      "metadata": {
        "id": "nu6Fcr8N-tlM",
        "colab_type": "code",
        "outputId": "e0829754-5613-448d-f05d-07cd918dca4a",
        "colab": {
          "base_uri": "https://localhost:8080/",
          "height": 34
        }
      },
      "source": [
        "# Drop columns which contain NaN values\n",
        "threshold = math.floor(len(data)/2)  # calculate threshold, half of total rows\n",
        "data_drop = data.dropna(thresh=threshold, axis=1)  # Delete columns/features with more than 'threshold' NaNs\n",
        "data_drop = data_drop.fillna(data_drop.median())  # Replace the remaining NaNs with median of feature\n",
        "\n",
        "data_drop.isnull().values.any()  # Check if all the NaNs are deleted or replaced (False = there are no NaNs left)"
      ],
      "execution_count": 96,
      "outputs": [
        {
          "output_type": "execute_result",
          "data": {
            "text/plain": [
              "False"
            ]
          },
          "metadata": {
            "tags": []
          },
          "execution_count": 96
        }
      ]
    },
    {
      "cell_type": "code",
      "metadata": {
        "id": "0F45dLJCIa7l",
        "colab_type": "code",
        "colab": {}
      },
      "source": [
        "# Split data and labels\n",
        "labels = data_drop['label']\n",
        "data_drop = data_drop.drop(columns=\"label\")  # Data without labels"
      ],
      "execution_count": 0,
      "outputs": []
    },
    {
      "cell_type": "code",
      "metadata": {
        "id": "kl2rwSBvHPjO",
        "colab_type": "code",
        "colab": {}
      },
      "source": [
        "# Convert labels 'GBM' and 'LGG' to respectively 0 and 1\n",
        "label_encoder = LabelEncoder()\n",
        "labels = label_encoder.fit_transform(labels)\n",
        "\n",
        "# Replace strings and infinity values with median of feature\n",
        "data_no_strings = data_drop.replace('#DIV/0!', np.nan)\n",
        "data_no_strings = data_no_strings.replace([np.inf, -np.inf], np.nan)\n",
        "data_no_strings = data_no_strings.fillna(data_no_strings.median())\n",
        "\n",
        "\n",
        "# Split the data in a train (90%) and test set (10%)\n",
        "data_train, data_test, label_train, label_test = train_test_split(data_no_strings, labels, test_size=0.2, stratify=labels)\n",
        "# data_train2, data_val, label_train2, label_val = train_test_split(data_train, label_train, test_size=0.1)"
      ],
      "execution_count": 0,
      "outputs": []
    },
    {
      "cell_type": "code",
      "metadata": {
        "id": "Cm3fAHRsHwjo",
        "colab_type": "code",
        "outputId": "9b5eda86-965c-437b-fc75-5c295608586d",
        "colab": {
          "base_uri": "https://localhost:8080/",
          "height": 279
        }
      },
      "source": [
        "# Feature scaling\n",
        "scaler = StandardScaler()\n",
        "transformer = scaler.fit(data_train.values)\n",
        "data_scaled_train = transformer.transform(data_train.values)\n",
        "data_df_train = pd.DataFrame(data_scaled_train, index = data_train.index, columns = data_train.columns)\n",
        "\n",
        "data_scaled_test = transformer.transform(data_test.values)\n",
        "data_df_test = pd.DataFrame(data_scaled_test, index = data_test.index, columns = data_test.columns)\n",
        "\n",
        "# PCA\n",
        "pca_plot = PCA().fit(data_df_train)\n",
        "plt.plot(np.cumsum(pca_plot.explained_variance_ratio_))\n",
        "plt.xlabel('number of components')\n",
        "plt.ylabel('cumulative explained variance');\n"
      ],
      "execution_count": 99,
      "outputs": [
        {
          "output_type": "display_data",
          "data": {
            "image/png": "[encoded data removed]",
            "text/plain": [
              "<Figure size 432x288 with 1 Axes>"
            ]
          },
          "metadata": {
            "tags": [],
            "needs_background": "light"
          }
        }
      ]
    },
    {
      "cell_type": "code",
      "metadata": {
        "id": "-h59J5JDSDpa",
        "colab_type": "code",
        "colab": {
          "base_uri": "https://localhost:8080/",
          "height": 34
        },
        "outputId": "d3f28e9c-d8e3-4512-e4cf-0f854d0da433"
      },
      "source": [
        "# Feature selection with PCA\n",
        "  # Training set\n",
        "pca_train = PCA(0.95)  # Create a PCA with 130 components\n",
        "pca_train.fit(data_df_train)  # Fit PCA\n",
        "data_train_pca = pca_train.transform(data_df_train)\n",
        "\n",
        "  # Test set\n",
        "data_test_pca = pca_train.transform(data_df_test)  # Transform test data using PCA"
      ],
      "execution_count": 157,
      "outputs": [
        {
          "output_type": "stream",
          "text": [
            "69\n"
          ],
          "name": "stdout"
        }
      ]
    },
    {
      "cell_type": "markdown",
      "metadata": {
        "id": "SWNE7t2iF56P",
        "colab_type": "text"
      },
      "source": [
        "# Visualising the training set"
      ]
    },
    {
      "cell_type": "code",
      "metadata": {
        "id": "_A9WfhNQGABu",
        "colab_type": "code",
        "colab": {
          "base_uri": "https://localhost:8080/",
          "height": 513
        },
        "outputId": "b3cf2be5-20f6-4b60-d75e-d57653e47eb3"
      },
      "source": [
        "# Visualising the data with the first 2 Principal Components\n",
        "fig = plt.figure(figsize=(8, 8))\n",
        "ax = fig.add_subplot(111)\n",
        "ax.set_title(\"Two informative Principal Components\",\n",
        "             fontsize='small')\n",
        "ax.scatter(data_train_pca[:, 0], data_train_pca[:, 1], marker='o', c=label_train,\n",
        "           s=25, edgecolor='k', cmap=plt.cm.Paired)"
      ],
      "execution_count": 101,
      "outputs": [
        {
          "output_type": "execute_result",
          "data": {
            "text/plain": [
              "<matplotlib.collections.PathCollection at 0x7f4fd079d4e0>"
            ]
          },
          "metadata": {
            "tags": []
          },
          "execution_count": 101
        },
        {
          "output_type": "display_data",
          "data": {
            "image/png": "[encoded data removed]",
            "text/plain": [
              "<Figure size 576x576 with 1 Axes>"
            ]
          },
          "metadata": {
            "tags": [],
            "needs_background": "light"
          }
        }
      ]
    },
    {
      "cell_type": "markdown",
      "metadata": {
        "id": "ANFuoo-r_yek",
        "colab_type": "text"
      },
      "source": [
        "# Classifiers"
      ]
    },
    {
      "cell_type": "markdown",
      "metadata": {
        "id": "6iBDajYWG_jR",
        "colab_type": "text"
      },
      "source": [
        "## k-Nearest-Neighbors"
      ]
    },
    {
      "cell_type": "code",
      "metadata": {
        "id": "yjD9zPASHD4s",
        "colab_type": "code",
        "outputId": "a69b1e41-2748-472a-9e13-e44b863e8971",
        "colab": {
          "base_uri": "https://localhost:8080/",
          "height": 682
        }
      },
      "source": [
        "# Using different n_neighbors with weights = 'distance'\n",
        "print('Results when weights are based on distance:')\n",
        "n_neighbors=[1,5,7,10,11,15,20,50,100]\n",
        "for n_neighbor in n_neighbors:\n",
        "  clf = KNeighborsClassifier(n_neighbors=n_neighbor, weights='distance')\n",
        "  clf.fit(data_train_pca, label_train)\n",
        "\n",
        "  pred_train_knn = clf.predict(data_train_pca)\n",
        "  acc_train_knn = accuracy_score(label_train, pred_train_knn)\n",
        "  print ('Train set: {} neighbors gives an accuracy of {}'.format(n_neighbor, round(acc_train_knn,2)))\n",
        "\n",
        "  pred_test_knn = clf.predict(data_test_pca)\n",
        "  acc_test_knn = accuracy_score(label_test, pred_test_knn)\n",
        "  print ('Test set: {} neighbors gives an accuracy of {}'.format(n_neighbor, round(acc_train_knn,2)))\n",
        "\n",
        "# Using different n_neighbors with weights = 'uniform'\n",
        "print('\\n Results when weights are uniform:')\n",
        "n_neighbors=[1,5,7,10,11,15,20,50,100]\n",
        "for n_neighbor in n_neighbors:\n",
        "  clf = KNeighborsClassifier(n_neighbors=n_neighbor, weights='uniform')\n",
        "  clf.fit(data_train_pca, label_train)\n",
        "\n",
        "  pred_train_knn = clf.predict(data_train_pca)\n",
        "  acc_train_knn = accuracy_score(label_train, pred_train_knn)\n",
        "  print ('Train set: {} neighbors gives an accuracy of {}'.format(n_neighbor, round(acc_train_knn,2)))\n",
        "  \n",
        "  pred_test_knn = clf.predict(data_test_pca)\n",
        "  acc_test_knn = accuracy_score(label_test, pred_test_knn)\n",
        "  print ('Test set: {} neighbors gives an accuracy of {}'.format(n_neighbor, round(acc_train_knn,2)))"
      ],
      "execution_count": 102,
      "outputs": [
        {
          "output_type": "stream",
          "text": [
            "Results when weights are based on distance:\n",
            "Train set: 1 neighbors gives an accuracy of 1.0\n",
            "Test set: 1 neighbors gives an accuracy of 1.0\n",
            "Train set: 5 neighbors gives an accuracy of 1.0\n",
            "Test set: 5 neighbors gives an accuracy of 1.0\n",
            "Train set: 7 neighbors gives an accuracy of 1.0\n",
            "Test set: 7 neighbors gives an accuracy of 1.0\n",
            "Train set: 10 neighbors gives an accuracy of 1.0\n",
            "Test set: 10 neighbors gives an accuracy of 1.0\n",
            "Train set: 11 neighbors gives an accuracy of 1.0\n",
            "Test set: 11 neighbors gives an accuracy of 1.0\n",
            "Train set: 15 neighbors gives an accuracy of 1.0\n",
            "Test set: 15 neighbors gives an accuracy of 1.0\n",
            "Train set: 20 neighbors gives an accuracy of 1.0\n",
            "Test set: 20 neighbors gives an accuracy of 1.0\n",
            "Train set: 50 neighbors gives an accuracy of 1.0\n",
            "Test set: 50 neighbors gives an accuracy of 1.0\n",
            "Train set: 100 neighbors gives an accuracy of 1.0\n",
            "Test set: 100 neighbors gives an accuracy of 1.0\n",
            "\n",
            " Results when weights are uniform:\n",
            "Train set: 1 neighbors gives an accuracy of 1.0\n",
            "Test set: 1 neighbors gives an accuracy of 1.0\n",
            "Train set: 5 neighbors gives an accuracy of 0.9\n",
            "Test set: 5 neighbors gives an accuracy of 0.9\n",
            "Train set: 7 neighbors gives an accuracy of 0.88\n",
            "Test set: 7 neighbors gives an accuracy of 0.88\n",
            "Train set: 10 neighbors gives an accuracy of 0.85\n",
            "Test set: 10 neighbors gives an accuracy of 0.85\n",
            "Train set: 11 neighbors gives an accuracy of 0.85\n",
            "Test set: 11 neighbors gives an accuracy of 0.85\n",
            "Train set: 15 neighbors gives an accuracy of 0.86\n",
            "Test set: 15 neighbors gives an accuracy of 0.86\n",
            "Train set: 20 neighbors gives an accuracy of 0.83\n",
            "Test set: 20 neighbors gives an accuracy of 0.83\n",
            "Train set: 50 neighbors gives an accuracy of 0.68\n",
            "Test set: 50 neighbors gives an accuracy of 0.68\n",
            "Train set: 100 neighbors gives an accuracy of 0.61\n",
            "Test set: 100 neighbors gives an accuracy of 0.61\n"
          ],
          "name": "stdout"
        }
      ]
    },
    {
      "cell_type": "code",
      "metadata": {
        "id": "TDIepeN9JT14",
        "colab_type": "code",
        "outputId": "da34ad6d-05d7-4a98-eb3a-5ee045d709b8",
        "colab": {
          "base_uri": "https://localhost:8080/",
          "height": 895
        }
      },
      "source": [
        "# Hyperparameter optimization of number of neighbors and weights\n",
        "\n",
        "# Our parameter to optimize is the number of estimators, which we vary uniformly between 1 and 400\n",
        "param_distributions = {'n_neighbors': [1,5,7,10,11,15,20,50,100], 'weights': ['uniform','distance']}  # Willen we dit toevoegen: 'bootstrap': [True, False]? Maar dan komt vgm vaak False eruit, mar die overfit. \n",
        "    \n",
        "# Execute RandomizedSearchCV to find optimal parameters\n",
        "clf_knn = RandomizedSearchCV(KNeighborsClassifier(), param_distributions, scoring='accuracy', cv=5, return_train_score=True)\n",
        "\n",
        "# Fit the classifier\n",
        "clf_knn.fit(data_train_pca, label_train)\n",
        "\n",
        "# The best parameters\n",
        "print(f'The best parameters are {clf_knn.best_params_} with a mean accuracy of {clf_knn.best_score_}')\n",
        "\n",
        "pd.DataFrame(clf_knn.cv_results_)\n"
      ],
      "execution_count": 103,
      "outputs": [
        {
          "output_type": "stream",
          "text": [
            "The best parameters are {'weights': 'uniform', 'n_neighbors': 1} with a mean accuracy of 0.8652421652421654\n"
          ],
          "name": "stdout"
        },
        {
          "output_type": "execute_result",
          "data": {
            "text/html": [
              "<div>\n",
              "<style scoped>\n",
              "    .dataframe tbody tr th:only-of-type {\n",
              "        vertical-align: middle;\n",
              "    }\n",
              "\n",
              "    .dataframe tbody tr th {\n",
              "        vertical-align: top;\n",
              "    }\n",
              "\n",
              "    .dataframe thead th {\n",
              "        text-align: right;\n",
              "    }\n",
              "</style>\n",
              "<table border=\"1\" class=\"dataframe\">\n",
              "  <thead>\n",
              "    <tr style=\"text-align: right;\">\n",
              "      <th></th>\n",
              "      <th>mean_fit_time</th>\n",
              "      <th>std_fit_time</th>\n",
              "      <th>mean_score_time</th>\n",
              "      <th>std_score_time</th>\n",
              "      <th>param_weights</th>\n",
              "      <th>param_n_neighbors</th>\n",
              "      <th>params</th>\n",
              "      <th>split0_test_score</th>\n",
              "      <th>split1_test_score</th>\n",
              "      <th>split2_test_score</th>\n",
              "      <th>split3_test_score</th>\n",
              "      <th>split4_test_score</th>\n",
              "      <th>mean_test_score</th>\n",
              "      <th>std_test_score</th>\n",
              "      <th>rank_test_score</th>\n",
              "      <th>split0_train_score</th>\n",
              "      <th>split1_train_score</th>\n",
              "      <th>split2_train_score</th>\n",
              "      <th>split3_train_score</th>\n",
              "      <th>split4_train_score</th>\n",
              "      <th>mean_train_score</th>\n",
              "      <th>std_train_score</th>\n",
              "    </tr>\n",
              "  </thead>\n",
              "  <tbody>\n",
              "    <tr>\n",
              "      <th>0</th>\n",
              "      <td>0.000835</td>\n",
              "      <td>0.000064</td>\n",
              "      <td>0.002084</td>\n",
              "      <td>0.000881</td>\n",
              "      <td>distance</td>\n",
              "      <td>10</td>\n",
              "      <td>{'weights': 'distance', 'n_neighbors': 10}</td>\n",
              "      <td>0.814815</td>\n",
              "      <td>0.777778</td>\n",
              "      <td>0.888889</td>\n",
              "      <td>0.846154</td>\n",
              "      <td>0.923077</td>\n",
              "      <td>0.850142</td>\n",
              "      <td>0.051617</td>\n",
              "      <td>4</td>\n",
              "      <td>1.000000</td>\n",
              "      <td>1.000000</td>\n",
              "      <td>1.000000</td>\n",
              "      <td>1.000000</td>\n",
              "      <td>1.000000</td>\n",
              "      <td>1.000000</td>\n",
              "      <td>0.000000</td>\n",
              "    </tr>\n",
              "    <tr>\n",
              "      <th>1</th>\n",
              "      <td>0.000872</td>\n",
              "      <td>0.000068</td>\n",
              "      <td>0.002876</td>\n",
              "      <td>0.000171</td>\n",
              "      <td>uniform</td>\n",
              "      <td>10</td>\n",
              "      <td>{'weights': 'uniform', 'n_neighbors': 10}</td>\n",
              "      <td>0.777778</td>\n",
              "      <td>0.814815</td>\n",
              "      <td>0.851852</td>\n",
              "      <td>0.769231</td>\n",
              "      <td>0.923077</td>\n",
              "      <td>0.827350</td>\n",
              "      <td>0.056136</td>\n",
              "      <td>6</td>\n",
              "      <td>0.849057</td>\n",
              "      <td>0.830189</td>\n",
              "      <td>0.849057</td>\n",
              "      <td>0.850467</td>\n",
              "      <td>0.831776</td>\n",
              "      <td>0.842109</td>\n",
              "      <td>0.009113</td>\n",
              "    </tr>\n",
              "    <tr>\n",
              "      <th>2</th>\n",
              "      <td>0.000601</td>\n",
              "      <td>0.000030</td>\n",
              "      <td>0.001304</td>\n",
              "      <td>0.000150</td>\n",
              "      <td>distance</td>\n",
              "      <td>5</td>\n",
              "      <td>{'weights': 'distance', 'n_neighbors': 5}</td>\n",
              "      <td>0.777778</td>\n",
              "      <td>0.851852</td>\n",
              "      <td>0.814815</td>\n",
              "      <td>0.769231</td>\n",
              "      <td>0.884615</td>\n",
              "      <td>0.819658</td>\n",
              "      <td>0.043764</td>\n",
              "      <td>7</td>\n",
              "      <td>1.000000</td>\n",
              "      <td>1.000000</td>\n",
              "      <td>1.000000</td>\n",
              "      <td>1.000000</td>\n",
              "      <td>1.000000</td>\n",
              "      <td>1.000000</td>\n",
              "      <td>0.000000</td>\n",
              "    </tr>\n",
              "    <tr>\n",
              "      <th>3</th>\n",
              "      <td>0.000566</td>\n",
              "      <td>0.000035</td>\n",
              "      <td>0.001979</td>\n",
              "      <td>0.000214</td>\n",
              "      <td>uniform</td>\n",
              "      <td>7</td>\n",
              "      <td>{'weights': 'uniform', 'n_neighbors': 7}</td>\n",
              "      <td>0.777778</td>\n",
              "      <td>0.814815</td>\n",
              "      <td>0.777778</td>\n",
              "      <td>0.769231</td>\n",
              "      <td>0.923077</td>\n",
              "      <td>0.812536</td>\n",
              "      <td>0.057474</td>\n",
              "      <td>8</td>\n",
              "      <td>0.858491</td>\n",
              "      <td>0.877358</td>\n",
              "      <td>0.886792</td>\n",
              "      <td>0.906542</td>\n",
              "      <td>0.859813</td>\n",
              "      <td>0.877799</td>\n",
              "      <td>0.017908</td>\n",
              "    </tr>\n",
              "    <tr>\n",
              "      <th>4</th>\n",
              "      <td>0.000595</td>\n",
              "      <td>0.000075</td>\n",
              "      <td>0.001475</td>\n",
              "      <td>0.000250</td>\n",
              "      <td>distance</td>\n",
              "      <td>50</td>\n",
              "      <td>{'weights': 'distance', 'n_neighbors': 50}</td>\n",
              "      <td>0.703704</td>\n",
              "      <td>0.666667</td>\n",
              "      <td>0.629630</td>\n",
              "      <td>0.615385</td>\n",
              "      <td>0.692308</td>\n",
              "      <td>0.661538</td>\n",
              "      <td>0.034349</td>\n",
              "      <td>9</td>\n",
              "      <td>1.000000</td>\n",
              "      <td>1.000000</td>\n",
              "      <td>1.000000</td>\n",
              "      <td>1.000000</td>\n",
              "      <td>1.000000</td>\n",
              "      <td>1.000000</td>\n",
              "      <td>0.000000</td>\n",
              "    </tr>\n",
              "    <tr>\n",
              "      <th>5</th>\n",
              "      <td>0.000590</td>\n",
              "      <td>0.000039</td>\n",
              "      <td>0.002114</td>\n",
              "      <td>0.000120</td>\n",
              "      <td>uniform</td>\n",
              "      <td>50</td>\n",
              "      <td>{'weights': 'uniform', 'n_neighbors': 50}</td>\n",
              "      <td>0.703704</td>\n",
              "      <td>0.666667</td>\n",
              "      <td>0.592593</td>\n",
              "      <td>0.615385</td>\n",
              "      <td>0.653846</td>\n",
              "      <td>0.646439</td>\n",
              "      <td>0.039005</td>\n",
              "      <td>10</td>\n",
              "      <td>0.641509</td>\n",
              "      <td>0.641509</td>\n",
              "      <td>0.641509</td>\n",
              "      <td>0.663551</td>\n",
              "      <td>0.635514</td>\n",
              "      <td>0.644719</td>\n",
              "      <td>0.009698</td>\n",
              "    </tr>\n",
              "    <tr>\n",
              "      <th>6</th>\n",
              "      <td>0.000673</td>\n",
              "      <td>0.000112</td>\n",
              "      <td>0.001390</td>\n",
              "      <td>0.000216</td>\n",
              "      <td>distance</td>\n",
              "      <td>15</td>\n",
              "      <td>{'weights': 'distance', 'n_neighbors': 15}</td>\n",
              "      <td>0.851852</td>\n",
              "      <td>0.851852</td>\n",
              "      <td>0.851852</td>\n",
              "      <td>0.769231</td>\n",
              "      <td>0.923077</td>\n",
              "      <td>0.849573</td>\n",
              "      <td>0.048730</td>\n",
              "      <td>5</td>\n",
              "      <td>1.000000</td>\n",
              "      <td>1.000000</td>\n",
              "      <td>1.000000</td>\n",
              "      <td>1.000000</td>\n",
              "      <td>1.000000</td>\n",
              "      <td>1.000000</td>\n",
              "      <td>0.000000</td>\n",
              "    </tr>\n",
              "    <tr>\n",
              "      <th>7</th>\n",
              "      <td>0.000572</td>\n",
              "      <td>0.000027</td>\n",
              "      <td>0.001737</td>\n",
              "      <td>0.000034</td>\n",
              "      <td>uniform</td>\n",
              "      <td>1</td>\n",
              "      <td>{'weights': 'uniform', 'n_neighbors': 1}</td>\n",
              "      <td>0.851852</td>\n",
              "      <td>0.777778</td>\n",
              "      <td>0.888889</td>\n",
              "      <td>0.884615</td>\n",
              "      <td>0.923077</td>\n",
              "      <td>0.865242</td>\n",
              "      <td>0.049211</td>\n",
              "      <td>1</td>\n",
              "      <td>1.000000</td>\n",
              "      <td>1.000000</td>\n",
              "      <td>1.000000</td>\n",
              "      <td>1.000000</td>\n",
              "      <td>1.000000</td>\n",
              "      <td>1.000000</td>\n",
              "      <td>0.000000</td>\n",
              "    </tr>\n",
              "    <tr>\n",
              "      <th>8</th>\n",
              "      <td>0.000561</td>\n",
              "      <td>0.000028</td>\n",
              "      <td>0.001098</td>\n",
              "      <td>0.000054</td>\n",
              "      <td>distance</td>\n",
              "      <td>1</td>\n",
              "      <td>{'weights': 'distance', 'n_neighbors': 1}</td>\n",
              "      <td>0.851852</td>\n",
              "      <td>0.777778</td>\n",
              "      <td>0.888889</td>\n",
              "      <td>0.884615</td>\n",
              "      <td>0.923077</td>\n",
              "      <td>0.865242</td>\n",
              "      <td>0.049211</td>\n",
              "      <td>1</td>\n",
              "      <td>1.000000</td>\n",
              "      <td>1.000000</td>\n",
              "      <td>1.000000</td>\n",
              "      <td>1.000000</td>\n",
              "      <td>1.000000</td>\n",
              "      <td>1.000000</td>\n",
              "      <td>0.000000</td>\n",
              "    </tr>\n",
              "    <tr>\n",
              "      <th>9</th>\n",
              "      <td>0.000711</td>\n",
              "      <td>0.000301</td>\n",
              "      <td>0.001372</td>\n",
              "      <td>0.000422</td>\n",
              "      <td>distance</td>\n",
              "      <td>11</td>\n",
              "      <td>{'weights': 'distance', 'n_neighbors': 11}</td>\n",
              "      <td>0.851852</td>\n",
              "      <td>0.814815</td>\n",
              "      <td>0.888889</td>\n",
              "      <td>0.846154</td>\n",
              "      <td>0.923077</td>\n",
              "      <td>0.864957</td>\n",
              "      <td>0.037390</td>\n",
              "      <td>3</td>\n",
              "      <td>1.000000</td>\n",
              "      <td>1.000000</td>\n",
              "      <td>1.000000</td>\n",
              "      <td>1.000000</td>\n",
              "      <td>1.000000</td>\n",
              "      <td>1.000000</td>\n",
              "      <td>0.000000</td>\n",
              "    </tr>\n",
              "  </tbody>\n",
              "</table>\n",
              "</div>"
            ],
            "text/plain": [
              "   mean_fit_time  std_fit_time  ...  mean_train_score  std_train_score\n",
              "0       0.000835      0.000064  ...          1.000000         0.000000\n",
              "1       0.000872      0.000068  ...          0.842109         0.009113\n",
              "2       0.000601      0.000030  ...          1.000000         0.000000\n",
              "3       0.000566      0.000035  ...          0.877799         0.017908\n",
              "4       0.000595      0.000075  ...          1.000000         0.000000\n",
              "5       0.000590      0.000039  ...          0.644719         0.009698\n",
              "6       0.000673      0.000112  ...          1.000000         0.000000\n",
              "7       0.000572      0.000027  ...          1.000000         0.000000\n",
              "8       0.000561      0.000028  ...          1.000000         0.000000\n",
              "9       0.000711      0.000301  ...          1.000000         0.000000\n",
              "\n",
              "[10 rows x 22 columns]"
            ]
          },
          "metadata": {
            "tags": []
          },
          "execution_count": 103
        }
      ]
    },
    {
      "cell_type": "code",
      "metadata": {
        "id": "prh3ZaQoWbkK",
        "colab_type": "code",
        "colab": {
          "base_uri": "https://localhost:8080/",
          "height": 231
        },
        "outputId": "b63ee55d-67b0-4da6-b973-5eccaf885829"
      },
      "source": [
        "# Fitting the K-NN Classifier\n",
        "KNN = KNeighborsClassifier(n_neighbors=5, weights='uniform')\n",
        "KNN.fit(data_train_pca, label_train)\n",
        "\n",
        "# Predictions\n",
        "train_pred_knn = KNN.predict(data_train_pca)"
      ],
      "execution_count": 234,
      "outputs": [
        {
          "output_type": "error",
          "ename": "AttributeError",
          "evalue": "ignored",
          "traceback": [
            "\u001b[0;31m---------------------------------------------------------------------------\u001b[0m",
            "\u001b[0;31mAttributeError\u001b[0m                            Traceback (most recent call last)",
            "\u001b[0;32m<ipython-input-234-5442ca9d56e5>\u001b[0m in \u001b[0;36m<module>\u001b[0;34m()\u001b[0m\n\u001b[1;32m      1\u001b[0m \u001b[0mKNN\u001b[0m \u001b[0;34m=\u001b[0m \u001b[0mKNeighborsClassifier\u001b[0m\u001b[0;34m(\u001b[0m\u001b[0mn_neighbors\u001b[0m\u001b[0;34m=\u001b[0m\u001b[0;36m5\u001b[0m\u001b[0;34m,\u001b[0m \u001b[0mweights\u001b[0m\u001b[0;34m=\u001b[0m\u001b[0;34m'uniform'\u001b[0m\u001b[0;34m)\u001b[0m\u001b[0;34m\u001b[0m\u001b[0;34m\u001b[0m\u001b[0m\n\u001b[1;32m      2\u001b[0m \u001b[0mKNN\u001b[0m\u001b[0;34m.\u001b[0m\u001b[0mfit\u001b[0m\u001b[0;34m(\u001b[0m\u001b[0mdata_train_pca\u001b[0m\u001b[0;34m,\u001b[0m \u001b[0mlabel_train\u001b[0m\u001b[0;34m)\u001b[0m\u001b[0;34m\u001b[0m\u001b[0;34m\u001b[0m\u001b[0m\n\u001b[0;32m----> 3\u001b[0;31m \u001b[0mimportances\u001b[0m \u001b[0;34m=\u001b[0m \u001b[0mKNN\u001b[0m\u001b[0;34m.\u001b[0m\u001b[0mfeature_importances_\u001b[0m\u001b[0;34m\u001b[0m\u001b[0;34m\u001b[0m\u001b[0m\n\u001b[0m\u001b[1;32m      4\u001b[0m \u001b[0;34m\u001b[0m\u001b[0m\n\u001b[1;32m      5\u001b[0m \u001b[0;31m# Predictions\u001b[0m\u001b[0;34m\u001b[0m\u001b[0;34m\u001b[0m\u001b[0;34m\u001b[0m\u001b[0m\n",
            "\u001b[0;31mAttributeError\u001b[0m: 'KNeighborsClassifier' object has no attribute 'feature_importances_'"
          ]
        }
      ]
    },
    {
      "cell_type": "code",
      "metadata": {
        "id": "3m_gEMYgW7eo",
        "colab_type": "code",
        "outputId": "38a2602a-9929-4bb9-d6e0-744af9d19621",
        "colab": {
          "base_uri": "https://localhost:8080/",
          "height": 102
        }
      },
      "source": [
        "# Evaluate KNN using cross-validation\n",
        "score_knn = cross_val_score(KNN, data_train_pca, label_train, cv=5)\n",
        "mean_score_knn = score_knn.mean()\n",
        "\n",
        "print(f'The accuracy of the validation set in 5 different folds is {score_knn}')\n",
        "print(f'\\n The mean accuracy of the validation set of 5 different folds is {round(mean_score_knn,2)}')\n",
        "\n",
        "# Evaluate accuracy of KNN on training set\n",
        "acc_train_knn = accuracy_score(label_train, train_pred_knn)\n",
        "print(f'\\n The accuracy of the training set is {round(acc_train_knn,2)}')"
      ],
      "execution_count": 105,
      "outputs": [
        {
          "output_type": "stream",
          "text": [
            "The accuracy of the validation set in 5 different folds is [0.77777778 0.85185185 0.81481481 0.76923077 0.88461538]\n",
            "\n",
            " The mean accuracy of the validation set of 5 different folds is 0.82\n",
            "\n",
            " The accuracy of the training set is 0.9\n"
          ],
          "name": "stdout"
        }
      ]
    },
    {
      "cell_type": "code",
      "metadata": {
        "id": "9JgSmsPxiHHq",
        "colab_type": "code",
        "outputId": "39017e2a-e504-4921-c79c-efd168bd37ba",
        "colab": {
          "base_uri": "https://localhost:8080/",
          "height": 221
        }
      },
      "source": [
        "# Confusion matrices and classification reports of trainings data\n",
        "print('Confusion matrix and classification report of training set')\n",
        "print(confusion_matrix(label_train, train_pred_knn))\n",
        "print(classification_report(label_train, train_pred_knn))"
      ],
      "execution_count": 106,
      "outputs": [
        {
          "output_type": "stream",
          "text": [
            "Confusion matrix and classification report of training set\n",
            "[[76  5]\n",
            " [ 8 44]]\n",
            "              precision    recall  f1-score   support\n",
            "\n",
            "           0       0.90      0.94      0.92        81\n",
            "           1       0.90      0.85      0.87        52\n",
            "\n",
            "    accuracy                           0.90       133\n",
            "   macro avg       0.90      0.89      0.90       133\n",
            "weighted avg       0.90      0.90      0.90       133\n",
            "\n"
          ],
          "name": "stdout"
        }
      ]
    },
    {
      "cell_type": "markdown",
      "metadata": {
        "id": "zWWd0nzQPEfa",
        "colab_type": "text"
      },
      "source": [
        "## Random Forest Classifier"
      ]
    },
    {
      "cell_type": "code",
      "metadata": {
        "id": "FA1o4T0F6lOy",
        "colab_type": "code",
        "outputId": "9b29871b-5212-4fa1-d887-8194cf2351b1",
        "colab": {
          "base_uri": "https://localhost:8080/",
          "height": 750
        }
      },
      "source": [
        "# Hyperparameter optimization: trying out different amount of trees and compare bootstrapping True and False.\n",
        "\n",
        "#using different n_trees and bootstrapping  \n",
        "print('Results when bootstrapping=True')\n",
        "n_trees=[1,5,10,15,20,30,50,100,150,200]\n",
        "for n_tree in n_trees:\n",
        "  clf = RandomForestClassifier(n_estimators=n_tree, bootstrap=True)\n",
        "  clf.fit(data_train_pca,label_train)\n",
        "  \n",
        "  predictions_train = clf.predict(data_train_pca)\n",
        "  acc_train_RF = accuracy_score(label_train, predictions_train)\n",
        "  \n",
        "  print ('Train set: {} trees gives an accuracy of {}'.format(n_tree, round(acc_train_RF,2)))\n",
        "\n",
        "  predictions_test = clf.predict(data_test_pca)\n",
        "  acc_test_RF = accuracy_score(label_test, predictions_test)\n",
        "\n",
        "  print ('Test set: {} trees gives an accuracy of {}'.format(n_tree, round(acc_test_RF, 2)))\n",
        "\n",
        "print ('')\n",
        "\n",
        "#using different n_trees without bootstrapping \n",
        "print('Results when bootstrapping=False')\n",
        "for n_tree in n_trees:\n",
        "  clf = RandomForestClassifier(n_estimators=n_tree, bootstrap=False)\n",
        "  clf.fit(data_train_pca,label_train)\n",
        "  \n",
        "  predictions_train = clf.predict(data_train_pca)\n",
        "  acc_train_RF = accuracy_score(label_train, predictions_train)\n",
        "  print ('Train set: {} trees gives an accuracy of {}'.format(n_tree,round(acc_train_RF,2)))\n",
        "\n",
        "  predictions_test = clf.predict(data_test_pca)\n",
        "  acc_test_RF = accuracy_score(label_test, predictions_test)\n",
        "\n",
        "  print ('Test set: {} trees gives an accuracy of {}'.format(n_tree,round(acc_test_RF,2)))"
      ],
      "execution_count": 107,
      "outputs": [
        {
          "output_type": "stream",
          "text": [
            "Results when bootstrapping=True\n",
            "Train set: 1 trees gives an accuracy of 0.86\n",
            "Test set: 1 trees gives an accuracy of 0.71\n",
            "Train set: 5 trees gives an accuracy of 0.98\n",
            "Test set: 5 trees gives an accuracy of 0.74\n",
            "Train set: 10 trees gives an accuracy of 0.96\n",
            "Test set: 10 trees gives an accuracy of 0.71\n",
            "Train set: 15 trees gives an accuracy of 1.0\n",
            "Test set: 15 trees gives an accuracy of 0.79\n",
            "Train set: 20 trees gives an accuracy of 1.0\n",
            "Test set: 20 trees gives an accuracy of 0.74\n",
            "Train set: 30 trees gives an accuracy of 1.0\n",
            "Test set: 30 trees gives an accuracy of 0.74\n",
            "Train set: 50 trees gives an accuracy of 1.0\n",
            "Test set: 50 trees gives an accuracy of 0.85\n",
            "Train set: 100 trees gives an accuracy of 1.0\n",
            "Test set: 100 trees gives an accuracy of 0.82\n",
            "Train set: 150 trees gives an accuracy of 1.0\n",
            "Test set: 150 trees gives an accuracy of 0.85\n",
            "Train set: 200 trees gives an accuracy of 1.0\n",
            "Test set: 200 trees gives an accuracy of 0.85\n",
            "\n",
            "Results when bootstrapping=False\n",
            "Train set: 1 trees gives an accuracy of 1.0\n",
            "Test set: 1 trees gives an accuracy of 0.62\n",
            "Train set: 5 trees gives an accuracy of 1.0\n",
            "Test set: 5 trees gives an accuracy of 0.74\n",
            "Train set: 10 trees gives an accuracy of 1.0\n",
            "Test set: 10 trees gives an accuracy of 0.74\n",
            "Train set: 15 trees gives an accuracy of 1.0\n",
            "Test set: 15 trees gives an accuracy of 0.85\n",
            "Train set: 20 trees gives an accuracy of 1.0\n",
            "Test set: 20 trees gives an accuracy of 0.76\n",
            "Train set: 30 trees gives an accuracy of 1.0\n",
            "Test set: 30 trees gives an accuracy of 0.88\n",
            "Train set: 50 trees gives an accuracy of 1.0\n",
            "Test set: 50 trees gives an accuracy of 0.88\n",
            "Train set: 100 trees gives an accuracy of 1.0\n",
            "Test set: 100 trees gives an accuracy of 0.85\n",
            "Train set: 150 trees gives an accuracy of 1.0\n",
            "Test set: 150 trees gives an accuracy of 0.85\n",
            "Train set: 200 trees gives an accuracy of 1.0\n",
            "Test set: 200 trees gives an accuracy of 0.82\n"
          ],
          "name": "stdout"
        }
      ]
    },
    {
      "cell_type": "code",
      "metadata": {
        "id": "w27ZGUSg9TPx",
        "colab_type": "code",
        "outputId": "23cf0188-3113-4180-d2b2-8c76efa5e7be",
        "colab": {
          "base_uri": "https://localhost:8080/",
          "height": 54
        }
      },
      "source": [
        "# Hyperparameter optimization of Random Forest Classifier\n",
        "\n",
        "# Our parameter to optimize is the number of estimators, which we vary uniformly between 1 and 400\n",
        "param_distributions = {'n_estimators': [1,5,10,15,20,30,50,100,150,200],\n",
        "                       'max_features': list(range(10,len(data_train_pca[1]),10)),\n",
        "                       'max_depth': list(range(10,50,10))} \n",
        "                        \n",
        "# Execute RandomizedSearchCV to find optimal parameters\n",
        "clf_rf = RandomizedSearchCV(RandomForestClassifier(bootstrap=True), param_distributions, scoring='accuracy', cv=5, return_train_score=True)\n",
        "\n",
        "# Fit the classifier\n",
        "clf_rf.fit(data_train_pca, label_train)\n",
        "\n",
        "# The best parameters\n",
        "print(f'The best parameters are {clf_rf.best_params_} with a mean accuracy of {clf_rf.best_score_}')\n"
      ],
      "execution_count": 172,
      "outputs": [
        {
          "output_type": "stream",
          "text": [
            "The best parameters are {'n_estimators': 50, 'max_features': 50, 'max_depth': 30} with a mean accuracy of 0.79002849002849\n"
          ],
          "name": "stdout"
        }
      ]
    },
    {
      "cell_type": "markdown",
      "metadata": {
        "id": "wCVShgspj-lQ",
        "colab_type": "text"
      },
      "source": [
        "### Random Forest with PCA"
      ]
    },
    {
      "cell_type": "code",
      "metadata": {
        "id": "VJb6pbVk4Pc1",
        "colab_type": "code",
        "colab": {}
      },
      "source": [
        "# Fitting the Random Forest classifier with PCA\n",
        "RF = RandomForestClassifier(n_estimators=50, max_features=40, max_depth=40, bootstrap=True)\n",
        "RF.fit(data_train_pca, label_train)\n",
        "\n",
        "# Predictions\n",
        "train_pred_RF = RF.predict(data_train_pca)\n"
      ],
      "execution_count": 0,
      "outputs": []
    },
    {
      "cell_type": "code",
      "metadata": {
        "id": "LAxcrYvhVM1d",
        "colab_type": "code",
        "outputId": "8bc556e6-e694-4ce3-bb66-f4597021b6f6",
        "colab": {
          "base_uri": "https://localhost:8080/",
          "height": 119
        }
      },
      "source": [
        "# Evaluate Random Forest using cross-validation\n",
        "score_rf = cross_val_score(RF, data_train_pca, label_train, cv=5)\n",
        "mean_score_rf = score_rf.mean()\n",
        "\n",
        "print(f'\\n The accuracy of the validation set in 5 different folds is {score_rf}')\n",
        "print(f'\\n The mean accuracy of the validation set of 5 different folds is {round(mean_score_rf,2)}')\n",
        "\n",
        "# Evaluate accuracy of Random Forest Classifier on training set\n",
        "acc_train_RF = accuracy_score(label_train, train_pred_RF)\n",
        "print(f'\\n The accuracy on the training set is {round(acc_train_RF, 2)}')"
      ],
      "execution_count": 227,
      "outputs": [
        {
          "output_type": "stream",
          "text": [
            "\n",
            " The accuracy of the validation set in 5 different folds is [0.77777778 0.74074074 0.81481481 0.84615385 0.80769231]\n",
            "\n",
            " The mean accuracy of the validation set of 5 different folds is 0.8\n",
            "\n",
            " The accuracy on the training set is 1.0\n"
          ],
          "name": "stdout"
        }
      ]
    },
    {
      "cell_type": "code",
      "metadata": {
        "id": "QDVEd0zhh3Vu",
        "colab_type": "code",
        "outputId": "81a2c733-6e67-4da3-b793-bf5a7463145c",
        "colab": {
          "base_uri": "https://localhost:8080/",
          "height": 221
        }
      },
      "source": [
        "# Confusion matrices and classification reports of trainings data\n",
        "print('Confusion matrix and classification report of training set')\n",
        "print(confusion_matrix(label_train, train_pred_RF))\n",
        "print(classification_report(label_train, train_pred_RF))"
      ],
      "execution_count": 228,
      "outputs": [
        {
          "output_type": "stream",
          "text": [
            "Confusion matrix and classification report of training set\n",
            "[[81  0]\n",
            " [ 0 52]]\n",
            "              precision    recall  f1-score   support\n",
            "\n",
            "           0       1.00      1.00      1.00        81\n",
            "           1       1.00      1.00      1.00        52\n",
            "\n",
            "    accuracy                           1.00       133\n",
            "   macro avg       1.00      1.00      1.00       133\n",
            "weighted avg       1.00      1.00      1.00       133\n",
            "\n"
          ],
          "name": "stdout"
        }
      ]
    },
    {
      "cell_type": "markdown",
      "metadata": {
        "id": "1Yd-arh0kCLd",
        "colab_type": "text"
      },
      "source": [
        "### Random Forest with Feature Importances"
      ]
    },
    {
      "cell_type": "code",
      "metadata": {
        "id": "NwVNtBTOhoMD",
        "colab_type": "code",
        "colab": {
          "base_uri": "https://localhost:8080/",
          "height": 280
        },
        "outputId": "035e6b80-0ba8-4e04-af36-a927c43d3383"
      },
      "source": [
        "# Fitting the Random Forest Classifier with Feature_Importances\n",
        "FI = RandomForestClassifier(n_estimators=50, max_features=40, max_depth=40, bootstrap=True)\n",
        "FI.fit(data_df_train, label_train)\n",
        "importances = FI.feature_importances_\n",
        "std = np.std([tree.feature_importances_ for tree in FI.estimators_], axis=0)\n",
        "indices = np.argsort(importances)[::-1]\n",
        "\n",
        "# Print the feature ranking\n",
        "# print(\"Feature ranking:\")\n",
        "\n",
        "# for f in range(data_df_train.shape[1]):\n",
        "#     print(\"%d. feature %d (%f)\" % (f + 1, indices[f], importances[indices[f]]))\n",
        "\n",
        "# Plot the feature importances of the forest\n",
        "plt.figure()\n",
        "plt.title(\"Feature importances\")\n",
        "plt.bar(range(data_df_train.shape[1]), importances[indices],\n",
        "       color=\"r\", yerr=std[indices], align=\"center\")\n",
        "plt.xticks(range(data_df_train.shape[1]), indices)\n",
        "plt.xlim([-1, data_df_train.shape[1]])\n",
        "plt.show()\n",
        "\n",
        "# Only keep features with importance > 0.001\n",
        "  # Training set\n",
        "mask = importances > 0.001\n",
        "mask2 = data_df_train.columns[mask]\n",
        "data_train_selection = data_df_train[mask2]\n",
        "  # Test set\n",
        "data_test_selection = data_df_test[mask2]\n",
        "\n",
        "# Fit the classifier on the selected features\n",
        "FI2 = RandomForestClassifier(n_estimators=50, max_features=40, max_depth=40, bootstrap=True)\n",
        "FI2.fit(data_train_selection, label_train)\n",
        "\n",
        "# Predictions\n",
        "train_pred_fi = FI2.predict(data_train_selection)"
      ],
      "execution_count": 229,
      "outputs": [
        {
          "output_type": "display_data",
          "data": {
            "image/png": "[encoded data removed]",
            "text/plain": [
              "<Figure size 432x288 with 1 Axes>"
            ]
          },
          "metadata": {
            "tags": [],
            "needs_background": "light"
          }
        }
      ]
    },
    {
      "cell_type": "code",
      "metadata": {
        "id": "zvYo0A91kGAx",
        "colab_type": "code",
        "colab": {
          "base_uri": "https://localhost:8080/",
          "height": 119
        },
        "outputId": "dfa0f50a-d4c1-4d1c-af5b-d28406572ce5"
      },
      "source": [
        "# Evaluate Random Forest using cross-validation\n",
        "score_fi = cross_val_score(FI2, data_train_selection, label_train, cv=5)\n",
        "mean_score_fi = score_fi.mean()\n",
        "\n",
        "print(f'\\n The accuracy of the validation set in 5 different folds is {score_fi}')\n",
        "print(f'\\n The mean accuracy of the validation set of 5 different folds is {round(mean_score_fi,2)}')\n",
        "\n",
        "# Evaluate accuracy of Random Forest Classifier on training set\n",
        "acc_train_fi = accuracy_score(label_train, train_pred_fi)\n",
        "print(f'\\n The accuracy on the training set is {round(acc_train_fi, 2)}')"
      ],
      "execution_count": 230,
      "outputs": [
        {
          "output_type": "stream",
          "text": [
            "\n",
            " The accuracy of the validation set in 5 different folds is [0.85185185 0.92592593 0.88888889 0.88461538 1.        ]\n",
            "\n",
            " The mean accuracy of the validation set of 5 different folds is 0.91\n",
            "\n",
            " The accuracy on the training set is 1.0\n"
          ],
          "name": "stdout"
        }
      ]
    },
    {
      "cell_type": "code",
      "metadata": {
        "id": "BMrulvXMkLgn",
        "colab_type": "code",
        "colab": {
          "base_uri": "https://localhost:8080/",
          "height": 221
        },
        "outputId": "f2a26b3f-fc8b-4d08-bae6-7f7d028e54b9"
      },
      "source": [
        "# Confusion matrices and classification reports of trainings data\n",
        "print('Confusion matrix and classification report of training set')\n",
        "print(confusion_matrix(label_train, train_pred_fi))\n",
        "print(classification_report(label_train, train_pred_fi))"
      ],
      "execution_count": 231,
      "outputs": [
        {
          "output_type": "stream",
          "text": [
            "Confusion matrix and classification report of training set\n",
            "[[81  0]\n",
            " [ 0 52]]\n",
            "              precision    recall  f1-score   support\n",
            "\n",
            "           0       1.00      1.00      1.00        81\n",
            "           1       1.00      1.00      1.00        52\n",
            "\n",
            "    accuracy                           1.00       133\n",
            "   macro avg       1.00      1.00      1.00       133\n",
            "weighted avg       1.00      1.00      1.00       133\n",
            "\n"
          ],
          "name": "stdout"
        }
      ]
    },
    {
      "cell_type": "markdown",
      "metadata": {
        "id": "gL04AA6EH9_7",
        "colab_type": "text"
      },
      "source": [
        "## Support Vector Machine"
      ]
    },
    {
      "cell_type": "code",
      "metadata": {
        "id": "CrU_YknbHARw",
        "colab_type": "code",
        "colab": {
          "base_uri": "https://localhost:8080/",
          "height": 54
        },
        "outputId": "8d520183-d2cb-49de-e089-f2c5c2539b8d"
      },
      "source": [
        "# Hyperparameter optimization of SVM\n",
        "\n",
        "# Define parameters that need to be optimized\n",
        "degrees = [1, 3, 5]\n",
        "coef0s = [1, 0.5, 0.01]\n",
        "slacks = [0.1, 1, 10, 100]\n",
        "gammas = [1, 0.1 ,0.01, 0.001]\n",
        "kernels = ['linear', 'rbf', 'poly']\n",
        "\n",
        "# Creating paramater space\n",
        "param_grid = {'degree': degrees,'coef0': coef0s, 'C': slacks, 'gamma': gammas, 'kernel': kernels}\n",
        "\n",
        "# Execute RandomizedSearchCV to find optimal parameters\n",
        "clf_svm = RandomizedSearchCV(SVC(),param_grid, scoring='accuracy', cv=5, return_train_score=True)\n",
        "\n",
        "# Fit the classifier\n",
        "clf_svm.fit(data_train_pca, label_train)\n",
        "\n",
        "# The best parameters\n",
        "print(f'The best parameters are {clf_svm.best_params_} with a mean accuracy of {clf_svm.best_score_}')\n"
      ],
      "execution_count": 112,
      "outputs": [
        {
          "output_type": "stream",
          "text": [
            "The best parameters are {'kernel': 'linear', 'gamma': 1, 'degree': 3, 'coef0': 0.01, 'C': 10} with a mean accuracy of 0.8720797720797722\n"
          ],
          "name": "stdout"
        }
      ]
    },
    {
      "cell_type": "markdown",
      "metadata": {
        "id": "sCZWDiaAsRzE",
        "colab_type": "text"
      },
      "source": [
        "### SVM with PCA "
      ]
    },
    {
      "cell_type": "code",
      "metadata": {
        "id": "s0Zzz85DYOKV",
        "colab_type": "code",
        "colab": {}
      },
      "source": [
        "# Fitting the Support Vector Machine classifier\n",
        "SVM = SVC(C=10, kernel='linear', degree=1, gamma=0.001, coef0=0.01)\n",
        "SVM.fit(data_train_pca, label_train)\n",
        "\n",
        "# Predictions\n",
        "train_pred_svm = SVM.predict(data_train_pca)"
      ],
      "execution_count": 0,
      "outputs": []
    },
    {
      "cell_type": "code",
      "metadata": {
        "id": "WroktlYhUyat",
        "colab_type": "code",
        "colab": {
          "base_uri": "https://localhost:8080/",
          "height": 102
        },
        "outputId": "f725787f-2730-48fe-deca-05d93abfedbc"
      },
      "source": [
        "# Evaluate the SVM classifier using cross-validation\n",
        "score_svm = cross_val_score(SVM, data_train_pca, label_train, cv=5)\n",
        "mean_score_svm = score_svm.mean()\n",
        "\n",
        "print(f'The accuracy of the validation set in 5 different folds is {score_svm}')\n",
        "print(f'\\n The mean accuracy of the validation set of 5 different folds is {round(mean_score_svm,2)}')\n",
        "\n",
        "# Evaluate accuracy of SVM on training set\n",
        "acc_train_svm = accuracy_score(label_train, train_pred_svm)\n",
        "print(f'\\n The accuracy of the training set is {round(acc_train_svm,2)}')\n"
      ],
      "execution_count": 114,
      "outputs": [
        {
          "output_type": "stream",
          "text": [
            "The accuracy of the validation set in 5 different folds is [0.88888889 0.88888889 0.85185185 0.84615385 0.88461538]\n",
            "\n",
            " The mean accuracy of the validation set of 5 different folds is 0.87\n",
            "\n",
            " The accuracy of the training set is 1.0\n"
          ],
          "name": "stdout"
        }
      ]
    },
    {
      "cell_type": "code",
      "metadata": {
        "id": "dt_WPxIpgcvH",
        "colab_type": "code",
        "colab": {
          "base_uri": "https://localhost:8080/",
          "height": 221
        },
        "outputId": "33d38fa5-1c3d-4766-ced5-f0afee8cb226"
      },
      "source": [
        "# Confusion matrix and classification reports of trainings data\n",
        "print('Confusion matrix and classification report of training set')\n",
        "print(confusion_matrix(label_train, train_pred_svm))\n",
        "print(classification_report(label_train, train_pred_svm))"
      ],
      "execution_count": 115,
      "outputs": [
        {
          "output_type": "stream",
          "text": [
            "Confusion matrix and classification report of training set\n",
            "[[81  0]\n",
            " [ 0 52]]\n",
            "              precision    recall  f1-score   support\n",
            "\n",
            "           0       1.00      1.00      1.00        81\n",
            "           1       1.00      1.00      1.00        52\n",
            "\n",
            "    accuracy                           1.00       133\n",
            "   macro avg       1.00      1.00      1.00       133\n",
            "weighted avg       1.00      1.00      1.00       133\n",
            "\n"
          ],
          "name": "stdout"
        }
      ]
    },
    {
      "cell_type": "markdown",
      "metadata": {
        "id": "jwsWtFaIsiOf",
        "colab_type": "text"
      },
      "source": [
        "### SVM with RFECV\n",
        "Hyperparameter optimalisatie nog doen met RFECV ipv PCA"
      ]
    },
    {
      "cell_type": "code",
      "metadata": {
        "id": "tBKUUGJ5skQm",
        "colab_type": "code",
        "colab": {}
      },
      "source": [
        ""
      ],
      "execution_count": 0,
      "outputs": []
    },
    {
      "cell_type": "markdown",
      "metadata": {
        "id": "nSEXIhNo9jtU",
        "colab_type": "text"
      },
      "source": [
        "## Neural Networks"
      ]
    },
    {
      "cell_type": "code",
      "metadata": {
        "id": "bODUN5a09lfX",
        "colab_type": "code",
        "colab": {
          "base_uri": "https://localhost:8080/",
          "height": 54
        },
        "outputId": "a139ae7b-8be9-4e9d-84aa-f869a99cd0bc"
      },
      "source": [
        "# Hyperparameter optimization of Neural Network\n",
        "\n",
        "# Define parameter space that needs to be optimized\n",
        "parameter_space = {\n",
        "    'hidden_layer_sizes': [(50,50,50), (50,100,50), (100,), (7,2), (7,7,7),(9,9,9,9),(50,50,50,50), (50,50,50,50,50)],\n",
        "    'alpha': [0.0001, 0.05],\n",
        "    'learning_rate': ['constant','adaptive'],\n",
        "}\n",
        "    \n",
        "# Execute RandomizedSearchCV to find optimal parameters\n",
        "clf_mlp = RandomizedSearchCV(MLPClassifier(solver='lbfgs', max_iter=8000), parameter_space, scoring='accuracy', cv=5, return_train_score=True)  # Verbose=2 & refit=True uitzoeken\n",
        "\n",
        "# Fit the classifier\n",
        "clf_mlp.fit(data_train_pca, label_train)\n",
        "\n",
        "# The best parameters\n",
        "print(f'The best parameters are {clf_mlp.best_params_} with a mean accuracy of {clf_mlp.best_score_}')"
      ],
      "execution_count": 175,
      "outputs": [
        {
          "output_type": "stream",
          "text": [
            "The best parameters are {'learning_rate': 'constant', 'hidden_layer_sizes': (100,), 'alpha': 0.0001} with a mean accuracy of 0.9173789173789173\n"
          ],
          "name": "stdout"
        }
      ]
    },
    {
      "cell_type": "code",
      "metadata": {
        "id": "VuBiRAuB96Yf",
        "colab_type": "code",
        "colab": {
          "base_uri": "https://localhost:8080/",
          "height": 251
        },
        "outputId": "0801bfdd-72d2-4c4d-9707-e80a610bfeea"
      },
      "source": [
        "# Fitting the Neural Network Classifier with optimal hyperparameters\n",
        "MLP = MLPClassifier(solver='lbfgs', learning_rate='constant',hidden_layer_sizes=(100,), alpha=0.05, activation='relu', max_iter=1000)\n",
        "MLP.fit(data_train_pca, label_train)\n",
        "\n",
        "# Predictions\n",
        "train_pred_MLP = MLP.predict(data_train_pca)\n"
      ],
      "execution_count": 235,
      "outputs": [
        {
          "output_type": "error",
          "ename": "AttributeError",
          "evalue": "ignored",
          "traceback": [
            "\u001b[0;31m---------------------------------------------------------------------------\u001b[0m",
            "\u001b[0;31mAttributeError\u001b[0m                            Traceback (most recent call last)",
            "\u001b[0;32m<ipython-input-235-91d6b4539fb0>\u001b[0m in \u001b[0;36m<module>\u001b[0;34m()\u001b[0m\n\u001b[1;32m      1\u001b[0m \u001b[0mMLP\u001b[0m \u001b[0;34m=\u001b[0m \u001b[0mMLPClassifier\u001b[0m\u001b[0;34m(\u001b[0m\u001b[0msolver\u001b[0m\u001b[0;34m=\u001b[0m\u001b[0;34m'lbfgs'\u001b[0m\u001b[0;34m,\u001b[0m \u001b[0mlearning_rate\u001b[0m\u001b[0;34m=\u001b[0m\u001b[0;34m'constant'\u001b[0m\u001b[0;34m,\u001b[0m\u001b[0mhidden_layer_sizes\u001b[0m\u001b[0;34m=\u001b[0m\u001b[0;34m(\u001b[0m\u001b[0;36m100\u001b[0m\u001b[0;34m,\u001b[0m\u001b[0;34m)\u001b[0m\u001b[0;34m,\u001b[0m \u001b[0malpha\u001b[0m\u001b[0;34m=\u001b[0m\u001b[0;36m0.05\u001b[0m\u001b[0;34m,\u001b[0m \u001b[0mactivation\u001b[0m\u001b[0;34m=\u001b[0m\u001b[0;34m'relu'\u001b[0m\u001b[0;34m,\u001b[0m \u001b[0mmax_iter\u001b[0m\u001b[0;34m=\u001b[0m\u001b[0;36m1000\u001b[0m\u001b[0;34m)\u001b[0m\u001b[0;34m\u001b[0m\u001b[0;34m\u001b[0m\u001b[0m\n\u001b[1;32m      2\u001b[0m \u001b[0mMLP\u001b[0m\u001b[0;34m.\u001b[0m\u001b[0mfit\u001b[0m\u001b[0;34m(\u001b[0m\u001b[0mdata_train_pca\u001b[0m\u001b[0;34m,\u001b[0m \u001b[0mlabel_train\u001b[0m\u001b[0;34m)\u001b[0m\u001b[0;34m\u001b[0m\u001b[0;34m\u001b[0m\u001b[0m\n\u001b[0;32m----> 3\u001b[0;31m \u001b[0mimportances\u001b[0m \u001b[0;34m=\u001b[0m \u001b[0mMLP\u001b[0m\u001b[0;34m.\u001b[0m\u001b[0mfeature_importances_\u001b[0m\u001b[0;34m\u001b[0m\u001b[0;34m\u001b[0m\u001b[0m\n\u001b[0m\u001b[1;32m      4\u001b[0m \u001b[0;34m\u001b[0m\u001b[0m\n\u001b[1;32m      5\u001b[0m \u001b[0;31m# Predictions\u001b[0m\u001b[0;34m\u001b[0m\u001b[0;34m\u001b[0m\u001b[0;34m\u001b[0m\u001b[0m\n",
            "\u001b[0;31mAttributeError\u001b[0m: 'MLPClassifier' object has no attribute 'feature_importances_'"
          ]
        }
      ]
    },
    {
      "cell_type": "code",
      "metadata": {
        "id": "AiVEssBr98he",
        "colab_type": "code",
        "colab": {
          "base_uri": "https://localhost:8080/",
          "height": 119
        },
        "outputId": "801ff647-6a9c-48fc-9217-ffbdd8f0b884"
      },
      "source": [
        "# Evaluate neural network using cross-validation\n",
        "score = cross_val_score(MLP, data_train_pca, label_train, cv=5)\n",
        "mean_score = score.mean()\n",
        "\n",
        "print(f'\\n The accuracy of the validation set in 5 different folds is {score}')\n",
        "print(f'\\n The mean accuracy of the validation set of 5 different folds is {round(mean_score,2)}')\n",
        "\n",
        "# Evaluate accuracy of neural network on training set\n",
        "acc_train_MLP = accuracy_score(label_train, train_pred_MLP)\n",
        "print(f'\\n The accuracy of the training set is {round(acc_train_MLP,2)}')\n",
        "\n"
      ],
      "execution_count": 186,
      "outputs": [
        {
          "output_type": "stream",
          "text": [
            "\n",
            " The accuracy of the validation set in 5 different folds is [0.96296296 0.96296296 0.85185185 0.88461538 0.96153846]\n",
            "\n",
            " The mean accuracy of the validation set of 5 different folds is 0.92\n",
            "\n",
            " The accuracy of the training set is 1.0\n"
          ],
          "name": "stdout"
        }
      ]
    },
    {
      "cell_type": "code",
      "metadata": {
        "id": "KjjObAu39_wV",
        "colab_type": "code",
        "colab": {
          "base_uri": "https://localhost:8080/",
          "height": 221
        },
        "outputId": "774f26bc-615e-49bb-d20f-178324aa2a30"
      },
      "source": [
        "# Confusion matrices and classification reports of training data\n",
        "print('Confusion matrix and classification report of training set')\n",
        "print(confusion_matrix(label_train, train_pred_MLP))\n",
        "print(classification_report(label_train, train_pred_MLP))"
      ],
      "execution_count": 178,
      "outputs": [
        {
          "output_type": "stream",
          "text": [
            "Confusion matrix and classification report of training set\n",
            "[[81  0]\n",
            " [ 0 52]]\n",
            "              precision    recall  f1-score   support\n",
            "\n",
            "           0       1.00      1.00      1.00        81\n",
            "           1       1.00      1.00      1.00        52\n",
            "\n",
            "    accuracy                           1.00       133\n",
            "   macro avg       1.00      1.00      1.00       133\n",
            "weighted avg       1.00      1.00      1.00       133\n",
            "\n"
          ],
          "name": "stdout"
        }
      ]
    },
    {
      "cell_type": "markdown",
      "metadata": {
        "id": "hwGUOWXusaFh",
        "colab_type": "text"
      },
      "source": [
        "# Evaluation"
      ]
    },
    {
      "cell_type": "markdown",
      "metadata": {
        "id": "qnOQalC5-Zmb",
        "colab_type": "text"
      },
      "source": [
        "## Accuracies on test data"
      ]
    },
    {
      "cell_type": "code",
      "metadata": {
        "id": "QlafV3sn-dvE",
        "colab_type": "code",
        "colab": {
          "base_uri": "https://localhost:8080/",
          "height": 256
        },
        "outputId": "34f93710-a957-41fb-9463-22bfd03ca822"
      },
      "source": [
        "# K-NN evaluation\n",
        "\n",
        "# Evaluate accuracy of KNN on test set\n",
        "test_pred_knn = KNN.predict(data_test_pca)\n",
        "acc_test_knn = accuracy_score(label_test, test_pred_knn)\n",
        "print(f'\\n The accuracy of the test set is {round(acc_test_knn,2)}')\n",
        "\n",
        "# Confusion matrices and classification reports of test data\n",
        "print('Confusion matrix and classification report of test set')\n",
        "print(confusion_matrix(label_test, test_pred_knn))\n",
        "print(classification_report(label_test, test_pred_knn))"
      ],
      "execution_count": 121,
      "outputs": [
        {
          "output_type": "stream",
          "text": [
            "\n",
            " The accuracy of the test set is 0.79\n",
            "Confusion matrix and classification report of test set\n",
            "[[17  4]\n",
            " [ 3 10]]\n",
            "              precision    recall  f1-score   support\n",
            "\n",
            "           0       0.85      0.81      0.83        21\n",
            "           1       0.71      0.77      0.74        13\n",
            "\n",
            "    accuracy                           0.79        34\n",
            "   macro avg       0.78      0.79      0.79        34\n",
            "weighted avg       0.80      0.79      0.80        34\n",
            "\n"
          ],
          "name": "stdout"
        }
      ]
    },
    {
      "cell_type": "code",
      "metadata": {
        "id": "KOPIlSsDAkNN",
        "colab_type": "code",
        "colab": {
          "base_uri": "https://localhost:8080/",
          "height": 256
        },
        "outputId": "40e1461c-8601-49e2-f26b-cc9c8c583047"
      },
      "source": [
        "# Random Forest PCA evaluation\n",
        "\n",
        "# Evaluate accuracy of Random Forest Classifier on test set\n",
        "test_pred_RF = RF.predict(data_test_pca)\n",
        "acc_test_RF = accuracy_score(label_test, test_pred_RF)\n",
        "print(f'\\n The accuracy on the test set is {round(acc_test_RF, 2)}')\n",
        "\n",
        "# Confusion matrices and classification reports of test data\n",
        "print('Confusion matrix and classification report of test set')\n",
        "print(confusion_matrix(label_test, test_pred_RF))\n",
        "print(classification_report(label_test, test_pred_RF))"
      ],
      "execution_count": 122,
      "outputs": [
        {
          "output_type": "stream",
          "text": [
            "\n",
            " The accuracy on the test set is 0.82\n",
            "Confusion matrix and classification report of test set\n",
            "[[21  0]\n",
            " [ 6  7]]\n",
            "              precision    recall  f1-score   support\n",
            "\n",
            "           0       0.78      1.00      0.88        21\n",
            "           1       1.00      0.54      0.70        13\n",
            "\n",
            "    accuracy                           0.82        34\n",
            "   macro avg       0.89      0.77      0.79        34\n",
            "weighted avg       0.86      0.82      0.81        34\n",
            "\n"
          ],
          "name": "stdout"
        }
      ]
    },
    {
      "cell_type": "code",
      "metadata": {
        "id": "wZGZf_ogll5T",
        "colab_type": "code",
        "colab": {
          "base_uri": "https://localhost:8080/",
          "height": 256
        },
        "outputId": "96befb8f-45e4-49fa-f9e3-d97e486d4e43"
      },
      "source": [
        "# Random Forest Feature Importances evaluation\n",
        "\n",
        "# Evaluate accuracy of Random Forest Classifier on test set\n",
        "test_pred_fi = FI2.predict(data_test_selection)\n",
        "acc_test_fi = accuracy_score(label_test, test_pred_fi)\n",
        "print(f'\\n The accuracy on the test set is {round(acc_test_fi, 2)}')\n",
        "\n",
        "# Confusion matrices and classification reports of test data\n",
        "print('Confusion matrix and classification report of test set')\n",
        "print(confusion_matrix(label_test, test_pred_fi))\n",
        "print(classification_report(label_test, test_pred_fi))"
      ],
      "execution_count": 205,
      "outputs": [
        {
          "output_type": "stream",
          "text": [
            "\n",
            " The accuracy on the test set is 0.88\n",
            "Confusion matrix and classification report of test set\n",
            "[[20  1]\n",
            " [ 3 10]]\n",
            "              precision    recall  f1-score   support\n",
            "\n",
            "           0       0.87      0.95      0.91        21\n",
            "           1       0.91      0.77      0.83        13\n",
            "\n",
            "    accuracy                           0.88        34\n",
            "   macro avg       0.89      0.86      0.87        34\n",
            "weighted avg       0.88      0.88      0.88        34\n",
            "\n"
          ],
          "name": "stdout"
        }
      ]
    },
    {
      "cell_type": "code",
      "metadata": {
        "id": "G5Gjj5JTAofG",
        "colab_type": "code",
        "colab": {
          "base_uri": "https://localhost:8080/",
          "height": 256
        },
        "outputId": "9e4d78c9-0842-4756-adcf-730495073b80"
      },
      "source": [
        "# SVM evaluation\n",
        "\n",
        "# Evaluate accuracy of SVM on test set\n",
        "test_pred_svm = SVM.predict(data_test_pca)\n",
        "acc_test_svm = accuracy_score(label_test, test_pred_svm)\n",
        "print(f'\\n The accuracy of the test set is {round(acc_test_svm,2)}')\n",
        "\n",
        "# Confusion matrices and classification reports of test data\n",
        "print('Confusion matrix and classification report of test set')\n",
        "print(confusion_matrix(label_test, test_pred_svm))\n",
        "print(classification_report(label_test, test_pred_svm))"
      ],
      "execution_count": 124,
      "outputs": [
        {
          "output_type": "stream",
          "text": [
            "\n",
            " The accuracy of the test set is 0.85\n",
            "Confusion matrix and classification report of test set\n",
            "[[20  1]\n",
            " [ 4  9]]\n",
            "              precision    recall  f1-score   support\n",
            "\n",
            "           0       0.83      0.95      0.89        21\n",
            "           1       0.90      0.69      0.78        13\n",
            "\n",
            "    accuracy                           0.85        34\n",
            "   macro avg       0.87      0.82      0.84        34\n",
            "weighted avg       0.86      0.85      0.85        34\n",
            "\n"
          ],
          "name": "stdout"
        }
      ]
    },
    {
      "cell_type": "code",
      "metadata": {
        "id": "6gsA9rJjAqNm",
        "colab_type": "code",
        "colab": {
          "base_uri": "https://localhost:8080/",
          "height": 256
        },
        "outputId": "ecdbfe4e-91d4-4962-b976-83af0758547a"
      },
      "source": [
        "# Neural Network evaluation\n",
        "\n",
        "# Evaluate accuracy of Neural Network on test set\n",
        "test_pred_MLP = MLP.predict(data_test_pca)\n",
        "acc_test_MLP = accuracy_score(label_test, test_pred_MLP)\n",
        "print(f'\\n The accuracy of the test set is {round(acc_test_MLP,2)}')\n",
        "\n",
        "# Confusion matrices and classification reports of test data\n",
        "print('Confusion matrix and classification report of test set')\n",
        "print(confusion_matrix(label_test, test_pred_MLP))\n",
        "print(classification_report(label_test, test_pred_MLP))"
      ],
      "execution_count": 126,
      "outputs": [
        {
          "output_type": "stream",
          "text": [
            "\n",
            " The accuracy of the test set is 0.85\n",
            "Confusion matrix and classification report of test set\n",
            "[[19  2]\n",
            " [ 3 10]]\n",
            "              precision    recall  f1-score   support\n",
            "\n",
            "           0       0.86      0.90      0.88        21\n",
            "           1       0.83      0.77      0.80        13\n",
            "\n",
            "    accuracy                           0.85        34\n",
            "   macro avg       0.85      0.84      0.84        34\n",
            "weighted avg       0.85      0.85      0.85        34\n",
            "\n"
          ],
          "name": "stdout"
        }
      ]
    },
    {
      "cell_type": "markdown",
      "metadata": {
        "id": "aXTzxkGL-UbK",
        "colab_type": "text"
      },
      "source": [
        "## Learning Curves"
      ]
    },
    {
      "cell_type": "code",
      "metadata": {
        "id": "Jnh5imnpsYjk",
        "colab_type": "code",
        "colab": {}
      },
      "source": [
        "# Function definition of learning curves\n",
        "def plot_learning_curve(estimator, title, X, y, axes, ylim=None, cv=None,\n",
        "                        n_jobs=None, train_sizes=np.linspace(.1, 1.0, 5)):\n",
        "    axes.set_title(title)\n",
        "    if ylim is not None:\n",
        "        axes.set_ylim(*ylim)\n",
        "    axes.set_xlabel(\"Training examples\")\n",
        "    axes.set_ylabel(\"Score\")\n",
        "\n",
        "    train_sizes, train_scores, test_scores  = \\\n",
        "        learning_curve(estimator, X, y, cv=cv, n_jobs=n_jobs,\n",
        "                       train_sizes=train_sizes)\n",
        "    train_scores_mean = np.mean(train_scores, axis=1)\n",
        "    train_scores_std = np.std(train_scores, axis=1)\n",
        "    test_scores_mean = np.mean(test_scores, axis=1)\n",
        "    test_scores_std = np.std(test_scores, axis=1)\n",
        "\n",
        "    # Plot learning curve\n",
        "    axes.grid()\n",
        "    axes.fill_between(train_sizes, train_scores_mean - train_scores_std,\n",
        "                         train_scores_mean + train_scores_std, alpha=0.1,\n",
        "                         color=\"r\")\n",
        "    axes.fill_between(train_sizes, test_scores_mean - test_scores_std,\n",
        "                         test_scores_mean + test_scores_std, alpha=0.1,\n",
        "                         color=\"g\")\n",
        "    axes.plot(train_sizes, train_scores_mean, 'o-', color=\"r\",\n",
        "                 label=\"Training score\")\n",
        "    axes.plot(train_sizes, test_scores_mean, 'o-', color=\"g\",\n",
        "                 label=\"Cross-validation score\")\n",
        "    axes.legend(loc=\"best\")\n",
        "\n",
        "    return plt\n"
      ],
      "execution_count": 0,
      "outputs": []
    },
    {
      "cell_type": "code",
      "metadata": {
        "id": "4djNT-CZAADv",
        "colab_type": "code",
        "colab": {
          "base_uri": "https://localhost:8080/",
          "height": 620
        },
        "outputId": "23d9ed25-a94e-43fc-a67a-fbfbe5b44244"
      },
      "source": [
        "# Classifiers\n",
        "clsfs = [KNN, FI2, SVM, MLP]\n",
        "\n",
        "# Plot figuren\n",
        "fig = plt.figure(figsize=(24,4*len(clsfs)))\n",
        "  \n",
        "# Create a cross-validation object\n",
        "cv = StratifiedShuffleSplit(n_splits=4, test_size=0.15) # test_size=0.15, random_state=0\n",
        "\n",
        "# Now use the classifiers on all datasets\n",
        "num = 0\n",
        "for clf in clsfs:\n",
        "    # Split data in training and testing\n",
        "    # title = str(type(clf))\n",
        "    if hasattr(clf, 'n_estimators'):\n",
        "        title = f\"Random Forest Classifier with PCA, #trees = {clf.n_estimators}\"\n",
        "    elif hasattr(clf, 'C'):\n",
        "        title = f\"SVM Classifier, C (slack) = {clf.C}\"\n",
        "    elif hasattr(clf, 'n_neighbors'):\n",
        "        title = f\"kNN Classifier, #neighbors = {clf.n_neighbors}\"\n",
        "    elif hasattr(clf, 'hidden_layer_sizes'):\n",
        "        title = f\"Neural Network\"\n",
        "    ax = fig.add_subplot(2, 2, num + 1)\n",
        "    plot_learning_curve(clf, title, data_train_pca, label_train, ax, ylim=(0.3, 1.01), cv=cv)\n",
        "    num += 1\n"
      ],
      "execution_count": 232,
      "outputs": [
        {
          "output_type": "display_data",
          "data": {
            "image/png": "[encoded data removed]",
            "text/plain": [
              "<Figure size 1728x1152 with 4 Axes>"
            ]
          },
          "metadata": {
            "tags": [],
            "needs_background": "light"
          }
        }
      ]
    }
  ]
}