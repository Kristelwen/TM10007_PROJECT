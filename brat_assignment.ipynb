{
  "nbformat": 4,
  "nbformat_minor": 0,
  "metadata": {
    "colab": {
      "name": "brat_assignment.ipynb",
      "provenance": [],
      "collapsed_sections": [
        "ySDv5ko54ViJ",
        "gY9t_GtJ1KrG",
        "tzrJpQt-PM9u",
        "wO_MGCSW8d0l",
        "FqLl7RNggs9n",
        "gL04AA6EH9_7",
        "fuluNEEqjEoY"
      ],
      "include_colab_link": true
    },
    "kernelspec": {
      "display_name": "Python 3",
      "language": "python",
      "name": "python3"
    },
    "language_info": {
      "codemirror_mode": {
        "name": "ipython",
        "version": 3
      },
      "file_extension": ".py",
      "mimetype": "text/x-python",
      "name": "python",
      "nbconvert_exporter": "python",
      "pygments_lexer": "ipython3",
      "version": "3.7.4"
    }
  },
  "cells": [
    {
      "cell_type": "markdown",
      "metadata": {
        "id": "view-in-github",
        "colab_type": "text"
      },
      "source": [
        "<a href=\"https://colab.research.google.com/github/Kristelwen/TM10007_PROJECT/blob/master/brat_assignment.ipynb\" target=\"_parent\"><img src=\"https://colab.research.google.com/assets/colab-badge.svg\" alt=\"Open In Colab\"/></a>"
      ]
    },
    {
      "cell_type": "markdown",
      "metadata": {
        "colab_type": "text",
        "id": "7SXpaKwwGe5x"
      },
      "source": [
        "# TM10007 Assignment\n",
        "Kristel, Lalot, Marijn, Tahisa"
      ]
    },
    {
      "cell_type": "code",
      "metadata": {
        "colab_type": "code",
        "id": "CiDn2Sk-VWqE",
        "outputId": "a12d995e-7144-430b-acb5-dc19dfe43958",
        "colab": {
          "base_uri": "https://localhost:8080/",
          "height": 34
        }
      },
      "source": [
        "# Run this to use from colab environment\n",
        "!pip install -q --upgrade git+https://github.com/Kristelwen/TM10007_PROJECT"
      ],
      "execution_count": 1,
      "outputs": [
        {
          "output_type": "stream",
          "text": [
            "  Building wheel for brats (setup.py) ... \u001b[?25l\u001b[?25hdone\n"
          ],
          "name": "stdout"
        }
      ]
    },
    {
      "cell_type": "markdown",
      "metadata": {
        "id": "ySDv5ko54ViJ",
        "colab_type": "text"
      },
      "source": [
        "# Data loading and importing modules"
      ]
    },
    {
      "cell_type": "code",
      "metadata": {
        "id": "B_Lae4Zh5V3B",
        "colab_type": "code",
        "colab": {}
      },
      "source": [
        "# Importing modules\n",
        "# General packages\n",
        "import numpy as np\n",
        "import pandas as pd\n",
        "import math\n",
        "import matplotlib.pyplot as plt\n",
        "from time import time\n",
        "from sklearn import datasets as ds\n",
        "from scipy.stats import randint\n",
        "\n",
        "# Preprocessing packages\n",
        "from sklearn.preprocessing import LabelEncoder\n",
        "from sklearn.preprocessing import StandardScaler\n",
        "from sklearn.preprocessing import RobustScaler\n",
        "from sklearn.decomposition import PCA\n",
        "from sklearn.feature_selection import RFECV\n",
        "\n",
        "# Classifiers\n",
        "from sklearn.tree import DecisionTreeClassifier\n",
        "from sklearn.neighbors import KNeighborsClassifier\n",
        "from sklearn.svm import SVC\n",
        "from sklearn.ensemble import RandomForestClassifier\n",
        "from sklearn.ensemble import BaggingClassifier\n",
        "from sklearn.ensemble import VotingClassifier\n",
        "from sklearn.neural_network import MLPClassifier\n",
        "\n",
        "# SVM Kernels\n",
        "from sklearn.kernel_approximation import RBFSampler\n",
        "from sklearn.metrics.pairwise import rbf_kernel, sigmoid_kernel\n",
        "from sklearn.decomposition import KernelPCA\n",
        "\n",
        "# Model selection\n",
        "from sklearn.model_selection import RandomizedSearchCV, GridSearchCV\n",
        "from sklearn.model_selection import train_test_split\n",
        "from sklearn.model_selection import learning_curve\n",
        "from sklearn.model_selection import ShuffleSplit\n",
        "from sklearn.model_selection import StratifiedKFold\n",
        "from sklearn.model_selection import StratifiedShuffleSplit\n",
        "\n",
        "# Performance metrics\n",
        "from sklearn.metrics import classification_report, confusion_matrix, accuracy_score\n",
        "from sklearn.model_selection import cross_val_score\n",
        "\n",
        "# Regularization\n",
        "from sklearn.linear_model import Lasso, RidgeClassifier\n",
        "from sklearn.feature_selection import SelectFromModel"
      ],
      "execution_count": 0,
      "outputs": []
    },
    {
      "cell_type": "code",
      "metadata": {
        "colab_type": "code",
        "id": "-NE_fTbKGe5z",
        "outputId": "7066b917-7a4d-447b-f95d-0ff34aa7a626",
        "colab": {
          "base_uri": "https://localhost:8080/",
          "height": 51
        }
      },
      "source": [
        "# Loading the data\n",
        "from brats.load_data import load_data\n",
        "\n",
        "data = load_data()\n",
        "print(f'The number of samples: {len(data.index)}')\n",
        "print(f'The number of columns: {len(data.columns)}')\n"
      ],
      "execution_count": 3,
      "outputs": [
        {
          "output_type": "stream",
          "text": [
            "The number of samples: 167\n",
            "The number of columns: 725\n"
          ],
          "name": "stdout"
        }
      ]
    },
    {
      "cell_type": "code",
      "metadata": {
        "id": "50S8Z8Y968kr",
        "colab_type": "code",
        "colab": {}
      },
      "source": [
        "# Display data for analysis\n",
        "data_top = data.head()\n",
        "data_top "
      ],
      "execution_count": 0,
      "outputs": []
    },
    {
      "cell_type": "markdown",
      "metadata": {
        "id": "gY9t_GtJ1KrG",
        "colab_type": "text"
      },
      "source": [
        "# Preprocessing"
      ]
    },
    {
      "cell_type": "code",
      "metadata": {
        "id": "kl2rwSBvHPjO",
        "colab_type": "code",
        "colab": {}
      },
      "source": [
        "# Drop columns which contain NaN values\n",
        "threshold = math.floor(len(data)/2)  # calculate threshold, half of total rows\n",
        "data_drop = data.dropna(thresh=threshold, axis=1)  # Delete columns/features with more than 'threshold' NaNs\n",
        "data_drop = data_drop.dropna(axis=0)  # Delete rows/subjects with NaNs\n",
        "\n",
        "# Split data and labels\n",
        "labels = data_drop['label']\n",
        "data_drop = data_drop.drop(columns=\"label\")  # Data without labels\n",
        "\n",
        "# Convert labels 'GBM' and 'LGG' to respectively 0 and 1\n",
        "label_encoder = LabelEncoder()\n",
        "labels = label_encoder.fit_transform(labels)\n",
        "\n",
        "# Split the data in a train (90%) and test set (10%)\n",
        "data_train, data_test, label_train, label_test = train_test_split(data_drop, labels, test_size=0.1)\n",
        "data_train2, data_val, label_train2, label_val = train_test_split(data_train, label_train, test_size=0.1)\n",
        "\n",
        "# Feature scaling\n",
        "scaler = RobustScaler()\n",
        "transformer = scaler.fit(data_train.values)\n",
        "data_scaled_train = transformer.transform(data_train.values)\n",
        "data_df_train = pd.DataFrame(data_scaled_train, index = data_train.index, columns = data_train.columns)\n",
        "\n",
        "data_scaled_test = transformer.transform(data_test.values)\n",
        "data_df_test = pd.DataFrame(data_scaled_test, index = data_test.index, columns = data_test.columns)\n",
        "\n",
        "# Feature selection with PCA\n",
        "  # Training set\n",
        "pca_train = PCA(n_components=130)  # Create a PCA with 130 components\n",
        "pca_train.fit(data_scaled_train)  # Fit PCA\n",
        "data_train_pca = pca_train.transform(data_scaled_train)\n",
        "  # Test set\n",
        "data_test_pca = pca_train.transform(data_scaled_test)  # Transform test data using PCA\n"
      ],
      "execution_count": 0,
      "outputs": []
    },
    {
      "cell_type": "markdown",
      "metadata": {
        "id": "ANFuoo-r_yek",
        "colab_type": "text"
      },
      "source": [
        "# Classifiers"
      ]
    },
    {
      "cell_type": "markdown",
      "metadata": {
        "id": "6iBDajYWG_jR",
        "colab_type": "text"
      },
      "source": [
        "## k-Nearest-Neighbors"
      ]
    },
    {
      "cell_type": "code",
      "metadata": {
        "id": "yjD9zPASHD4s",
        "colab_type": "code",
        "outputId": "b094d2ef-4e2e-4e81-807d-4d88982ceff8",
        "colab": {
          "base_uri": "https://localhost:8080/",
          "height": 0
        }
      },
      "source": [
        "# Using different n_neighbors with weights = 'distance'\n",
        "print('Results when weights are based on distance:')\n",
        "n_neighbors=[1,5,7,10,11,15,20,50,100]\n",
        "for n_neighbor in n_neighbors:\n",
        "  clf = KNeighborsClassifier(n_neighbors=n_neighbor, weights='distance')\n",
        "  clf.fit(data_train_pca, label_train)\n",
        "\n",
        "  pred_train_knn = clf.predict(data_train_pca)\n",
        "  acc_train_knn = accuracy_score(label_train, pred_train_knn)\n",
        "  print ('Train set: {} neighbors gives an accuracy of {}'.format(n_neighbor, round(acc_train_knn,2)))\n",
        "\n",
        "  pred_test_knn = clf.predict(data_test_pca)\n",
        "  acc_test_knn = accuracy_score(label_test, pred_test_knn)\n",
        "  print ('Test set: {} neighbors gives an accuracy of {}'.format(n_neighbor, round(acc_train_knn,2)))\n",
        "\n",
        "# Using different n_neighbors with weights = 'uniform'\n",
        "print('\\n Results when weights are uniform:')\n",
        "n_neighbors=[1,5,7,10,11,15,20,50,100]\n",
        "for n_neighbor in n_neighbors:\n",
        "  clf = KNeighborsClassifier(n_neighbors=n_neighbor, weights='uniform')\n",
        "  clf.fit(data_train_pca, label_train)\n",
        "\n",
        "  pred_train_knn = clf.predict(data_train_pca)\n",
        "  acc_train_knn = accuracy_score(label_train, pred_train_knn)\n",
        "  print ('Train set: {} neighbors gives an accuracy of {}'.format(n_neighbor, round(acc_train_knn,2)))\n",
        "  \n",
        "  pred_test_knn = clf.predict(data_test_pca)\n",
        "  acc_test_knn = accuracy_score(label_test, pred_test_knn)\n",
        "  print ('Test set: {} neighbors gives an accuracy of {}'.format(n_neighbor, round(acc_train_knn,2)))"
      ],
      "execution_count": 10,
      "outputs": [
        {
          "output_type": "stream",
          "text": [
            "Results when weights are based on distance:\n",
            "Train set: 1 neighbors gives an accuracy of 1.0\n",
            "Test set: 1 neighbors gives an accuracy of 1.0\n",
            "Train set: 5 neighbors gives an accuracy of 1.0\n",
            "Test set: 5 neighbors gives an accuracy of 1.0\n",
            "Train set: 7 neighbors gives an accuracy of 1.0\n",
            "Test set: 7 neighbors gives an accuracy of 1.0\n",
            "Train set: 10 neighbors gives an accuracy of 1.0\n",
            "Test set: 10 neighbors gives an accuracy of 1.0\n",
            "Train set: 11 neighbors gives an accuracy of 1.0\n",
            "Test set: 11 neighbors gives an accuracy of 1.0\n",
            "Train set: 15 neighbors gives an accuracy of 1.0\n",
            "Test set: 15 neighbors gives an accuracy of 1.0\n",
            "Train set: 20 neighbors gives an accuracy of 1.0\n",
            "Test set: 20 neighbors gives an accuracy of 1.0\n",
            "Train set: 50 neighbors gives an accuracy of 1.0\n",
            "Test set: 50 neighbors gives an accuracy of 1.0\n",
            "Train set: 100 neighbors gives an accuracy of 1.0\n",
            "Test set: 100 neighbors gives an accuracy of 1.0\n",
            "\n",
            " Results when weights are uniform:\n",
            "Train set: 1 neighbors gives an accuracy of 1.0\n",
            "Test set: 1 neighbors gives an accuracy of 1.0\n",
            "Train set: 5 neighbors gives an accuracy of 0.84\n",
            "Test set: 5 neighbors gives an accuracy of 0.84\n",
            "Train set: 7 neighbors gives an accuracy of 0.82\n",
            "Test set: 7 neighbors gives an accuracy of 0.82\n",
            "Train set: 10 neighbors gives an accuracy of 0.79\n",
            "Test set: 10 neighbors gives an accuracy of 0.79\n",
            "Train set: 11 neighbors gives an accuracy of 0.79\n",
            "Test set: 11 neighbors gives an accuracy of 0.79\n",
            "Train set: 15 neighbors gives an accuracy of 0.79\n",
            "Test set: 15 neighbors gives an accuracy of 0.79\n",
            "Train set: 20 neighbors gives an accuracy of 0.76\n",
            "Test set: 20 neighbors gives an accuracy of 0.76\n",
            "Train set: 50 neighbors gives an accuracy of 0.72\n",
            "Test set: 50 neighbors gives an accuracy of 0.72\n",
            "Train set: 100 neighbors gives an accuracy of 0.69\n",
            "Test set: 100 neighbors gives an accuracy of 0.69\n"
          ],
          "name": "stdout"
        }
      ]
    },
    {
      "cell_type": "code",
      "metadata": {
        "id": "TDIepeN9JT14",
        "colab_type": "code",
        "outputId": "0d233733-bdcc-48a5-9252-4bc329f7e5e4",
        "colab": {
          "base_uri": "https://localhost:8080/",
          "height": 0
        }
      },
      "source": [
        "# Hyperparameter optimization of number of neighbors and weights\n",
        "\n",
        "# Our parameter to optimize is the number of estimators, which we vary uniformly between 1 and 400\n",
        "param_distributions = {'n_neighbors': [1,5,7,10,11,15,20,50,100], 'weights': ['uniform','distance']}  # Willen we dit toevoegen: 'bootstrap': [True, False]? Maar dan komt vgm vaak False eruit, mar die overfit. \n",
        "    \n",
        "# Execute RandomizedSearchCV to find optimal parameters\n",
        "clf_knn = RandomizedSearchCV(KNeighborsClassifier(), param_distributions, cv=5, random_state=42)\n",
        "\n",
        "# Fit the classifier\n",
        "clf_knn.fit(data_train_pca, label_train)\n",
        "\n",
        "# Get the best parameters for the K-NN estimator\n",
        "print(f'The best parameters found are {clf_knn.best_params_}')\n"
      ],
      "execution_count": 11,
      "outputs": [
        {
          "output_type": "stream",
          "text": [
            "The best parameters found are {'weights': 'uniform', 'n_neighbors': 1}\n"
          ],
          "name": "stdout"
        }
      ]
    },
    {
      "cell_type": "code",
      "metadata": {
        "id": "prh3ZaQoWbkK",
        "colab_type": "code",
        "colab": {}
      },
      "source": [
        "# Fitting the K-NN Classifier\n",
        "KNN = KNeighborsClassifier(n_neighbors=5, weights='uniform')\n",
        "KNN.fit(data_train_pca, label_train)\n",
        "\n",
        "# Predictions\n",
        "train_pred = KNN.predict(data_train_pca)\n",
        "test_pred = KNN.predict(data_test_pca)"
      ],
      "execution_count": 0,
      "outputs": []
    },
    {
      "cell_type": "code",
      "metadata": {
        "id": "3m_gEMYgW7eo",
        "colab_type": "code",
        "outputId": "cfa83181-55d2-4de7-985a-3318fb7d3ad6",
        "colab": {
          "base_uri": "https://localhost:8080/",
          "height": 0
        }
      },
      "source": [
        "# Evaluate KNN using cross-validation\n",
        "score_knn = cross_val_score(KNN, data_train_pca, label_train, cv=5)\n",
        "mean_score_knn = score_knn.mean()\n",
        "\n",
        "print(f'The accuracy of the validation set in 5 different folds is {score_knn}')\n",
        "print(f'\\n The mean accuracy of the validation set of 5 different folds is {round(mean_score_knn,2)}')\n",
        "\n",
        "# Evaluate accuracy of KNN on training set\n",
        "acc_train = accuracy_score(label_train, train_pred)\n",
        "print(f'\\n The accuracy of the training set is {round(acc_train,2)}')\n",
        "\n",
        "# Evaluate accuracy of neural network on test set\n",
        "acc_test = accuracy_score(label_test, test_pred)\n",
        "print(f'\\n The accuracy of the test set is {round(acc_test,2)}')"
      ],
      "execution_count": 13,
      "outputs": [
        {
          "output_type": "stream",
          "text": [
            "The accuracy of the validation set in 5 different folds is [0.77777778 0.84615385 0.84615385 0.76923077 0.69230769]\n",
            "\n",
            " The mean accuracy of the validation set of 5 different folds is 0.79\n",
            "\n",
            " The accuracy of the training set is 0.84\n",
            "\n",
            " The accuracy of the test set is 0.87\n"
          ],
          "name": "stdout"
        }
      ]
    },
    {
      "cell_type": "code",
      "metadata": {
        "id": "9JgSmsPxiHHq",
        "colab_type": "code",
        "colab": {}
      },
      "source": [
        "# Confusion matrices and classification reports\n",
        "print('Confusion matrix and classification report of training set')\n",
        "print(confusion_matrix(label_train, train_pred_RF))\n",
        "print(classification_report(label_train, train_pred_RF))\n",
        "print(\"---------------------------------------------------------------\\n\")\n",
        "\n",
        "print('Confusion matrix and classification report of test set')\n",
        "print(confusion_matrix(label_test, test_pred_RF))\n",
        "print(classification_report(label_test, test_pred_RF))"
      ],
      "execution_count": 0,
      "outputs": []
    },
    {
      "cell_type": "markdown",
      "metadata": {
        "id": "wO_MGCSW8d0l",
        "colab_type": "text"
      },
      "source": [
        "## Random forest with feature_importances_ MAG WEG"
      ]
    },
    {
      "cell_type": "code",
      "metadata": {
        "id": "djSbNBU-Dq5v",
        "colab_type": "code",
        "outputId": "ecd18e3d-2ccf-4897-c9b6-ea9e72c1e610",
        "colab": {
          "base_uri": "https://localhost:8080/",
          "height": 553
        }
      },
      "source": [
        "# Feature selection using Feature importances \n",
        "\n",
        "# Feature importances\n",
        "forest = RandomForestClassifier(n_estimators=15, bootstrap=True)\n",
        "\n",
        "forest.fit(data_df_train2, label_train2)\n",
        "importances = forest.feature_importances_\n",
        "std = np.std([tree.feature_importances_ for tree in forest.estimators_],\n",
        "             axis=0)\n",
        "indices = np.argsort(importances)[::-1]\n",
        "\n",
        "# Print the feature ranking\n",
        "print(\"Feature ranking:\")\n",
        "\n",
        "# Plot the feature importances of the forest\n",
        "plt.figure()\n",
        "plt.title(\"Feature importances\")\n",
        "plt.bar(range(data_df_train2.shape[1]), importances[indices],\n",
        "       color=\"r\", yerr=std[indices], align=\"center\")\n",
        "plt.xticks(range(data_df_train2.shape[1]), indices)\n",
        "plt.xlim([-1, data_df_train2.shape[1]])\n",
        "plt.show()\n",
        "\n",
        "# Only keep features with importance > 0.00\n",
        "mask = importances > 0\n",
        "mask2 = data_df_train2.columns[mask]\n",
        "data_train2_sel = data_df_train2[mask2]\n",
        "print(data_train2_sel)\n",
        "\n",
        "data_val_sel = data_df_val[mask2]\n",
        "data_test_sel = data_df_test[mask2]\n",
        "data_train_sel = data_df_train[mask2]"
      ],
      "execution_count": 0,
      "outputs": [
        {
          "output_type": "stream",
          "text": [
            "Feature ranking:\n"
          ],
          "name": "stdout"
        },
        {
          "output_type": "display_data",
          "data": {
            "image/png": "[encoded data removed]",
            "text/plain": [
              "<Figure size 432x288 with 1 Axes>"
            ]
          },
          "metadata": {
            "tags": []
          }
        },
        {
          "output_type": "stream",
          "text": [
            "              VOLUME_ET  VOLUME_NET  ...  TGM_Cog_Z_1   TGM_T_1\n",
            "ID                                   ...                       \n",
            "TCGA-02-0064   0.271758   -0.029731  ...    -0.532311  0.402078\n",
            "TCGA-12-1098  -0.079997   -0.434722  ...     1.116917 -0.485292\n",
            "TCGA-HT-7473  -0.408568    3.882205  ...    -0.284334  0.619435\n",
            "TCGA-08-0355   0.360651   -0.253516  ...    -1.182776 -0.064188\n",
            "TCGA-06-0142   1.023879   -0.079470  ...    -0.592741  0.469473\n",
            "...                 ...         ...  ...          ...       ...\n",
            "TCGA-DU-7014  -0.552033    2.021094  ...    -0.057718 -0.254347\n",
            "TCGA-06-0187   0.501751   -0.302778  ...     0.923254 -0.238357\n",
            "TCGA-12-0776  -0.399830   -0.408984  ...    -0.847502 -0.631023\n",
            "TCGA-DU-7294  -0.539668   -0.014757  ...     0.936686 -0.638257\n",
            "TCGA-06-0149  -0.337434   -0.385026  ...    -0.444033 -0.606471\n",
            "\n",
            "[117 rows x 396 columns]\n"
          ],
          "name": "stdout"
        }
      ]
    },
    {
      "cell_type": "markdown",
      "metadata": {
        "id": "zWWd0nzQPEfa",
        "colab_type": "text"
      },
      "source": [
        "## Random Forest Classifier"
      ]
    },
    {
      "cell_type": "code",
      "metadata": {
        "id": "FA1o4T0F6lOy",
        "colab_type": "code",
        "outputId": "b7763078-b759-48e8-b516-ba54d9cc2b74",
        "colab": {
          "base_uri": "https://localhost:8080/",
          "height": 0
        }
      },
      "source": [
        "# Hyperparameter optimization: trying out different amount of trees and compare bootstrapping True and False.\n",
        "\n",
        "#using different n_trees and bootstrapping  \n",
        "print('Results when bootstrapping=True')\n",
        "n_trees=[1,5,10,15,20,30,50,100,150,200]\n",
        "for n_tree in n_trees:\n",
        "  clf = RandomForestClassifier(n_estimators=n_tree, bootstrap=True)\n",
        "  clf.fit(data_train_pca,label_train)\n",
        "  \n",
        "  predictions_train = clf.predict(data_train_pca)\n",
        "  acc_train_RF = accuracy_score(label_train, predictions_train)\n",
        "  \n",
        "  print ('Train set: {} trees gives an accuracy of {}'.format(n_tree, round(acc_train_RF,2)))\n",
        "\n",
        "  predictions_test = clf.predict(data_test_pca)\n",
        "  acc_test_RF = accuracy_score(label_test, predictions_test)\n",
        "\n",
        "  print ('Test set: {} trees gives an accuracy of {}'.format(n_tree, round(acc_test_RF, 2)))\n",
        "\n",
        "print ('')\n",
        "\n",
        "#using different n_trees without bootstrapping \n",
        "print('Results when bootstrapping=False')\n",
        "for n_tree in n_trees:\n",
        "  clf = RandomForestClassifier(n_estimators=n_tree, bootstrap=False)\n",
        "  clf.fit(data_train_pca,label_train)\n",
        "  \n",
        "  predictions_train = clf.predict(data_train_pca)\n",
        "  acc_train_RF = accuracy_score(label_train, predictions_train)\n",
        "  print ('Train set: {} trees gives an accuracy of {}'.format(n_tree,round(acc_train_RF,2)))\n",
        "\n",
        "  predictions_test = clf.predict(data_test_pca)\n",
        "  acc_test_RF = accuracy_score(label_test, predictions_test)\n",
        "\n",
        "  print ('Test set: {} trees gives an accuracy of {}'.format(n_tree,round(acc_test_RF,2)))"
      ],
      "execution_count": 14,
      "outputs": [
        {
          "output_type": "stream",
          "text": [
            "Results when bootstrapping=True\n",
            "Train set: 1 trees gives an accuracy of 0.84\n",
            "Test set: 1 trees gives an accuracy of 0.73\n",
            "Train set: 5 trees gives an accuracy of 0.98\n",
            "Test set: 5 trees gives an accuracy of 0.93\n",
            "Train set: 10 trees gives an accuracy of 0.98\n",
            "Test set: 10 trees gives an accuracy of 0.8\n",
            "Train set: 15 trees gives an accuracy of 0.99\n",
            "Test set: 15 trees gives an accuracy of 0.87\n",
            "Train set: 20 trees gives an accuracy of 1.0\n",
            "Test set: 20 trees gives an accuracy of 0.8\n",
            "Train set: 30 trees gives an accuracy of 1.0\n",
            "Test set: 30 trees gives an accuracy of 0.8\n",
            "Train set: 50 trees gives an accuracy of 1.0\n",
            "Test set: 50 trees gives an accuracy of 0.73\n",
            "Train set: 100 trees gives an accuracy of 1.0\n",
            "Test set: 100 trees gives an accuracy of 0.8\n",
            "Train set: 150 trees gives an accuracy of 1.0\n",
            "Test set: 150 trees gives an accuracy of 0.73\n",
            "Train set: 200 trees gives an accuracy of 1.0\n",
            "Test set: 200 trees gives an accuracy of 0.87\n",
            "\n",
            "Results when bootstrapping=False\n",
            "Train set: 1 trees gives an accuracy of 1.0\n",
            "Test set: 1 trees gives an accuracy of 0.67\n",
            "Train set: 5 trees gives an accuracy of 1.0\n",
            "Test set: 5 trees gives an accuracy of 0.73\n",
            "Train set: 10 trees gives an accuracy of 1.0\n",
            "Test set: 10 trees gives an accuracy of 0.93\n",
            "Train set: 15 trees gives an accuracy of 1.0\n",
            "Test set: 15 trees gives an accuracy of 0.8\n",
            "Train set: 20 trees gives an accuracy of 1.0\n",
            "Test set: 20 trees gives an accuracy of 0.8\n",
            "Train set: 30 trees gives an accuracy of 1.0\n",
            "Test set: 30 trees gives an accuracy of 0.87\n",
            "Train set: 50 trees gives an accuracy of 1.0\n",
            "Test set: 50 trees gives an accuracy of 0.8\n",
            "Train set: 100 trees gives an accuracy of 1.0\n",
            "Test set: 100 trees gives an accuracy of 0.73\n",
            "Train set: 150 trees gives an accuracy of 1.0\n",
            "Test set: 150 trees gives an accuracy of 0.8\n",
            "Train set: 200 trees gives an accuracy of 1.0\n",
            "Test set: 200 trees gives an accuracy of 0.8\n"
          ],
          "name": "stdout"
        }
      ]
    },
    {
      "cell_type": "code",
      "metadata": {
        "id": "w27ZGUSg9TPx",
        "colab_type": "code",
        "outputId": "211beb09-5518-4fa3-9fb9-19c9f84a245e",
        "colab": {
          "base_uri": "https://localhost:8080/",
          "height": 0
        }
      },
      "source": [
        "# Hyperparameter optimization of Random Forest Classifier\n",
        "\n",
        "# Our parameter to optimize is the number of estimators, which we vary uniformly between 1 and 400\n",
        "param_distributions = {'n_estimators': randint(1, 200)}  # Willen we dit toevoegen: 'bootstrap': [True, False]? Maar dan komt vgm vaak False eruit, mar die overfit. \n",
        "    \n",
        "# Execute RandomizedSearchCV to find optimal parameters\n",
        "clf_rf = RandomizedSearchCV(RandomForestClassifier(), param_distributions, cv=5, n_iter=20, random_state=42)\n",
        "\n",
        "# Fit the classifier\n",
        "clf_rf.fit(data_train_pca, label_train)\n",
        "\n",
        "# Get the best parameters for the Random Forest estimator\n",
        "print(f'\\n The best amount of trees is {clf_rf.best_params_}')\n"
      ],
      "execution_count": 15,
      "outputs": [
        {
          "output_type": "execute_result",
          "data": {
            "text/plain": [
              "RandomizedSearchCV(cv=5, error_score=nan,\n",
              "                   estimator=RandomForestClassifier(bootstrap=True,\n",
              "                                                    ccp_alpha=0.0,\n",
              "                                                    class_weight=None,\n",
              "                                                    criterion='gini',\n",
              "                                                    max_depth=None,\n",
              "                                                    max_features='auto',\n",
              "                                                    max_leaf_nodes=None,\n",
              "                                                    max_samples=None,\n",
              "                                                    min_impurity_decrease=0.0,\n",
              "                                                    min_impurity_split=None,\n",
              "                                                    min_samples_leaf=1,\n",
              "                                                    min_samples_split=2,\n",
              "                                                    min_weight_fraction_leaf=0.0,\n",
              "                                                    n_estimators=100,\n",
              "                                                    n_jobs=None,\n",
              "                                                    oob_score=False,\n",
              "                                                    random_state=None,\n",
              "                                                    verbose=0,\n",
              "                                                    warm_start=False),\n",
              "                   iid='deprecated', n_iter=20, n_jobs=None,\n",
              "                   param_distributions={'n_estimators': <scipy.stats._distn_infrastructure.rv_frozen object at 0x7efe07bb4198>},\n",
              "                   pre_dispatch='2*n_jobs', random_state=42, refit=True,\n",
              "                   return_train_score=False, scoring=None, verbose=0)"
            ]
          },
          "metadata": {
            "tags": []
          },
          "execution_count": 15
        }
      ]
    },
    {
      "cell_type": "code",
      "metadata": {
        "id": "VJb6pbVk4Pc1",
        "colab_type": "code",
        "colab": {}
      },
      "source": [
        "# Fitting the Random Forest classifier\n",
        "n_trees = 15\n",
        "RF = RandomForestClassifier(n_estimators=n_trees, bootstrap=True)\n",
        "RF.fit(data_train_pca, label_train)\n",
        "\n",
        "# Predictions\n",
        "train_pred_RF = RF.predict(data_train_pca)\n",
        "test_pred_RF = RF.predict(data_test_pca)\n"
      ],
      "execution_count": 0,
      "outputs": []
    },
    {
      "cell_type": "code",
      "metadata": {
        "id": "LAxcrYvhVM1d",
        "colab_type": "code",
        "outputId": "a3d3ca26-8382-430c-ac8c-61a7aef37f14",
        "colab": {
          "base_uri": "https://localhost:8080/",
          "height": 0
        }
      },
      "source": [
        "# Evaluate Random Forest using cross-validation\n",
        "score_rf = cross_val_score(RF, data_train_pca, label_train, cv=5)\n",
        "mean_score_rf = score_rf.mean()\n",
        "\n",
        "print(f'\\n The accuracy of the validation set in 5 different folds is {score_rf}')\n",
        "print(f'\\n The mean accuracy of the validation set of 5 different folds is {round(mean_score_rf,2)}')\n",
        "\n",
        "# Evaluate accuracy of Random Forest Classifier on training set\n",
        "acc_train_RF = accuracy_score(label_train, train_pred_RF)\n",
        "print(f'\\n The accuracy on the training set is {round(acc_train_RF, 2)}')\n",
        "\n",
        "# Evaluate accuracy of Random Forest Classifier on test set\n",
        "acc_test_RF = accuracy_score(label_test, test_pred_RF)\n",
        "print(f'\\n The accuracy on the test set is {round(acc_test_RF, 2)}')"
      ],
      "execution_count": 20,
      "outputs": [
        {
          "output_type": "stream",
          "text": [
            "\n",
            " The accuracy of the validation set in 5 different folds is [0.85185185 0.92307692 0.92307692 0.73076923 0.76923077]\n",
            "\n",
            " The mean accuracy of the validation set of 5 different folds is 0.84\n",
            "\n",
            " The accuracy on the training set is 1.0\n",
            "\n",
            " The accuracy on the test set is 0.73\n"
          ],
          "name": "stdout"
        }
      ]
    },
    {
      "cell_type": "code",
      "metadata": {
        "id": "QDVEd0zhh3Vu",
        "colab_type": "code",
        "colab": {
          "base_uri": "https://localhost:8080/",
          "height": 0
        },
        "outputId": "8660674f-0786-4a4d-8cc0-88f1f233d4e9"
      },
      "source": [
        "# Confusion matrices and classification reports\n",
        "print('Confusion matrix and classification report of training set')\n",
        "print(confusion_matrix(label_train, train_pred_RF))\n",
        "print(classification_report(label_train, train_pred_RF))\n",
        "print(\"---------------------------------------------------------------\\n\")\n",
        "\n",
        "print('Confusion matrix and classification report of test set')\n",
        "print(confusion_matrix(label_test, test_pred_RF))\n",
        "print(classification_report(label_test, test_pred_RF))"
      ],
      "execution_count": 30,
      "outputs": [
        {
          "output_type": "stream",
          "text": [
            "Confusion matrix and classification report of training set\n",
            "[[91  0]\n",
            " [ 0 40]]\n",
            "              precision    recall  f1-score   support\n",
            "\n",
            "           0       1.00      1.00      1.00        91\n",
            "           1       1.00      1.00      1.00        40\n",
            "\n",
            "    accuracy                           1.00       131\n",
            "   macro avg       1.00      1.00      1.00       131\n",
            "weighted avg       1.00      1.00      1.00       131\n",
            "\n",
            "Confusion matrix and classification report of test set\n",
            "[[10  1]\n",
            " [ 3  1]]\n",
            "              precision    recall  f1-score   support\n",
            "\n",
            "           0       0.77      0.91      0.83        11\n",
            "           1       0.50      0.25      0.33         4\n",
            "\n",
            "    accuracy                           0.73        15\n",
            "   macro avg       0.63      0.58      0.58        15\n",
            "weighted avg       0.70      0.73      0.70        15\n",
            "\n"
          ],
          "name": "stdout"
        }
      ]
    },
    {
      "cell_type": "markdown",
      "metadata": {
        "id": "gL04AA6EH9_7",
        "colab_type": "text"
      },
      "source": [
        "## Support Vector Machine"
      ]
    },
    {
      "cell_type": "code",
      "metadata": {
        "id": "7ePcN2CQIBwu",
        "colab_type": "code",
        "outputId": "99783902-f017-47dd-84d4-3d85b7110e10",
        "colab": {
          "base_uri": "https://localhost:8080/"
        }
      },
      "source": [
        "# VGM KAN DIT HELE BLOK WEG\n",
        "\n",
        "#Construct classifiers\n",
        "svmlin = SVC(kernel='linear', gamma='scale') # linear kernel \n",
        "svmrbf = SVC(kernel='rbf', gamma='scale') # radial basis function kernel \n",
        "svmpoly = SVC(kernel='poly', degree=3, gamma='scale') # polynomial kernel\n",
        "\n",
        "clsfs = [svmlin, svmrbf, svmpoly]\n",
        "\n",
        "# for clf in clsfs: # voor alle classifiers in lijst\n",
        "#    clf.fit(data_train_pca2, label_train2) # fit classifier op trainingsset\n",
        "#    val = clf.predict(data_val) # test classifier op testset\n",
        "#    error = (sum(abs(val - label_val))/len(data_val))*100 # hoevaak fout? \n",
        "#    error = (round(error, 2))\n",
        "#    accuracy = 100 - error\n",
        "    # print(f'The Accuracy of SVM is {accuracy}%')\n",
        "\n",
        "# functie\n",
        "def SVM(clsfs, data_df_train2, data_df_val, label_train2, label_val): \n",
        "    accuracies_train = list()\n",
        "    accuracies_val = list()\n",
        "\n",
        "    for clf in clsfs:\n",
        "      clf.fit(data_df_train2,label_train2)\n",
        "      predictions_train = clf.predict(data_df_train2)\n",
        "      n_samples=len(data_df_train2)\n",
        "      errors_train = (sum(abs(predictions_train - label_train2))/n_samples)*100\n",
        "      errors_train = (round(errors_train, 2))\n",
        "      accuracy_train=100-errors_train\n",
        "      accuracies_train.append(accuracy_train)\n",
        "      \n",
        "      clf.fit(data_df_val,label_val)\n",
        "      predictions_val = clf.predict(data_df_val)\n",
        "      n_samples=len(data_df_val)\n",
        "      errors_val = (sum(abs(predictions_val - label_val))/n_samples)*100\n",
        "      errors_val = (round(errors_val, 2))\n",
        "      accuracy_val=100-errors_val\n",
        "      accuracies_val.append(accuracy_val)\n",
        "\n",
        "    return (accuracies_train, accuracies_val)\n",
        "\n",
        "accuracies_train, accuracies_val = SVM(clsfs, data_train_pca2, data_val_pca, label_train2, label_val)\n",
        "\n",
        "clsfs_names = ['SVM with linear kernel', 'SVM with radial basis function kernel', 'SVM with polynomial kernel']\n",
        "for num, acc_train in enumerate(accuracies_train):\n",
        "    print(f'\\n The accuracy of {clsfs_names[num]} is {acc_train}% for the train set and {accuracies_val[num]}% for the validation set')\n"
      ],
      "execution_count": 0,
      "outputs": [
        {
          "output_type": "stream",
          "text": [
            "\n",
            " The accuracy of SVM with linear kernel is 100.0% for the train set and 100.0% for the validation set\n",
            "\n",
            " The accuracy of SVM with radial basis function kernel is 67.52000000000001% for the train set and 92.86% for the validation set\n",
            "\n",
            " The accuracy of SVM with polynomial kernel is 67.52000000000001% for the train set and 92.86% for the validation set\n"
          ],
          "name": "stdout"
        }
      ]
    },
    {
      "cell_type": "code",
      "metadata": {
        "id": "CrU_YknbHARw",
        "colab_type": "code",
        "colab": {
          "base_uri": "https://localhost:8080/",
          "height": 0
        },
        "outputId": "7c8698e9-07e4-4beb-bd21-d1f2cb82fdc0"
      },
      "source": [
        "# Hyperparameter optimization of SVM\n",
        "\n",
        "# Define parameters that need to be optimized\n",
        "degrees = randint(1, 5)\n",
        "coef0s = [1, 0.5, 0.01]\n",
        "slacks = [0.1,1, 10, 100]\n",
        "gammas = [1, 0.1 ,0.01, 0.001]\n",
        "kernels = ['linear', 'rbf', 'poly']\n",
        "\n",
        "# Creating paramater space\n",
        "param_grid = {'degree': degrees,'coef0': coef0s, 'C': slacks, 'gamma': gammas, 'kernel': kernels}\n",
        "\n",
        "# Execute RandomizedSearchCV to find optimal parameters\n",
        "clf_svm = RandomizedSearchCV(SVC(),param_grid,cv=5, random_state=42, return_train_score=True)\n",
        "\n",
        "# Fit the classifier\n",
        "clf_svm.fit(data_train_pca, label_train)\n",
        "\n",
        "# Get the best parameters for the SVM estimator\n",
        "print('Best parameters found:\\n', clf_svm.best_params_)\n"
      ],
      "execution_count": 21,
      "outputs": [
        {
          "output_type": "stream",
          "text": [
            "Best parameters found:\n",
            " {'C': 10, 'coef0': 1, 'degree': 3, 'gamma': 0.01, 'kernel': 'linear'}\n"
          ],
          "name": "stdout"
        }
      ]
    },
    {
      "cell_type": "code",
      "metadata": {
        "id": "s0Zzz85DYOKV",
        "colab_type": "code",
        "colab": {}
      },
      "source": [
        "# Fitting the Support Vector Machine classifier\n",
        "SVM = SVC(C=10, kernel='linear', degree=3, gamma=0.01, coef0=1)\n",
        "SVM.fit(data_train_pca, label_train)\n",
        "\n",
        "# Predictions\n",
        "train_pred = SVM.predict(data_train_pca)\n",
        "test_pred = SVM.predict(data_test_pca)"
      ],
      "execution_count": 0,
      "outputs": []
    },
    {
      "cell_type": "code",
      "metadata": {
        "id": "WroktlYhUyat",
        "colab_type": "code",
        "colab": {
          "base_uri": "https://localhost:8080/",
          "height": 0
        },
        "outputId": "b9df0453-fbe4-4b4f-dbb8-4931a959b984"
      },
      "source": [
        "# Evaluate the SVM classifier using cross-validation\n",
        "score_svm = cross_val_score(SVM, data_train_pca, label_train, cv=5)\n",
        "mean_score_svm = score_svm.mean()\n",
        "\n",
        "print(f'The accuracy of the validation set in 5 different folds is {score_svm}')\n",
        "print(f'\\n The mean accuracy of the validation set of 5 different folds is {round(mean_score_svm,2)}')\n",
        "\n",
        "# Evaluate accuracy of SVM on training set\n",
        "acc_train = accuracy_score(label_train, train_pred)\n",
        "print(f'\\n The accuracy of the training set is {round(acc_train,2)}')\n",
        "\n",
        "# Evaluate accuracy of SVM on test set\n",
        "acc_test = accuracy_score(label_test, test_pred)\n",
        "print(f'\\n The accuracy of the test set is {round(acc_test,2)}')\n"
      ],
      "execution_count": 26,
      "outputs": [
        {
          "output_type": "stream",
          "text": [
            "The accuracy of the validation set in 5 different folds is [0.81481481 0.92307692 0.80769231 0.84615385 0.88461538]\n",
            "\n",
            " The mean accuracy of the validation set of 5 different folds is 0.86\n",
            "\n",
            " The accuracy of the training set is 1.0\n",
            "\n",
            " The accuracy of the test set is 0.73\n"
          ],
          "name": "stdout"
        }
      ]
    },
    {
      "cell_type": "code",
      "metadata": {
        "id": "dt_WPxIpgcvH",
        "colab_type": "code",
        "colab": {
          "base_uri": "https://localhost:8080/",
          "height": 0
        },
        "outputId": "da4ed43e-dd63-4b73-8536-25ca2763f7c9"
      },
      "source": [
        "# Confusion matrix and classification reports\n",
        "print('Confusion matrix and classification report of training set')\n",
        "print(confusion_matrix(label_train, train_pred))\n",
        "print(classification_report(label_train, train_pred))\n",
        "print(\"---------------------------------------------------------------\\n\")\n",
        "\n",
        "print('Confusion matrix and classification report of test set')\n",
        "print(confusion_matrix(label_test, test_pred))\n",
        "print(classification_report(label_test, test_pred))"
      ],
      "execution_count": 28,
      "outputs": [
        {
          "output_type": "stream",
          "text": [
            "Confusion matrix and classification report of training set\n",
            "[[91  0]\n",
            " [ 0 40]]\n",
            "              precision    recall  f1-score   support\n",
            "\n",
            "           0       1.00      1.00      1.00        91\n",
            "           1       1.00      1.00      1.00        40\n",
            "\n",
            "    accuracy                           1.00       131\n",
            "   macro avg       1.00      1.00      1.00       131\n",
            "weighted avg       1.00      1.00      1.00       131\n",
            "\n",
            "---------------------------------------------------------------\n",
            "\n",
            "Confusion matrix and classification report of test set\n",
            "[[9 2]\n",
            " [2 2]]\n",
            "              precision    recall  f1-score   support\n",
            "\n",
            "           0       0.82      0.82      0.82        11\n",
            "           1       0.50      0.50      0.50         4\n",
            "\n",
            "    accuracy                           0.73        15\n",
            "   macro avg       0.66      0.66      0.66        15\n",
            "weighted avg       0.73      0.73      0.73        15\n",
            "\n"
          ],
          "name": "stdout"
        }
      ]
    },
    {
      "cell_type": "markdown",
      "metadata": {
        "id": "nSEXIhNo9jtU",
        "colab_type": "text"
      },
      "source": [
        "## Neural Networks"
      ]
    },
    {
      "cell_type": "code",
      "metadata": {
        "id": "bODUN5a09lfX",
        "colab_type": "code",
        "outputId": "62234da9-e3ca-4e65-eb10-d34de69b2d6a",
        "colab": {
          "base_uri": "https://localhost:8080/",
          "height": 85
        }
      },
      "source": [
        "# Hyperparameter optimization of Neural Network\n",
        "\n",
        "# Define parameter space that needs to be optimized\n",
        "parameter_space = {\n",
        "    'hidden_layer_sizes': [(50,50,50), (50,100,50), (100,), (7,2), (7,7,7),(9,9,9,9),(50,50,50,50), (50,50,50,50,50)],\n",
        "    'activation': ['logistic','identity','tanh'], \n",
        "    'solver': ['sgd', 'adam'],\n",
        "    'alpha': [0.0001, 0.05],\n",
        "    'learning_rate': ['constant','adaptive'],\n",
        "}\n",
        "    \n",
        "# Execute RandomizedSearchCV to find optimal parameters\n",
        "clf_mlp = RandomizedSearchCV(MLPClassifier(max_iter=2000), parameter_space, cv=5, random_state=42, return_train_score=True)  # Verbose=2 & refit=True uitzoeken\n",
        "\n",
        "# Fit the classifier\n",
        "clf_mlp.fit(data_df_train, label_train)\n",
        "\n",
        "# Get the best parameters for the MLP estimator\n",
        "print('Best parameters found:\\n', clf_mlp.best_params_)\n"
      ],
      "execution_count": 34,
      "outputs": [
        {
          "output_type": "stream",
          "text": [
            "/usr/local/lib/python3.6/dist-packages/sklearn/neural_network/_multilayer_perceptron.py:571: ConvergenceWarning: Stochastic Optimizer: Maximum iterations (2000) reached and the optimization hasn't converged yet.\n",
            "  % self.max_iter, ConvergenceWarning)\n"
          ],
          "name": "stderr"
        },
        {
          "output_type": "stream",
          "text": [
            "Best parameters found:\n",
            " {'solver': 'adam', 'learning_rate': 'constant', 'hidden_layer_sizes': (7, 7, 7), 'alpha': 0.05, 'activation': 'identity'}\n"
          ],
          "name": "stdout"
        }
      ]
    },
    {
      "cell_type": "code",
      "metadata": {
        "id": "DBP3UFzJ94oY",
        "colab_type": "code",
        "outputId": "179931c5-58b9-4a7a-b5ea-4782b51b0fab",
        "colab": {
          "base_uri": "https://localhost:8080/",
          "height": 821
        }
      },
      "source": [
        "# Plot the dataframe of the hyperparameter optimization\n",
        "pd.DataFrame(clf_mlp.cv_results_)"
      ],
      "execution_count": 0,
      "outputs": [
        {
          "output_type": "execute_result",
          "data": {
            "text/html": [
              "<div>\n",
              "<style scoped>\n",
              "    .dataframe tbody tr th:only-of-type {\n",
              "        vertical-align: middle;\n",
              "    }\n",
              "\n",
              "    .dataframe tbody tr th {\n",
              "        vertical-align: top;\n",
              "    }\n",
              "\n",
              "    .dataframe thead th {\n",
              "        text-align: right;\n",
              "    }\n",
              "</style>\n",
              "<table border=\"1\" class=\"dataframe\">\n",
              "  <thead>\n",
              "    <tr style=\"text-align: right;\">\n",
              "      <th></th>\n",
              "      <th>mean_fit_time</th>\n",
              "      <th>std_fit_time</th>\n",
              "      <th>mean_score_time</th>\n",
              "      <th>std_score_time</th>\n",
              "      <th>param_solver</th>\n",
              "      <th>param_learning_rate</th>\n",
              "      <th>param_hidden_layer_sizes</th>\n",
              "      <th>param_alpha</th>\n",
              "      <th>param_activation</th>\n",
              "      <th>params</th>\n",
              "      <th>split0_test_score</th>\n",
              "      <th>split1_test_score</th>\n",
              "      <th>split2_test_score</th>\n",
              "      <th>split3_test_score</th>\n",
              "      <th>split4_test_score</th>\n",
              "      <th>mean_test_score</th>\n",
              "      <th>std_test_score</th>\n",
              "      <th>rank_test_score</th>\n",
              "      <th>split0_train_score</th>\n",
              "      <th>split1_train_score</th>\n",
              "      <th>split2_train_score</th>\n",
              "      <th>split3_train_score</th>\n",
              "      <th>split4_train_score</th>\n",
              "      <th>mean_train_score</th>\n",
              "      <th>std_train_score</th>\n",
              "    </tr>\n",
              "  </thead>\n",
              "  <tbody>\n",
              "    <tr>\n",
              "      <th>0</th>\n",
              "      <td>0.299022</td>\n",
              "      <td>0.271891</td>\n",
              "      <td>0.004074</td>\n",
              "      <td>0.000240</td>\n",
              "      <td>adam</td>\n",
              "      <td>constant</td>\n",
              "      <td>(7, 2)</td>\n",
              "      <td>0.05</td>\n",
              "      <td>logistic</td>\n",
              "      <td>{'solver': 'adam', 'learning_rate': 'constant'...</td>\n",
              "      <td>0.703704</td>\n",
              "      <td>0.692308</td>\n",
              "      <td>0.692308</td>\n",
              "      <td>0.307692</td>\n",
              "      <td>0.692308</td>\n",
              "      <td>0.617664</td>\n",
              "      <td>0.155049</td>\n",
              "      <td>9</td>\n",
              "      <td>0.692308</td>\n",
              "      <td>0.695238</td>\n",
              "      <td>0.695238</td>\n",
              "      <td>0.304762</td>\n",
              "      <td>0.695238</td>\n",
              "      <td>0.616557</td>\n",
              "      <td>0.155902</td>\n",
              "    </tr>\n",
              "    <tr>\n",
              "      <th>1</th>\n",
              "      <td>2.478899</td>\n",
              "      <td>1.135125</td>\n",
              "      <td>0.004381</td>\n",
              "      <td>0.000071</td>\n",
              "      <td>sgd</td>\n",
              "      <td>constant</td>\n",
              "      <td>(100,)</td>\n",
              "      <td>0.0001</td>\n",
              "      <td>tanh</td>\n",
              "      <td>{'solver': 'sgd', 'learning_rate': 'constant',...</td>\n",
              "      <td>0.740741</td>\n",
              "      <td>0.730769</td>\n",
              "      <td>0.692308</td>\n",
              "      <td>0.769231</td>\n",
              "      <td>0.769231</td>\n",
              "      <td>0.740456</td>\n",
              "      <td>0.028524</td>\n",
              "      <td>2</td>\n",
              "      <td>0.875000</td>\n",
              "      <td>0.828571</td>\n",
              "      <td>0.695238</td>\n",
              "      <td>0.847619</td>\n",
              "      <td>0.876190</td>\n",
              "      <td>0.824524</td>\n",
              "      <td>0.067055</td>\n",
              "    </tr>\n",
              "    <tr>\n",
              "      <th>2</th>\n",
              "      <td>2.187029</td>\n",
              "      <td>0.024433</td>\n",
              "      <td>0.004357</td>\n",
              "      <td>0.000265</td>\n",
              "      <td>sgd</td>\n",
              "      <td>constant</td>\n",
              "      <td>(7, 2)</td>\n",
              "      <td>0.0001</td>\n",
              "      <td>identity</td>\n",
              "      <td>{'solver': 'sgd', 'learning_rate': 'constant',...</td>\n",
              "      <td>0.703704</td>\n",
              "      <td>0.692308</td>\n",
              "      <td>0.692308</td>\n",
              "      <td>0.692308</td>\n",
              "      <td>0.692308</td>\n",
              "      <td>0.694587</td>\n",
              "      <td>0.004558</td>\n",
              "      <td>3</td>\n",
              "      <td>0.692308</td>\n",
              "      <td>0.695238</td>\n",
              "      <td>0.695238</td>\n",
              "      <td>0.695238</td>\n",
              "      <td>0.695238</td>\n",
              "      <td>0.694652</td>\n",
              "      <td>0.001172</td>\n",
              "    </tr>\n",
              "    <tr>\n",
              "      <th>3</th>\n",
              "      <td>0.109056</td>\n",
              "      <td>0.051416</td>\n",
              "      <td>0.004101</td>\n",
              "      <td>0.000178</td>\n",
              "      <td>adam</td>\n",
              "      <td>adaptive</td>\n",
              "      <td>(7, 2)</td>\n",
              "      <td>0.0001</td>\n",
              "      <td>tanh</td>\n",
              "      <td>{'solver': 'adam', 'learning_rate': 'adaptive'...</td>\n",
              "      <td>0.333333</td>\n",
              "      <td>0.192308</td>\n",
              "      <td>0.307692</td>\n",
              "      <td>0.692308</td>\n",
              "      <td>0.692308</td>\n",
              "      <td>0.443590</td>\n",
              "      <td>0.208561</td>\n",
              "      <td>10</td>\n",
              "      <td>0.490385</td>\n",
              "      <td>0.380952</td>\n",
              "      <td>0.466667</td>\n",
              "      <td>0.695238</td>\n",
              "      <td>0.742857</td>\n",
              "      <td>0.555220</td>\n",
              "      <td>0.139447</td>\n",
              "    </tr>\n",
              "    <tr>\n",
              "      <th>4</th>\n",
              "      <td>1.718686</td>\n",
              "      <td>0.424521</td>\n",
              "      <td>0.004168</td>\n",
              "      <td>0.000063</td>\n",
              "      <td>adam</td>\n",
              "      <td>constant</td>\n",
              "      <td>(7, 7, 7)</td>\n",
              "      <td>0.05</td>\n",
              "      <td>identity</td>\n",
              "      <td>{'solver': 'adam', 'learning_rate': 'constant'...</td>\n",
              "      <td>0.777778</td>\n",
              "      <td>0.807692</td>\n",
              "      <td>0.769231</td>\n",
              "      <td>0.730769</td>\n",
              "      <td>0.769231</td>\n",
              "      <td>0.770940</td>\n",
              "      <td>0.024564</td>\n",
              "      <td>1</td>\n",
              "      <td>0.884615</td>\n",
              "      <td>0.923810</td>\n",
              "      <td>0.942857</td>\n",
              "      <td>0.942857</td>\n",
              "      <td>0.971429</td>\n",
              "      <td>0.933114</td>\n",
              "      <td>0.028624</td>\n",
              "    </tr>\n",
              "    <tr>\n",
              "      <th>5</th>\n",
              "      <td>0.111279</td>\n",
              "      <td>0.041251</td>\n",
              "      <td>0.004158</td>\n",
              "      <td>0.000114</td>\n",
              "      <td>adam</td>\n",
              "      <td>constant</td>\n",
              "      <td>(7, 7, 7)</td>\n",
              "      <td>0.05</td>\n",
              "      <td>tanh</td>\n",
              "      <td>{'solver': 'adam', 'learning_rate': 'constant'...</td>\n",
              "      <td>0.740741</td>\n",
              "      <td>0.692308</td>\n",
              "      <td>0.692308</td>\n",
              "      <td>0.653846</td>\n",
              "      <td>0.692308</td>\n",
              "      <td>0.694302</td>\n",
              "      <td>0.027587</td>\n",
              "      <td>7</td>\n",
              "      <td>0.615385</td>\n",
              "      <td>0.695238</td>\n",
              "      <td>0.714286</td>\n",
              "      <td>0.695238</td>\n",
              "      <td>0.704762</td>\n",
              "      <td>0.684982</td>\n",
              "      <td>0.035508</td>\n",
              "    </tr>\n",
              "    <tr>\n",
              "      <th>6</th>\n",
              "      <td>0.219620</td>\n",
              "      <td>0.142995</td>\n",
              "      <td>0.004013</td>\n",
              "      <td>0.000146</td>\n",
              "      <td>adam</td>\n",
              "      <td>adaptive</td>\n",
              "      <td>(7, 2)</td>\n",
              "      <td>0.0001</td>\n",
              "      <td>logistic</td>\n",
              "      <td>{'solver': 'adam', 'learning_rate': 'adaptive'...</td>\n",
              "      <td>0.703704</td>\n",
              "      <td>0.692308</td>\n",
              "      <td>0.692308</td>\n",
              "      <td>0.692308</td>\n",
              "      <td>0.692308</td>\n",
              "      <td>0.694587</td>\n",
              "      <td>0.004558</td>\n",
              "      <td>3</td>\n",
              "      <td>0.692308</td>\n",
              "      <td>0.695238</td>\n",
              "      <td>0.695238</td>\n",
              "      <td>0.695238</td>\n",
              "      <td>0.695238</td>\n",
              "      <td>0.694652</td>\n",
              "      <td>0.001172</td>\n",
              "    </tr>\n",
              "    <tr>\n",
              "      <th>7</th>\n",
              "      <td>0.185261</td>\n",
              "      <td>0.109540</td>\n",
              "      <td>0.004246</td>\n",
              "      <td>0.000157</td>\n",
              "      <td>sgd</td>\n",
              "      <td>adaptive</td>\n",
              "      <td>(7, 7, 7)</td>\n",
              "      <td>0.0001</td>\n",
              "      <td>logistic</td>\n",
              "      <td>{'solver': 'sgd', 'learning_rate': 'adaptive',...</td>\n",
              "      <td>0.703704</td>\n",
              "      <td>0.692308</td>\n",
              "      <td>0.692308</td>\n",
              "      <td>0.692308</td>\n",
              "      <td>0.692308</td>\n",
              "      <td>0.694587</td>\n",
              "      <td>0.004558</td>\n",
              "      <td>3</td>\n",
              "      <td>0.692308</td>\n",
              "      <td>0.695238</td>\n",
              "      <td>0.695238</td>\n",
              "      <td>0.695238</td>\n",
              "      <td>0.695238</td>\n",
              "      <td>0.694652</td>\n",
              "      <td>0.001172</td>\n",
              "    </tr>\n",
              "    <tr>\n",
              "      <th>8</th>\n",
              "      <td>0.220436</td>\n",
              "      <td>0.104478</td>\n",
              "      <td>0.004046</td>\n",
              "      <td>0.000098</td>\n",
              "      <td>sgd</td>\n",
              "      <td>constant</td>\n",
              "      <td>(7, 7, 7)</td>\n",
              "      <td>0.0001</td>\n",
              "      <td>logistic</td>\n",
              "      <td>{'solver': 'sgd', 'learning_rate': 'constant',...</td>\n",
              "      <td>0.703704</td>\n",
              "      <td>0.692308</td>\n",
              "      <td>0.692308</td>\n",
              "      <td>0.692308</td>\n",
              "      <td>0.692308</td>\n",
              "      <td>0.694587</td>\n",
              "      <td>0.004558</td>\n",
              "      <td>3</td>\n",
              "      <td>0.692308</td>\n",
              "      <td>0.695238</td>\n",
              "      <td>0.695238</td>\n",
              "      <td>0.695238</td>\n",
              "      <td>0.695238</td>\n",
              "      <td>0.694652</td>\n",
              "      <td>0.001172</td>\n",
              "    </tr>\n",
              "    <tr>\n",
              "      <th>9</th>\n",
              "      <td>0.354048</td>\n",
              "      <td>0.037892</td>\n",
              "      <td>0.004274</td>\n",
              "      <td>0.000095</td>\n",
              "      <td>adam</td>\n",
              "      <td>constant</td>\n",
              "      <td>(100,)</td>\n",
              "      <td>0.0001</td>\n",
              "      <td>logistic</td>\n",
              "      <td>{'solver': 'adam', 'learning_rate': 'constant'...</td>\n",
              "      <td>0.629630</td>\n",
              "      <td>0.692308</td>\n",
              "      <td>0.692308</td>\n",
              "      <td>0.615385</td>\n",
              "      <td>0.692308</td>\n",
              "      <td>0.664387</td>\n",
              "      <td>0.034491</td>\n",
              "      <td>8</td>\n",
              "      <td>0.730769</td>\n",
              "      <td>0.685714</td>\n",
              "      <td>0.695238</td>\n",
              "      <td>0.695238</td>\n",
              "      <td>0.714286</td>\n",
              "      <td>0.704249</td>\n",
              "      <td>0.016186</td>\n",
              "    </tr>\n",
              "  </tbody>\n",
              "</table>\n",
              "</div>"
            ],
            "text/plain": [
              "   mean_fit_time  std_fit_time  ...  mean_train_score  std_train_score\n",
              "0       0.299022      0.271891  ...          0.616557         0.155902\n",
              "1       2.478899      1.135125  ...          0.824524         0.067055\n",
              "2       2.187029      0.024433  ...          0.694652         0.001172\n",
              "3       0.109056      0.051416  ...          0.555220         0.139447\n",
              "4       1.718686      0.424521  ...          0.933114         0.028624\n",
              "5       0.111279      0.041251  ...          0.684982         0.035508\n",
              "6       0.219620      0.142995  ...          0.694652         0.001172\n",
              "7       0.185261      0.109540  ...          0.694652         0.001172\n",
              "8       0.220436      0.104478  ...          0.694652         0.001172\n",
              "9       0.354048      0.037892  ...          0.704249         0.016186\n",
              "\n",
              "[10 rows x 25 columns]"
            ]
          },
          "metadata": {
            "tags": []
          },
          "execution_count": 12
        }
      ]
    },
    {
      "cell_type": "code",
      "metadata": {
        "id": "VuBiRAuB96Yf",
        "colab_type": "code",
        "colab": {}
      },
      "source": [
        "# Fitting the Neural Network Classifier with optimal hyperparameters\n",
        "MLP = MLPClassifier(solver='adam', learning_rate='constant',hidden_layer_sizes=(9,9,9,9), alpha=0.0001, activation='identity')\n",
        "MLP.fit(data_df_train, label_train)\n",
        "\n",
        "# Predictions\n",
        "train_pred_MLP = MLP.predict(data_df_train)\n",
        "test_pred_MLP = MLP.predict(data_df_test)\n"
      ],
      "execution_count": 0,
      "outputs": []
    },
    {
      "cell_type": "code",
      "metadata": {
        "id": "AiVEssBr98he",
        "colab_type": "code",
        "outputId": "f6ceb56b-fa98-44ad-9222-0a090e24d491",
        "colab": {
          "base_uri": "https://localhost:8080/",
          "height": 153
        }
      },
      "source": [
        "# Evaluate neural network using cross-validation\n",
        "score = cross_val_score(MLP, data_df_train, label_train, cv=5)\n",
        "mean_score = score.mean()\n",
        "\n",
        "print(f'\\n The accuracy of the validation set in 5 different folds is {score}')\n",
        "print(f'\\n The mean accuracy of the validation set of 5 different folds is {mean_score}')\n",
        "\n",
        "# Evaluate accuracy of neural network on training set\n",
        "acc_train = accuracy_score(label_train, train_pred_MLP)\n",
        "print(f'\\n The accuracy of the training set is {acc_train}')\n",
        "\n",
        "# Evaluate accuracy of neural network on test set\n",
        "acc_test = accuracy_score(label_test, test_pred_MLP)\n",
        "print(f'\\n The accuracy of the test set is {acc_test}')"
      ],
      "execution_count": 36,
      "outputs": [
        {
          "output_type": "stream",
          "text": [
            "\n",
            " The accuracy of the validation set in 5 different folds is [0.85185185 0.96153846 0.92307692 0.65384615 0.84615385]\n",
            "\n",
            " The mean accuracy of the validation set of 5 different folds is 0.8472934472934472\n",
            "\n",
            " The accuracy of the training set is 0.916030534351145\n",
            "\n",
            " The accuracy of the test set is 0.8\n"
          ],
          "name": "stdout"
        }
      ]
    },
    {
      "cell_type": "code",
      "metadata": {
        "id": "KjjObAu39_wV",
        "colab_type": "code",
        "outputId": "a632ed0c-e563-4a03-f624-68cc83445d89",
        "colab": {
          "base_uri": "https://localhost:8080/",
          "height": 459
        }
      },
      "source": [
        "# Confusion matrices and classification reports\n",
        "print('Confusion matrix and classification report of training set')\n",
        "print(confusion_matrix(label_train, train_pred_MLP))\n",
        "print(classification_report(label_train, train_pred_MLP))\n",
        "print(\"---------------------------------------------------------------\\n\")\n",
        "\n",
        "print('Confusion matrix and classification report of test set')\n",
        "print(confusion_matrix(label_test, test_pred_MLP))\n",
        "print(classification_report(label_test, test_pred_MLP))"
      ],
      "execution_count": 37,
      "outputs": [
        {
          "output_type": "stream",
          "text": [
            "Confusion matrix and classification report of training set\n",
            "[[87  4]\n",
            " [ 7 33]]\n",
            "              precision    recall  f1-score   support\n",
            "\n",
            "           0       0.93      0.96      0.94        91\n",
            "           1       0.89      0.82      0.86        40\n",
            "\n",
            "    accuracy                           0.92       131\n",
            "   macro avg       0.91      0.89      0.90       131\n",
            "weighted avg       0.92      0.92      0.92       131\n",
            "\n",
            "---------------------------------------------------------------\n",
            "\n",
            "Confusion matrix and classification report of test set\n",
            "[[9 2]\n",
            " [1 3]]\n",
            "              precision    recall  f1-score   support\n",
            "\n",
            "           0       0.90      0.82      0.86        11\n",
            "           1       0.60      0.75      0.67         4\n",
            "\n",
            "    accuracy                           0.80        15\n",
            "   macro avg       0.75      0.78      0.76        15\n",
            "weighted avg       0.82      0.80      0.81        15\n",
            "\n"
          ],
          "name": "stdout"
        }
      ]
    },
    {
      "cell_type": "markdown",
      "metadata": {
        "id": "hwGUOWXusaFh",
        "colab_type": "text"
      },
      "source": [
        "# Learning Curves"
      ]
    },
    {
      "cell_type": "code",
      "metadata": {
        "id": "Jnh5imnpsYjk",
        "colab_type": "code",
        "colab": {}
      },
      "source": [
        "# Function definition of learning curves\n",
        "def plot_learning_curve(estimator, title, X, y, axes, ylim=None, cv=None,\n",
        "                        n_jobs=None, train_sizes=np.linspace(.1, 1.0, 5)):\n",
        "    axes.set_title(title)\n",
        "    if ylim is not None:\n",
        "        axes.set_ylim(*ylim)\n",
        "    axes.set_xlabel(\"Training examples\")\n",
        "    axes.set_ylabel(\"Score\")\n",
        "\n",
        "    train_sizes, train_scores, test_scores  = \\\n",
        "        learning_curve(estimator, X, y, cv=cv, n_jobs=n_jobs,\n",
        "                       train_sizes=train_sizes)\n",
        "    train_scores_mean = np.mean(train_scores, axis=1)\n",
        "    train_scores_std = np.std(train_scores, axis=1)\n",
        "    test_scores_mean = np.mean(test_scores, axis=1)\n",
        "    test_scores_std = np.std(test_scores, axis=1)\n",
        "\n",
        "    # Plot learning curve\n",
        "    axes.grid()\n",
        "    axes.fill_between(train_sizes, train_scores_mean - train_scores_std,\n",
        "                         train_scores_mean + train_scores_std, alpha=0.1,\n",
        "                         color=\"r\")\n",
        "    axes.fill_between(train_sizes, test_scores_mean - test_scores_std,\n",
        "                         test_scores_mean + test_scores_std, alpha=0.1,\n",
        "                         color=\"g\")\n",
        "    axes.plot(train_sizes, train_scores_mean, 'o-', color=\"r\",\n",
        "                 label=\"Training score\")\n",
        "    axes.plot(train_sizes, test_scores_mean, 'o-', color=\"g\",\n",
        "                 label=\"Cross-validation score\")\n",
        "    axes.legend(loc=\"best\")\n",
        "\n",
        "    return plt\n"
      ],
      "execution_count": 0,
      "outputs": []
    },
    {
      "cell_type": "code",
      "metadata": {
        "id": "4djNT-CZAADv",
        "colab_type": "code",
        "colab": {
          "base_uri": "https://localhost:8080/",
          "height": 1000
        },
        "outputId": "b2a3ff34-8e94-4dff-d865-ae94ed566202"
      },
      "source": [
        "# Classifiers\n",
        "clsfs = [KNN, RF, SVM, MLP]\n",
        "\n",
        "# Plot figuren\n",
        "fig = plt.figure(figsize=(24,8*len(clsfs)))\n",
        "  \n",
        "# Create a cross-validation object\n",
        "cv = ShuffleSplit(n_splits=10, test_size=0.15, random_state=0)\n",
        "# cv = StratifiedKFold(n_splits=10, shuffle=True, random_state=0)\n",
        "# cv = StratifiedShuffleSplit(n_splits=10, test_size=0.15, random_state=0)\n",
        "\n",
        "# Now use the classifiers on all datasets\n",
        "num = 0\n",
        "for clf in clsfs:\n",
        "    # Split data in training and testing\n",
        "    # title = str(type(clf))\n",
        "    if hasattr(clf, 'n_estimators'):\n",
        "        title = f\"Random Forest Classifier, n(trees) = {clf.n_estimators}\"\n",
        "    elif hasattr(clf, 'C'):\n",
        "        title = f\"SVM Classifier, C (slack) = {clf.C}\"\n",
        "    elif hasattr(clf, 'n_neighbors'):\n",
        "        title = f\"kNN Classifier, #neighbors = {clf.n_neighbors}\"\n",
        "    elif hasattr(clf, 'hidden_layer_sizes'):\n",
        "        title = f\"Neural Network\"\n",
        "    ax = fig.add_subplot(2, 2, num + 1)\n",
        "    plot_learning_curve(clf, title, data_df_train, label_train, ax, ylim=(0.3, 1.01), cv=cv)\n",
        "    num += 1\n"
      ],
      "execution_count": 40,
      "outputs": [
        {
          "output_type": "display_data",
          "data": {
            "image/png": "[encoded data removed]",
            "text/plain": [
              "<Figure size 1728x2304 with 4 Axes>"
            ]
          },
          "metadata": {
            "tags": []
          }
        }
      ]
    }
  ]
}