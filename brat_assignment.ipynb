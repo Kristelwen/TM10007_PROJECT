{
  "nbformat": 4,
  "nbformat_minor": 0,
  "metadata": {
    "colab": {
      "name": "brat_assignment.ipynb",
      "provenance": [],
      "collapsed_sections": [
        "ySDv5ko54ViJ",
        "gY9t_GtJ1KrG",
        "tzrJpQt-PM9u",
        "wO_MGCSW8d0l",
        "FqLl7RNggs9n",
        "gL04AA6EH9_7",
        "fuluNEEqjEoY"
      ],
      "include_colab_link": true
    },
    "kernelspec": {
      "display_name": "Python 3",
      "language": "python",
      "name": "python3"
    },
    "language_info": {
      "codemirror_mode": {
        "name": "ipython",
        "version": 3
      },
      "file_extension": ".py",
      "mimetype": "text/x-python",
      "name": "python",
      "nbconvert_exporter": "python",
      "pygments_lexer": "ipython3",
      "version": "3.7.4"
    }
  },
  "cells": [
    {
      "cell_type": "markdown",
      "metadata": {
        "id": "view-in-github",
        "colab_type": "text"
      },
      "source": [
        "<a href=\"https://colab.research.google.com/github/Kristelwen/TM10007_PROJECT/blob/master/brat_assignment.ipynb\" target=\"_parent\"><img src=\"https://colab.research.google.com/assets/colab-badge.svg\" alt=\"Open In Colab\"/></a>"
      ]
    },
    {
      "cell_type": "markdown",
      "metadata": {
        "colab_type": "text",
        "id": "7SXpaKwwGe5x"
      },
      "source": [
        "# TM10007 Assignment, data set 1\n",
        "Kristel Wenink (4450396), Lalot Gunneman (4532155), Marijn van der Graaf (4468708), Tahisa Robles (4531434)"
      ]
    },
    {
      "cell_type": "code",
      "metadata": {
        "colab_type": "code",
        "id": "CiDn2Sk-VWqE",
        "outputId": "585ea4dc-6bca-4e5b-b724-f66daf806e03",
        "colab": {
          "base_uri": "https://localhost:8080/",
          "height": 34
        }
      },
      "source": [
        "# Run this to use from colab environment\n",
        "!pip install -q --upgrade git+https://github.com/Kristelwen/TM10007_PROJECT"
      ],
      "execution_count": 1,
      "outputs": [
        {
          "output_type": "stream",
          "text": [
            "  Building wheel for brats (setup.py) ... \u001b[?25l\u001b[?25hdone\n"
          ],
          "name": "stdout"
        }
      ]
    },
    {
      "cell_type": "markdown",
      "metadata": {
        "id": "ySDv5ko54ViJ",
        "colab_type": "text"
      },
      "source": [
        "# Data loading and importing modules"
      ]
    },
    {
      "cell_type": "code",
      "metadata": {
        "id": "B_Lae4Zh5V3B",
        "colab_type": "code",
        "colab": {}
      },
      "source": [
        "# Importing modules\n",
        "# General packages\n",
        "import numpy as np\n",
        "import pandas as pd\n",
        "import math\n",
        "import matplotlib.pyplot as plt\n",
        "from time import time\n",
        "from scipy.stats import randint\n",
        "\n",
        "# Preprocessing packages\n",
        "from sklearn.preprocessing import LabelEncoder\n",
        "from sklearn.preprocessing import StandardScaler\n",
        "\n",
        "# Feature selection\n",
        "from sklearn.decomposition import PCA\n",
        "from sklearn.feature_selection import RFECV\n",
        "\n",
        "# Classifiers\n",
        "from sklearn.tree import DecisionTreeClassifier\n",
        "from sklearn.neighbors import KNeighborsClassifier\n",
        "from sklearn.svm import SVC\n",
        "from sklearn.ensemble import RandomForestClassifier\n",
        "from sklearn.neural_network import MLPClassifier\n",
        "\n",
        "# SVM Kernels\n",
        "from sklearn.kernel_approximation import RBFSampler\n",
        "from sklearn.metrics.pairwise import rbf_kernel, sigmoid_kernel\n",
        "from sklearn.decomposition import KernelPCA\n",
        "\n",
        "# Model selection\n",
        "from sklearn.model_selection import RandomizedSearchCV\n",
        "from sklearn.model_selection import train_test_split\n",
        "from sklearn.model_selection import learning_curve\n",
        "from sklearn.model_selection import StratifiedShuffleSplit\n",
        "\n",
        "# Performance metrics\n",
        "from sklearn.metrics import classification_report, confusion_matrix, accuracy_score\n",
        "from sklearn.model_selection import cross_val_score"
      ],
      "execution_count": 0,
      "outputs": []
    },
    {
      "cell_type": "code",
      "metadata": {
        "colab_type": "code",
        "id": "-NE_fTbKGe5z",
        "outputId": "bfc3d7db-a73d-4f77-8b92-fdafaf6d2b06",
        "colab": {
          "base_uri": "https://localhost:8080/",
          "height": 0
        }
      },
      "source": [
        "# Loading the data\n",
        "from brats.load_data import load_data\n",
        "\n",
        "data = load_data()\n",
        "print(f'The number of samples: {len(data.index)}')\n",
        "print(f'The number of columns: {len(data.columns)}\\n')\n",
        "data.groupby('label').size()\n"
      ],
      "execution_count": 3,
      "outputs": [
        {
          "output_type": "stream",
          "text": [
            "The number of samples: 167\n",
            "The number of columns: 725\n",
            "\n"
          ],
          "name": "stdout"
        },
        {
          "output_type": "execute_result",
          "data": {
            "text/plain": [
              "label\n",
              "GBM    102\n",
              "LGG     65\n",
              "dtype: int64"
            ]
          },
          "metadata": {
            "tags": []
          },
          "execution_count": 3
        }
      ]
    },
    {
      "cell_type": "code",
      "metadata": {
        "id": "50S8Z8Y968kr",
        "colab_type": "code",
        "outputId": "c1e4727f-a111-43d3-8c54-7f82f8e5765e",
        "colab": {
          "base_uri": "https://localhost:8080/",
          "height": 0
        }
      },
      "source": [
        "# Display data for analysis\n",
        "data_top = data.head()\n",
        "data_top "
      ],
      "execution_count": 4,
      "outputs": [
        {
          "output_type": "execute_result",
          "data": {
            "text/html": [
              "<div>\n",
              "<style scoped>\n",
              "    .dataframe tbody tr th:only-of-type {\n",
              "        vertical-align: middle;\n",
              "    }\n",
              "\n",
              "    .dataframe tbody tr th {\n",
              "        vertical-align: top;\n",
              "    }\n",
              "\n",
              "    .dataframe thead th {\n",
              "        text-align: right;\n",
              "    }\n",
              "</style>\n",
              "<table border=\"1\" class=\"dataframe\">\n",
              "  <thead>\n",
              "    <tr style=\"text-align: right;\">\n",
              "      <th></th>\n",
              "      <th>VOLUME_ET</th>\n",
              "      <th>VOLUME_NET</th>\n",
              "      <th>VOLUME_ED</th>\n",
              "      <th>VOLUME_TC</th>\n",
              "      <th>VOLUME_WT</th>\n",
              "      <th>VOLUME_BRAIN</th>\n",
              "      <th>VOLUME_ET_OVER_NET</th>\n",
              "      <th>VOLUME_ET_OVER_ED</th>\n",
              "      <th>VOLUME_NET_OVER_ED</th>\n",
              "      <th>VOLUME_ET_over_TC</th>\n",
              "      <th>VOLUME_NET_over_TC</th>\n",
              "      <th>VOLUME_ED_over_TC</th>\n",
              "      <th>VOLUME_ET_OVER_WT</th>\n",
              "      <th>VOLUME_NET_OVER_WT</th>\n",
              "      <th>VOLUME_ED_OVER_WT</th>\n",
              "      <th>VOLUME_TC_OVER_WT</th>\n",
              "      <th>VOLUME_ET_OVER_BRAIN</th>\n",
              "      <th>VOLUME_NET_OVER_BRAIN</th>\n",
              "      <th>VOLUME_ED_over_BRAIN</th>\n",
              "      <th>VOLUME_TC_over_BRAIN</th>\n",
              "      <th>VOLUME_WT_OVER_BRAIN</th>\n",
              "      <th>DIST_Vent_TC</th>\n",
              "      <th>DIST_Vent_ED</th>\n",
              "      <th>INTENSITY_Mean_ET_T1Gd</th>\n",
              "      <th>INTENSITY_STD_ET_T1Gd</th>\n",
              "      <th>INTENSITY_Mean_ET_T1</th>\n",
              "      <th>INTENSITY_STD_ET_T1</th>\n",
              "      <th>INTENSITY_Mean_ET_T2</th>\n",
              "      <th>INTENSITY_STD_ET_T2</th>\n",
              "      <th>INTENSITY_Mean_ET_FLAIR</th>\n",
              "      <th>INTENSITY_STD_ET_FLAIR</th>\n",
              "      <th>INTENSITY_Mean_NET_T1Gd</th>\n",
              "      <th>INTENSITY_STD_NET_T1Gd</th>\n",
              "      <th>INTENSITY_Mean_NET_T1</th>\n",
              "      <th>INTENSITY_STD_NET_T1</th>\n",
              "      <th>INTENSITY_Mean_NET_T2</th>\n",
              "      <th>INTENSITY_STD_NET_T2</th>\n",
              "      <th>INTENSITY_Mean_NET_FLAIR</th>\n",
              "      <th>INTENSITY_STD_NET_FLAIR</th>\n",
              "      <th>INTENSITY_Mean_ED_T1Gd</th>\n",
              "      <th>...</th>\n",
              "      <th>TEXTURE_NGTDM_NET_T1_Busyness</th>\n",
              "      <th>TEXTURE_NGTDM_NET_T1_Complexity</th>\n",
              "      <th>TEXTURE_NGTDM_NET_T1_Strength</th>\n",
              "      <th>TEXTURE_NGTDM_NET_T2_Coarseness</th>\n",
              "      <th>TEXTURE_NGTDM_NET_T2_Contrast</th>\n",
              "      <th>TEXTURE_NGTDM_NET_T2_Busyness</th>\n",
              "      <th>TEXTURE_NGTDM_NET_T2_Complexity</th>\n",
              "      <th>TEXTURE_NGTDM_NET_T2_Strength</th>\n",
              "      <th>TEXTURE_NGTDM_NET_FLAIR_Coarseness</th>\n",
              "      <th>TEXTURE_NGTDM_NET_FLAIR_Contrast</th>\n",
              "      <th>TEXTURE_NGTDM_NET_FLAIR_Busyness</th>\n",
              "      <th>TEXTURE_NGTDM_NET_FLAIR_Complexity</th>\n",
              "      <th>TEXTURE_NGTDM_NET_FLAIR_Strength</th>\n",
              "      <th>TGM_p1</th>\n",
              "      <th>TGM_dw</th>\n",
              "      <th>TGM_Cog_X_1</th>\n",
              "      <th>TGM_Cog_Y_1</th>\n",
              "      <th>TGM_Cog_Z_1</th>\n",
              "      <th>TGM_T_1</th>\n",
              "      <th>TGM_Cog_X_2</th>\n",
              "      <th>TGM_Cog_Y_2</th>\n",
              "      <th>TGM_Cog_Z_2</th>\n",
              "      <th>TGM_T_2</th>\n",
              "      <th>TGM_Cog_X_3</th>\n",
              "      <th>TGM_Cog_Y_3</th>\n",
              "      <th>TGM_Cog_Z_3</th>\n",
              "      <th>TGM_T_3</th>\n",
              "      <th>TGM_Cog_X_4</th>\n",
              "      <th>TGM_Cog_Y_4</th>\n",
              "      <th>TGM_Cog_Z_4</th>\n",
              "      <th>TGM_T_4</th>\n",
              "      <th>TGM_Cog_X_5</th>\n",
              "      <th>TGM_Cog_Y_5</th>\n",
              "      <th>TGM_Cog_Z_5</th>\n",
              "      <th>TGM_T_5</th>\n",
              "      <th>TGM_Cog_X_6</th>\n",
              "      <th>TGM_Cog_Y_6</th>\n",
              "      <th>TGM_Cog_Z_6</th>\n",
              "      <th>TGM_T_6</th>\n",
              "      <th>label</th>\n",
              "    </tr>\n",
              "    <tr>\n",
              "      <th>ID</th>\n",
              "      <th></th>\n",
              "      <th></th>\n",
              "      <th></th>\n",
              "      <th></th>\n",
              "      <th></th>\n",
              "      <th></th>\n",
              "      <th></th>\n",
              "      <th></th>\n",
              "      <th></th>\n",
              "      <th></th>\n",
              "      <th></th>\n",
              "      <th></th>\n",
              "      <th></th>\n",
              "      <th></th>\n",
              "      <th></th>\n",
              "      <th></th>\n",
              "      <th></th>\n",
              "      <th></th>\n",
              "      <th></th>\n",
              "      <th></th>\n",
              "      <th></th>\n",
              "      <th></th>\n",
              "      <th></th>\n",
              "      <th></th>\n",
              "      <th></th>\n",
              "      <th></th>\n",
              "      <th></th>\n",
              "      <th></th>\n",
              "      <th></th>\n",
              "      <th></th>\n",
              "      <th></th>\n",
              "      <th></th>\n",
              "      <th></th>\n",
              "      <th></th>\n",
              "      <th></th>\n",
              "      <th></th>\n",
              "      <th></th>\n",
              "      <th></th>\n",
              "      <th></th>\n",
              "      <th></th>\n",
              "      <th></th>\n",
              "      <th></th>\n",
              "      <th></th>\n",
              "      <th></th>\n",
              "      <th></th>\n",
              "      <th></th>\n",
              "      <th></th>\n",
              "      <th></th>\n",
              "      <th></th>\n",
              "      <th></th>\n",
              "      <th></th>\n",
              "      <th></th>\n",
              "      <th></th>\n",
              "      <th></th>\n",
              "      <th></th>\n",
              "      <th></th>\n",
              "      <th></th>\n",
              "      <th></th>\n",
              "      <th></th>\n",
              "      <th></th>\n",
              "      <th></th>\n",
              "      <th></th>\n",
              "      <th></th>\n",
              "      <th></th>\n",
              "      <th></th>\n",
              "      <th></th>\n",
              "      <th></th>\n",
              "      <th></th>\n",
              "      <th></th>\n",
              "      <th></th>\n",
              "      <th></th>\n",
              "      <th></th>\n",
              "      <th></th>\n",
              "      <th></th>\n",
              "      <th></th>\n",
              "      <th></th>\n",
              "      <th></th>\n",
              "      <th></th>\n",
              "      <th></th>\n",
              "      <th></th>\n",
              "      <th></th>\n",
              "    </tr>\n",
              "  </thead>\n",
              "  <tbody>\n",
              "    <tr>\n",
              "      <th>TCGA-02-0006</th>\n",
              "      <td>1662</td>\n",
              "      <td>384</td>\n",
              "      <td>36268</td>\n",
              "      <td>2046</td>\n",
              "      <td>38314</td>\n",
              "      <td>1469432</td>\n",
              "      <td>4.328125</td>\n",
              "      <td>0.0458255</td>\n",
              "      <td>0.0105878</td>\n",
              "      <td>0.81232</td>\n",
              "      <td>0.18768</td>\n",
              "      <td>17.7263</td>\n",
              "      <td>0.043378</td>\n",
              "      <td>0.010022</td>\n",
              "      <td>0.946599</td>\n",
              "      <td>0.053401</td>\n",
              "      <td>0.001131</td>\n",
              "      <td>0.000261</td>\n",
              "      <td>0.024682</td>\n",
              "      <td>0.001392</td>\n",
              "      <td>0.026074</td>\n",
              "      <td>31.5903</td>\n",
              "      <td>2.7735</td>\n",
              "      <td>149.7977</td>\n",
              "      <td>10.4671</td>\n",
              "      <td>194.1422</td>\n",
              "      <td>15.1037</td>\n",
              "      <td>154.9225</td>\n",
              "      <td>43.4709</td>\n",
              "      <td>220.5894</td>\n",
              "      <td>30.2917</td>\n",
              "      <td>137.8881</td>\n",
              "      <td>6.3820</td>\n",
              "      <td>183.6933</td>\n",
              "      <td>14.8846</td>\n",
              "      <td>161.1005</td>\n",
              "      <td>35.8591</td>\n",
              "      <td>227.7510</td>\n",
              "      <td>23.9509</td>\n",
              "      <td>131.8402</td>\n",
              "      <td>...</td>\n",
              "      <td>0.02674</td>\n",
              "      <td>2536.7559</td>\n",
              "      <td>43.3129</td>\n",
              "      <td>0.036634</td>\n",
              "      <td>0.50304</td>\n",
              "      <td>0.024264</td>\n",
              "      <td>3593.3279</td>\n",
              "      <td>43.67590</td>\n",
              "      <td>0.057204</td>\n",
              "      <td>0.33980</td>\n",
              "      <td>0.021897</td>\n",
              "      <td>2203.2034</td>\n",
              "      <td>61.3293</td>\n",
              "      <td>8.00000</td>\n",
              "      <td>7.500000e-07</td>\n",
              "      <td>0.178609</td>\n",
              "      <td>0.096256</td>\n",
              "      <td>0.052741</td>\n",
              "      <td>2.0000</td>\n",
              "      <td>NaN</td>\n",
              "      <td>NaN</td>\n",
              "      <td>NaN</td>\n",
              "      <td>NaN</td>\n",
              "      <td>NaN</td>\n",
              "      <td>NaN</td>\n",
              "      <td>NaN</td>\n",
              "      <td>NaN</td>\n",
              "      <td>NaN</td>\n",
              "      <td>NaN</td>\n",
              "      <td>NaN</td>\n",
              "      <td>NaN</td>\n",
              "      <td>NaN</td>\n",
              "      <td>NaN</td>\n",
              "      <td>NaN</td>\n",
              "      <td>NaN</td>\n",
              "      <td>NaN</td>\n",
              "      <td>NaN</td>\n",
              "      <td>NaN</td>\n",
              "      <td>NaN</td>\n",
              "      <td>GBM</td>\n",
              "    </tr>\n",
              "    <tr>\n",
              "      <th>TCGA-02-0009</th>\n",
              "      <td>4362</td>\n",
              "      <td>4349</td>\n",
              "      <td>15723</td>\n",
              "      <td>8711</td>\n",
              "      <td>24434</td>\n",
              "      <td>1295721</td>\n",
              "      <td>1.002989</td>\n",
              "      <td>0.277428</td>\n",
              "      <td>0.276601</td>\n",
              "      <td>0.50075</td>\n",
              "      <td>0.49925</td>\n",
              "      <td>1.8050</td>\n",
              "      <td>0.178522</td>\n",
              "      <td>0.177990</td>\n",
              "      <td>0.643489</td>\n",
              "      <td>0.356511</td>\n",
              "      <td>0.003366</td>\n",
              "      <td>0.003356</td>\n",
              "      <td>0.012135</td>\n",
              "      <td>0.006723</td>\n",
              "      <td>0.018857</td>\n",
              "      <td>9.2443</td>\n",
              "      <td>3.0207</td>\n",
              "      <td>165.4345</td>\n",
              "      <td>6.4047</td>\n",
              "      <td>201.2400</td>\n",
              "      <td>13.4733</td>\n",
              "      <td>113.1601</td>\n",
              "      <td>10.1373</td>\n",
              "      <td>210.1810</td>\n",
              "      <td>15.9543</td>\n",
              "      <td>152.6013</td>\n",
              "      <td>4.2360</td>\n",
              "      <td>188.0607</td>\n",
              "      <td>11.1316</td>\n",
              "      <td>116.8538</td>\n",
              "      <td>10.0992</td>\n",
              "      <td>209.7901</td>\n",
              "      <td>16.7943</td>\n",
              "      <td>139.2815</td>\n",
              "      <td>...</td>\n",
              "      <td>0.31558</td>\n",
              "      <td>967.7845</td>\n",
              "      <td>3.7444</td>\n",
              "      <td>0.003790</td>\n",
              "      <td>0.36163</td>\n",
              "      <td>0.271420</td>\n",
              "      <td>1996.1440</td>\n",
              "      <td>2.77050</td>\n",
              "      <td>0.004966</td>\n",
              "      <td>0.28715</td>\n",
              "      <td>0.189980</td>\n",
              "      <td>1440.4285</td>\n",
              "      <td>3.5999</td>\n",
              "      <td>3.31250</td>\n",
              "      <td>1.000000e-09</td>\n",
              "      <td>0.077618</td>\n",
              "      <td>0.122900</td>\n",
              "      <td>0.094336</td>\n",
              "      <td>91.4736</td>\n",
              "      <td>NaN</td>\n",
              "      <td>NaN</td>\n",
              "      <td>NaN</td>\n",
              "      <td>NaN</td>\n",
              "      <td>NaN</td>\n",
              "      <td>NaN</td>\n",
              "      <td>NaN</td>\n",
              "      <td>NaN</td>\n",
              "      <td>NaN</td>\n",
              "      <td>NaN</td>\n",
              "      <td>NaN</td>\n",
              "      <td>NaN</td>\n",
              "      <td>NaN</td>\n",
              "      <td>NaN</td>\n",
              "      <td>NaN</td>\n",
              "      <td>NaN</td>\n",
              "      <td>NaN</td>\n",
              "      <td>NaN</td>\n",
              "      <td>NaN</td>\n",
              "      <td>NaN</td>\n",
              "      <td>GBM</td>\n",
              "    </tr>\n",
              "    <tr>\n",
              "      <th>TCGA-02-0011</th>\n",
              "      <td>33404</td>\n",
              "      <td>48612</td>\n",
              "      <td>45798</td>\n",
              "      <td>82016</td>\n",
              "      <td>127814</td>\n",
              "      <td>1425843</td>\n",
              "      <td>0.687155</td>\n",
              "      <td>0.729377</td>\n",
              "      <td>1.06144</td>\n",
              "      <td>0.40729</td>\n",
              "      <td>0.59271</td>\n",
              "      <td>0.5584</td>\n",
              "      <td>0.261349</td>\n",
              "      <td>0.380334</td>\n",
              "      <td>0.358318</td>\n",
              "      <td>0.641682</td>\n",
              "      <td>0.023428</td>\n",
              "      <td>0.034094</td>\n",
              "      <td>0.032120</td>\n",
              "      <td>0.057521</td>\n",
              "      <td>0.089641</td>\n",
              "      <td>1.0000</td>\n",
              "      <td>1.0000</td>\n",
              "      <td>186.3385</td>\n",
              "      <td>17.6126</td>\n",
              "      <td>188.2019</td>\n",
              "      <td>23.5195</td>\n",
              "      <td>172.8969</td>\n",
              "      <td>32.7401</td>\n",
              "      <td>167.1395</td>\n",
              "      <td>34.1684</td>\n",
              "      <td>149.0643</td>\n",
              "      <td>12.9090</td>\n",
              "      <td>158.4197</td>\n",
              "      <td>15.2632</td>\n",
              "      <td>197.4966</td>\n",
              "      <td>27.1781</td>\n",
              "      <td>165.1014</td>\n",
              "      <td>25.2120</td>\n",
              "      <td>161.5790</td>\n",
              "      <td>...</td>\n",
              "      <td>1.39580</td>\n",
              "      <td>1322.6082</td>\n",
              "      <td>0.7473</td>\n",
              "      <td>0.000634</td>\n",
              "      <td>0.31856</td>\n",
              "      <td>1.144300</td>\n",
              "      <td>2517.8629</td>\n",
              "      <td>0.84294</td>\n",
              "      <td>0.000794</td>\n",
              "      <td>0.17961</td>\n",
              "      <td>1.068800</td>\n",
              "      <td>1147.5177</td>\n",
              "      <td>0.8048</td>\n",
              "      <td>5.78125</td>\n",
              "      <td>1.000000e-09</td>\n",
              "      <td>0.132283</td>\n",
              "      <td>0.116006</td>\n",
              "      <td>0.096035</td>\n",
              "      <td>272.4290</td>\n",
              "      <td>NaN</td>\n",
              "      <td>NaN</td>\n",
              "      <td>NaN</td>\n",
              "      <td>NaN</td>\n",
              "      <td>NaN</td>\n",
              "      <td>NaN</td>\n",
              "      <td>NaN</td>\n",
              "      <td>NaN</td>\n",
              "      <td>NaN</td>\n",
              "      <td>NaN</td>\n",
              "      <td>NaN</td>\n",
              "      <td>NaN</td>\n",
              "      <td>NaN</td>\n",
              "      <td>NaN</td>\n",
              "      <td>NaN</td>\n",
              "      <td>NaN</td>\n",
              "      <td>NaN</td>\n",
              "      <td>NaN</td>\n",
              "      <td>NaN</td>\n",
              "      <td>NaN</td>\n",
              "      <td>GBM</td>\n",
              "    </tr>\n",
              "    <tr>\n",
              "      <th>TCGA-02-0027</th>\n",
              "      <td>12114</td>\n",
              "      <td>7587</td>\n",
              "      <td>34086</td>\n",
              "      <td>19701</td>\n",
              "      <td>53787</td>\n",
              "      <td>1403429</td>\n",
              "      <td>1.596679</td>\n",
              "      <td>0.355395</td>\n",
              "      <td>0.222584</td>\n",
              "      <td>0.61489</td>\n",
              "      <td>0.38511</td>\n",
              "      <td>1.7302</td>\n",
              "      <td>0.225222</td>\n",
              "      <td>0.141056</td>\n",
              "      <td>0.633722</td>\n",
              "      <td>0.366278</td>\n",
              "      <td>0.008632</td>\n",
              "      <td>0.005406</td>\n",
              "      <td>0.024288</td>\n",
              "      <td>0.014038</td>\n",
              "      <td>0.038325</td>\n",
              "      <td>1.0331</td>\n",
              "      <td>1.0000</td>\n",
              "      <td>178.6925</td>\n",
              "      <td>23.1751</td>\n",
              "      <td>199.7626</td>\n",
              "      <td>27.0047</td>\n",
              "      <td>157.0192</td>\n",
              "      <td>25.6793</td>\n",
              "      <td>173.6525</td>\n",
              "      <td>26.3596</td>\n",
              "      <td>120.3726</td>\n",
              "      <td>17.5926</td>\n",
              "      <td>199.5765</td>\n",
              "      <td>25.3652</td>\n",
              "      <td>194.2708</td>\n",
              "      <td>24.5411</td>\n",
              "      <td>207.5531</td>\n",
              "      <td>32.7868</td>\n",
              "      <td>129.2927</td>\n",
              "      <td>...</td>\n",
              "      <td>0.14356</td>\n",
              "      <td>1722.6804</td>\n",
              "      <td>6.9449</td>\n",
              "      <td>0.002126</td>\n",
              "      <td>0.54383</td>\n",
              "      <td>0.379490</td>\n",
              "      <td>3698.6228</td>\n",
              "      <td>2.31820</td>\n",
              "      <td>0.003284</td>\n",
              "      <td>0.41179</td>\n",
              "      <td>0.206600</td>\n",
              "      <td>3320.1690</td>\n",
              "      <td>4.7336</td>\n",
              "      <td>3.87500</td>\n",
              "      <td>1.000000e-09</td>\n",
              "      <td>0.100415</td>\n",
              "      <td>0.088249</td>\n",
              "      <td>0.096470</td>\n",
              "      <td>128.4680</td>\n",
              "      <td>NaN</td>\n",
              "      <td>NaN</td>\n",
              "      <td>NaN</td>\n",
              "      <td>NaN</td>\n",
              "      <td>NaN</td>\n",
              "      <td>NaN</td>\n",
              "      <td>NaN</td>\n",
              "      <td>NaN</td>\n",
              "      <td>NaN</td>\n",
              "      <td>NaN</td>\n",
              "      <td>NaN</td>\n",
              "      <td>NaN</td>\n",
              "      <td>NaN</td>\n",
              "      <td>NaN</td>\n",
              "      <td>NaN</td>\n",
              "      <td>NaN</td>\n",
              "      <td>NaN</td>\n",
              "      <td>NaN</td>\n",
              "      <td>NaN</td>\n",
              "      <td>NaN</td>\n",
              "      <td>GBM</td>\n",
              "    </tr>\n",
              "    <tr>\n",
              "      <th>TCGA-02-0033</th>\n",
              "      <td>34538</td>\n",
              "      <td>7137</td>\n",
              "      <td>65653</td>\n",
              "      <td>41675</td>\n",
              "      <td>107328</td>\n",
              "      <td>1365237</td>\n",
              "      <td>4.839288</td>\n",
              "      <td>0.526069</td>\n",
              "      <td>0.108708</td>\n",
              "      <td>0.82875</td>\n",
              "      <td>0.17125</td>\n",
              "      <td>1.5754</td>\n",
              "      <td>0.321799</td>\n",
              "      <td>0.066497</td>\n",
              "      <td>0.611704</td>\n",
              "      <td>0.388296</td>\n",
              "      <td>0.025298</td>\n",
              "      <td>0.005228</td>\n",
              "      <td>0.048089</td>\n",
              "      <td>0.030526</td>\n",
              "      <td>0.078615</td>\n",
              "      <td>1.0000</td>\n",
              "      <td>1.0000</td>\n",
              "      <td>172.4109</td>\n",
              "      <td>27.5731</td>\n",
              "      <td>121.4969</td>\n",
              "      <td>10.3061</td>\n",
              "      <td>148.9331</td>\n",
              "      <td>27.8493</td>\n",
              "      <td>159.0135</td>\n",
              "      <td>23.9666</td>\n",
              "      <td>116.9944</td>\n",
              "      <td>8.2358</td>\n",
              "      <td>117.7009</td>\n",
              "      <td>9.9957</td>\n",
              "      <td>139.4320</td>\n",
              "      <td>34.3293</td>\n",
              "      <td>139.3234</td>\n",
              "      <td>12.9900</td>\n",
              "      <td>120.7850</td>\n",
              "      <td>...</td>\n",
              "      <td>0.71382</td>\n",
              "      <td>538.8446</td>\n",
              "      <td>1.1436</td>\n",
              "      <td>0.002162</td>\n",
              "      <td>0.47817</td>\n",
              "      <td>0.555670</td>\n",
              "      <td>3020.3680</td>\n",
              "      <td>1.90570</td>\n",
              "      <td>0.003108</td>\n",
              "      <td>0.31043</td>\n",
              "      <td>0.413750</td>\n",
              "      <td>1834.1052</td>\n",
              "      <td>2.4532</td>\n",
              "      <td>1.00000</td>\n",
              "      <td>5.725000e-08</td>\n",
              "      <td>0.106184</td>\n",
              "      <td>0.131952</td>\n",
              "      <td>0.096894</td>\n",
              "      <td>240.7780</td>\n",
              "      <td>NaN</td>\n",
              "      <td>NaN</td>\n",
              "      <td>NaN</td>\n",
              "      <td>NaN</td>\n",
              "      <td>NaN</td>\n",
              "      <td>NaN</td>\n",
              "      <td>NaN</td>\n",
              "      <td>NaN</td>\n",
              "      <td>NaN</td>\n",
              "      <td>NaN</td>\n",
              "      <td>NaN</td>\n",
              "      <td>NaN</td>\n",
              "      <td>NaN</td>\n",
              "      <td>NaN</td>\n",
              "      <td>NaN</td>\n",
              "      <td>NaN</td>\n",
              "      <td>NaN</td>\n",
              "      <td>NaN</td>\n",
              "      <td>NaN</td>\n",
              "      <td>NaN</td>\n",
              "      <td>GBM</td>\n",
              "    </tr>\n",
              "  </tbody>\n",
              "</table>\n",
              "<p>5 rows × 725 columns</p>\n",
              "</div>"
            ],
            "text/plain": [
              "              VOLUME_ET  VOLUME_NET  VOLUME_ED  ...  TGM_Cog_Z_6  TGM_T_6  label\n",
              "ID                                              ...                             \n",
              "TCGA-02-0006       1662         384      36268  ...          NaN      NaN    GBM\n",
              "TCGA-02-0009       4362        4349      15723  ...          NaN      NaN    GBM\n",
              "TCGA-02-0011      33404       48612      45798  ...          NaN      NaN    GBM\n",
              "TCGA-02-0027      12114        7587      34086  ...          NaN      NaN    GBM\n",
              "TCGA-02-0033      34538        7137      65653  ...          NaN      NaN    GBM\n",
              "\n",
              "[5 rows x 725 columns]"
            ]
          },
          "metadata": {
            "tags": []
          },
          "execution_count": 4
        }
      ]
    },
    {
      "cell_type": "markdown",
      "metadata": {
        "id": "gY9t_GtJ1KrG",
        "colab_type": "text"
      },
      "source": [
        "# Preprocessing"
      ]
    },
    {
      "cell_type": "code",
      "metadata": {
        "id": "nu6Fcr8N-tlM",
        "colab_type": "code",
        "outputId": "3896bbe2-4c7e-4868-8c0a-5ab25b713f97",
        "colab": {
          "base_uri": "https://localhost:8080/",
          "height": 0
        }
      },
      "source": [
        "# Drop columns which contain NaN values\n",
        "threshold = math.floor(len(data)/2)  # Calculate threshold, half of total rows\n",
        "data_drop = data.dropna(thresh=threshold, axis=1)  # Delete columns/features with more than 'threshold' NaNs\n",
        "data_drop = data_drop.fillna(data_drop.median())  # Replace the remaining NaNs with median of feature\n",
        "\n",
        "data_drop.isnull().values.any()  # Check if all the NaNs are deleted or replaced (False = there are no NaNs left)"
      ],
      "execution_count": 5,
      "outputs": [
        {
          "output_type": "execute_result",
          "data": {
            "text/plain": [
              "False"
            ]
          },
          "metadata": {
            "tags": []
          },
          "execution_count": 5
        }
      ]
    },
    {
      "cell_type": "code",
      "metadata": {
        "id": "0F45dLJCIa7l",
        "colab_type": "code",
        "outputId": "3eb58bdf-ffb6-47e5-f45b-64115aa3a74e",
        "colab": {
          "base_uri": "https://localhost:8080/",
          "height": 0
        }
      },
      "source": [
        "# Split data and labels\n",
        "labels = data_drop['label']\n",
        "data_drop = data_drop.drop(columns=\"label\")  # Data without labels\n",
        "\n",
        "# Convert labels 'GBM' and 'LGG' to respectively 0 and 1\n",
        "label_encoder = LabelEncoder()\n",
        "labels = label_encoder.fit_transform(labels)\n",
        "\n",
        "# Replace strings and infinity values with median of feature\n",
        "data_no_strings = data_drop.replace('#DIV/0!', np.nan)\n",
        "data_no_strings = data_no_strings.replace([np.inf, -np.inf], np.nan)\n",
        "data_no_strings = data_no_strings.fillna(data_no_strings.median())\n",
        "\n",
        "# Split the data in a train (80%) and test set (20%)\n",
        "data_train, data_test, label_train, label_test = train_test_split(data_no_strings, labels, test_size=0.2, stratify=labels)\n",
        "\n",
        "# Feature scaling\n",
        "scaler = StandardScaler()\n",
        "transformer = scaler.fit(data_train.values)\n",
        "data_scaled_train = transformer.transform(data_train.values)\n",
        "data_df_train = pd.DataFrame(data_scaled_train, index = data_train.index, columns = data_train.columns)\n",
        "\n",
        "data_scaled_test = transformer.transform(data_test.values)\n",
        "data_df_test = pd.DataFrame(data_scaled_test, index = data_test.index, columns = data_test.columns)\n",
        "\n",
        "# PCA\n",
        "pca_plot = PCA().fit(data_df_train)\n",
        "plt.plot(np.cumsum(pca_plot.explained_variance_ratio_))\n",
        "plt.xlabel('number of components')\n",
        "plt.ylabel('cumulative explained variance');\n",
        "  # Training set\n",
        "pca_train = PCA(0.95)\n",
        "pca_train.fit(data_df_train)\n",
        "data_train_pca = pca_train.transform(data_df_train)\n",
        "  # Test set\n",
        "data_test_pca = pca_train.transform(data_df_test)\n"
      ],
      "execution_count": 6,
      "outputs": [
        {
          "output_type": "display_data",
          "data": {
            "image/png": "[encoded data removed]",
            "text/plain": [
              "<Figure size 432x288 with 1 Axes>"
            ]
          },
          "metadata": {
            "tags": [],
            "needs_background": "light"
          }
        }
      ]
    },
    {
      "cell_type": "markdown",
      "metadata": {
        "id": "SWNE7t2iF56P",
        "colab_type": "text"
      },
      "source": [
        "# Visualising the training set"
      ]
    },
    {
      "cell_type": "code",
      "metadata": {
        "id": "_A9WfhNQGABu",
        "colab_type": "code",
        "outputId": "124595d4-c87c-47be-892b-34e1ca7b9e21",
        "colab": {
          "base_uri": "https://localhost:8080/",
          "height": 513
        }
      },
      "source": [
        "# Visualising the trainingsdata with the first 2 Principal Components\n",
        "fig = plt.figure(figsize=(8, 8))\n",
        "ax = fig.add_subplot(111)\n",
        "ax.set_title(\"Two informative Principal Components\",\n",
        "             fontsize='small')\n",
        "ax.scatter(data_train_pca[:, 0], data_train_pca[:, 1], marker='o', c=label_train,\n",
        "           s=25, edgecolor='k', cmap=plt.cm.Paired)"
      ],
      "execution_count": 7,
      "outputs": [
        {
          "output_type": "execute_result",
          "data": {
            "text/plain": [
              "<matplotlib.collections.PathCollection at 0x7f5c5c0f8518>"
            ]
          },
          "metadata": {
            "tags": []
          },
          "execution_count": 7
        },
        {
          "output_type": "display_data",
          "data": {
            "image/png": "[encoded data removed]",
            "text/plain": [
              "<Figure size 576x576 with 1 Axes>"
            ]
          },
          "metadata": {
            "tags": [],
            "needs_background": "light"
          }
        }
      ]
    },
    {
      "cell_type": "markdown",
      "metadata": {
        "id": "ANFuoo-r_yek",
        "colab_type": "text"
      },
      "source": [
        "# Classifiers"
      ]
    },
    {
      "cell_type": "markdown",
      "metadata": {
        "id": "6iBDajYWG_jR",
        "colab_type": "text"
      },
      "source": [
        "## k-Nearest-Neighbors"
      ]
    },
    {
      "cell_type": "markdown",
      "metadata": {
        "id": "CXYMeAvmyhBz",
        "colab_type": "text"
      },
      "source": [
        "### k-NN with PCA"
      ]
    },
    {
      "cell_type": "code",
      "metadata": {
        "id": "yjD9zPASHD4s",
        "colab_type": "code",
        "outputId": "b96a4274-2f52-4ceb-896c-ec2d5c1a936b",
        "colab": {
          "base_uri": "https://localhost:8080/",
          "height": 710
        }
      },
      "source": [
        "# Using different n_neighbors with weights = 'distance'\n",
        "print('Results when weights are based on distance:')\n",
        "n_neighbors=[1,5,7,10,11,15,20,50,100]\n",
        "for n_neighbor in n_neighbors:\n",
        "  clf = KNeighborsClassifier(n_neighbors=n_neighbor, weights='distance')\n",
        "  clf.fit(data_train_pca, label_train)\n",
        "\n",
        "  pred_train_knn = clf.predict(data_train_pca)\n",
        "  acc_train_knn = accuracy_score(label_train, pred_train_knn)\n",
        "  print ('Train set: {} neighbors gives an accuracy of {}'.format(n_neighbor, round(acc_train_knn,2)))\n",
        "\n",
        "  pred_test_knn = clf.predict(data_test_pca)\n",
        "  acc_test_knn = accuracy_score(label_test, pred_test_knn)\n",
        "  print ('Test set: {} neighbors gives an accuracy of {}'.format(n_neighbor, round(acc_train_knn,2)))\n",
        "\n",
        "# Using different n_neighbors with weights = 'uniform'\n",
        "print('\\n Results when weights are uniform:')\n",
        "n_neighbors=[1,5,7,10,11,15,20,50,100]\n",
        "for n_neighbor in n_neighbors:\n",
        "  clf = KNeighborsClassifier(n_neighbors=n_neighbor, weights='uniform')\n",
        "  clf.fit(data_train_pca, label_train)\n",
        "\n",
        "  pred_train_knn = clf.predict(data_train_pca)\n",
        "  acc_train_knn = accuracy_score(label_train, pred_train_knn)\n",
        "  print ('Train set: {} neighbors gives an accuracy of {}'.format(n_neighbor, round(acc_train_knn,2)))\n",
        "  \n",
        "  pred_test_knn = clf.predict(data_test_pca)\n",
        "  acc_test_knn = accuracy_score(label_test, pred_test_knn)\n",
        "  print ('Test set: {} neighbors gives an accuracy of {}'.format(n_neighbor, round(acc_train_knn,2)))"
      ],
      "execution_count": 8,
      "outputs": [
        {
          "output_type": "stream",
          "text": [
            "Results when weights are based on distance:\n",
            "Train set: 1 neighbors gives an accuracy of 1.0\n",
            "Test set: 1 neighbors gives an accuracy of 1.0\n",
            "Train set: 5 neighbors gives an accuracy of 1.0\n",
            "Test set: 5 neighbors gives an accuracy of 1.0\n",
            "Train set: 7 neighbors gives an accuracy of 1.0\n",
            "Test set: 7 neighbors gives an accuracy of 1.0\n",
            "Train set: 10 neighbors gives an accuracy of 1.0\n",
            "Test set: 10 neighbors gives an accuracy of 1.0\n",
            "Train set: 11 neighbors gives an accuracy of 1.0\n",
            "Test set: 11 neighbors gives an accuracy of 1.0\n",
            "Train set: 15 neighbors gives an accuracy of 1.0\n",
            "Test set: 15 neighbors gives an accuracy of 1.0\n",
            "Train set: 20 neighbors gives an accuracy of 1.0\n",
            "Test set: 20 neighbors gives an accuracy of 1.0\n",
            "Train set: 50 neighbors gives an accuracy of 1.0\n",
            "Test set: 50 neighbors gives an accuracy of 1.0\n",
            "Train set: 100 neighbors gives an accuracy of 1.0\n",
            "Test set: 100 neighbors gives an accuracy of 1.0\n",
            "\n",
            " Results when weights are uniform:\n",
            "Train set: 1 neighbors gives an accuracy of 1.0\n",
            "Test set: 1 neighbors gives an accuracy of 1.0\n",
            "Train set: 5 neighbors gives an accuracy of 0.89\n",
            "Test set: 5 neighbors gives an accuracy of 0.89\n",
            "Train set: 7 neighbors gives an accuracy of 0.87\n",
            "Test set: 7 neighbors gives an accuracy of 0.87\n",
            "Train set: 10 neighbors gives an accuracy of 0.86\n",
            "Test set: 10 neighbors gives an accuracy of 0.86\n",
            "Train set: 11 neighbors gives an accuracy of 0.86\n",
            "Test set: 11 neighbors gives an accuracy of 0.86\n",
            "Train set: 15 neighbors gives an accuracy of 0.86\n",
            "Test set: 15 neighbors gives an accuracy of 0.86\n",
            "Train set: 20 neighbors gives an accuracy of 0.84\n",
            "Test set: 20 neighbors gives an accuracy of 0.84\n",
            "Train set: 50 neighbors gives an accuracy of 0.68\n",
            "Test set: 50 neighbors gives an accuracy of 0.68\n",
            "Train set: 100 neighbors gives an accuracy of 0.61\n",
            "Test set: 100 neighbors gives an accuracy of 0.61\n"
          ],
          "name": "stdout"
        }
      ]
    },
    {
      "cell_type": "code",
      "metadata": {
        "id": "TDIepeN9JT14",
        "colab_type": "code",
        "outputId": "bf4b989d-540f-46d8-da44-2d50aedf80bf",
        "colab": {
          "base_uri": "https://localhost:8080/",
          "height": 885
        }
      },
      "source": [
        "# Hyperparameter optimization of number of neighbors and weights with PCA\n",
        "\n",
        "# Parameter distributions, to optimize the number of neighbors and the weights\n",
        "param_distributions = {'n_neighbors': [1,5,7,10,11,15,20,50,100], 'weights': ['uniform','distance']} \n",
        "    \n",
        "# Execute RandomizedSearchCV to find optimal parameters\n",
        "clf_knn = RandomizedSearchCV(KNeighborsClassifier(), param_distributions, scoring='accuracy', cv=5, return_train_score=True)\n",
        "\n",
        "# Fit the classifier\n",
        "clf_knn.fit(data_train_pca, label_train)\n",
        "\n",
        "# The best parameters\n",
        "print(f'The best parameters are {clf_knn.best_params_} with a mean accuracy of {clf_knn.best_score_}')\n",
        "\n",
        "pd.DataFrame(clf_knn.cv_results_)\n"
      ],
      "execution_count": 9,
      "outputs": [
        {
          "output_type": "stream",
          "text": [
            "The best parameters are {'weights': 'distance', 'n_neighbors': 10} with a mean accuracy of 0.8128205128205128\n"
          ],
          "name": "stdout"
        },
        {
          "output_type": "execute_result",
          "data": {
            "text/html": [
              "<div>\n",
              "<style scoped>\n",
              "    .dataframe tbody tr th:only-of-type {\n",
              "        vertical-align: middle;\n",
              "    }\n",
              "\n",
              "    .dataframe tbody tr th {\n",
              "        vertical-align: top;\n",
              "    }\n",
              "\n",
              "    .dataframe thead th {\n",
              "        text-align: right;\n",
              "    }\n",
              "</style>\n",
              "<table border=\"1\" class=\"dataframe\">\n",
              "  <thead>\n",
              "    <tr style=\"text-align: right;\">\n",
              "      <th></th>\n",
              "      <th>mean_fit_time</th>\n",
              "      <th>std_fit_time</th>\n",
              "      <th>mean_score_time</th>\n",
              "      <th>std_score_time</th>\n",
              "      <th>param_weights</th>\n",
              "      <th>param_n_neighbors</th>\n",
              "      <th>params</th>\n",
              "      <th>split0_test_score</th>\n",
              "      <th>split1_test_score</th>\n",
              "      <th>split2_test_score</th>\n",
              "      <th>split3_test_score</th>\n",
              "      <th>split4_test_score</th>\n",
              "      <th>mean_test_score</th>\n",
              "      <th>std_test_score</th>\n",
              "      <th>rank_test_score</th>\n",
              "      <th>split0_train_score</th>\n",
              "      <th>split1_train_score</th>\n",
              "      <th>split2_train_score</th>\n",
              "      <th>split3_train_score</th>\n",
              "      <th>split4_train_score</th>\n",
              "      <th>mean_train_score</th>\n",
              "      <th>std_train_score</th>\n",
              "    </tr>\n",
              "  </thead>\n",
              "  <tbody>\n",
              "    <tr>\n",
              "      <th>0</th>\n",
              "      <td>0.000982</td>\n",
              "      <td>0.000314</td>\n",
              "      <td>0.001798</td>\n",
              "      <td>0.000140</td>\n",
              "      <td>distance</td>\n",
              "      <td>10</td>\n",
              "      <td>{'weights': 'distance', 'n_neighbors': 10}</td>\n",
              "      <td>0.703704</td>\n",
              "      <td>0.814815</td>\n",
              "      <td>0.814815</td>\n",
              "      <td>0.884615</td>\n",
              "      <td>0.846154</td>\n",
              "      <td>0.812821</td>\n",
              "      <td>0.060299</td>\n",
              "      <td>1</td>\n",
              "      <td>1.000000</td>\n",
              "      <td>1.000000</td>\n",
              "      <td>1.000000</td>\n",
              "      <td>1.000000</td>\n",
              "      <td>1.000000</td>\n",
              "      <td>1.000000</td>\n",
              "      <td>0.000000</td>\n",
              "    </tr>\n",
              "    <tr>\n",
              "      <th>1</th>\n",
              "      <td>0.000899</td>\n",
              "      <td>0.000198</td>\n",
              "      <td>0.002651</td>\n",
              "      <td>0.000356</td>\n",
              "      <td>uniform</td>\n",
              "      <td>10</td>\n",
              "      <td>{'weights': 'uniform', 'n_neighbors': 10}</td>\n",
              "      <td>0.703704</td>\n",
              "      <td>0.814815</td>\n",
              "      <td>0.814815</td>\n",
              "      <td>0.884615</td>\n",
              "      <td>0.807692</td>\n",
              "      <td>0.805128</td>\n",
              "      <td>0.057964</td>\n",
              "      <td>2</td>\n",
              "      <td>0.849057</td>\n",
              "      <td>0.820755</td>\n",
              "      <td>0.858491</td>\n",
              "      <td>0.822430</td>\n",
              "      <td>0.850467</td>\n",
              "      <td>0.840240</td>\n",
              "      <td>0.015571</td>\n",
              "    </tr>\n",
              "    <tr>\n",
              "      <th>2</th>\n",
              "      <td>0.000589</td>\n",
              "      <td>0.000020</td>\n",
              "      <td>0.001408</td>\n",
              "      <td>0.000032</td>\n",
              "      <td>distance</td>\n",
              "      <td>50</td>\n",
              "      <td>{'weights': 'distance', 'n_neighbors': 50}</td>\n",
              "      <td>0.629630</td>\n",
              "      <td>0.703704</td>\n",
              "      <td>0.592593</td>\n",
              "      <td>0.807692</td>\n",
              "      <td>0.615385</td>\n",
              "      <td>0.669801</td>\n",
              "      <td>0.078357</td>\n",
              "      <td>8</td>\n",
              "      <td>1.000000</td>\n",
              "      <td>1.000000</td>\n",
              "      <td>1.000000</td>\n",
              "      <td>1.000000</td>\n",
              "      <td>1.000000</td>\n",
              "      <td>1.000000</td>\n",
              "      <td>0.000000</td>\n",
              "    </tr>\n",
              "    <tr>\n",
              "      <th>3</th>\n",
              "      <td>0.000606</td>\n",
              "      <td>0.000027</td>\n",
              "      <td>0.001963</td>\n",
              "      <td>0.000039</td>\n",
              "      <td>uniform</td>\n",
              "      <td>20</td>\n",
              "      <td>{'weights': 'uniform', 'n_neighbors': 20}</td>\n",
              "      <td>0.629630</td>\n",
              "      <td>0.814815</td>\n",
              "      <td>0.703704</td>\n",
              "      <td>0.884615</td>\n",
              "      <td>0.769231</td>\n",
              "      <td>0.760399</td>\n",
              "      <td>0.088072</td>\n",
              "      <td>6</td>\n",
              "      <td>0.820755</td>\n",
              "      <td>0.820755</td>\n",
              "      <td>0.830189</td>\n",
              "      <td>0.775701</td>\n",
              "      <td>0.831776</td>\n",
              "      <td>0.815835</td>\n",
              "      <td>0.020588</td>\n",
              "    </tr>\n",
              "    <tr>\n",
              "      <th>4</th>\n",
              "      <td>0.000454</td>\n",
              "      <td>0.000039</td>\n",
              "      <td>0.001558</td>\n",
              "      <td>0.000137</td>\n",
              "      <td>distance</td>\n",
              "      <td>100</td>\n",
              "      <td>{'weights': 'distance', 'n_neighbors': 100}</td>\n",
              "      <td>0.629630</td>\n",
              "      <td>0.592593</td>\n",
              "      <td>0.592593</td>\n",
              "      <td>0.615385</td>\n",
              "      <td>0.615385</td>\n",
              "      <td>0.609117</td>\n",
              "      <td>0.014460</td>\n",
              "      <td>9</td>\n",
              "      <td>1.000000</td>\n",
              "      <td>1.000000</td>\n",
              "      <td>1.000000</td>\n",
              "      <td>1.000000</td>\n",
              "      <td>1.000000</td>\n",
              "      <td>1.000000</td>\n",
              "      <td>0.000000</td>\n",
              "    </tr>\n",
              "    <tr>\n",
              "      <th>5</th>\n",
              "      <td>0.000807</td>\n",
              "      <td>0.000017</td>\n",
              "      <td>0.001632</td>\n",
              "      <td>0.000103</td>\n",
              "      <td>distance</td>\n",
              "      <td>1</td>\n",
              "      <td>{'weights': 'distance', 'n_neighbors': 1}</td>\n",
              "      <td>0.666667</td>\n",
              "      <td>0.777778</td>\n",
              "      <td>0.777778</td>\n",
              "      <td>0.692308</td>\n",
              "      <td>0.807692</td>\n",
              "      <td>0.744444</td>\n",
              "      <td>0.054754</td>\n",
              "      <td>7</td>\n",
              "      <td>1.000000</td>\n",
              "      <td>1.000000</td>\n",
              "      <td>1.000000</td>\n",
              "      <td>1.000000</td>\n",
              "      <td>1.000000</td>\n",
              "      <td>1.000000</td>\n",
              "      <td>0.000000</td>\n",
              "    </tr>\n",
              "    <tr>\n",
              "      <th>6</th>\n",
              "      <td>0.000793</td>\n",
              "      <td>0.000009</td>\n",
              "      <td>0.001619</td>\n",
              "      <td>0.000012</td>\n",
              "      <td>distance</td>\n",
              "      <td>7</td>\n",
              "      <td>{'weights': 'distance', 'n_neighbors': 7}</td>\n",
              "      <td>0.703704</td>\n",
              "      <td>0.740741</td>\n",
              "      <td>0.740741</td>\n",
              "      <td>0.961538</td>\n",
              "      <td>0.846154</td>\n",
              "      <td>0.798575</td>\n",
              "      <td>0.094351</td>\n",
              "      <td>3</td>\n",
              "      <td>1.000000</td>\n",
              "      <td>1.000000</td>\n",
              "      <td>1.000000</td>\n",
              "      <td>1.000000</td>\n",
              "      <td>1.000000</td>\n",
              "      <td>1.000000</td>\n",
              "      <td>0.000000</td>\n",
              "    </tr>\n",
              "    <tr>\n",
              "      <th>7</th>\n",
              "      <td>0.000814</td>\n",
              "      <td>0.000029</td>\n",
              "      <td>0.001682</td>\n",
              "      <td>0.000044</td>\n",
              "      <td>distance</td>\n",
              "      <td>15</td>\n",
              "      <td>{'weights': 'distance', 'n_neighbors': 15}</td>\n",
              "      <td>0.666667</td>\n",
              "      <td>0.814815</td>\n",
              "      <td>0.814815</td>\n",
              "      <td>0.884615</td>\n",
              "      <td>0.807692</td>\n",
              "      <td>0.797721</td>\n",
              "      <td>0.071288</td>\n",
              "      <td>4</td>\n",
              "      <td>1.000000</td>\n",
              "      <td>1.000000</td>\n",
              "      <td>1.000000</td>\n",
              "      <td>1.000000</td>\n",
              "      <td>1.000000</td>\n",
              "      <td>1.000000</td>\n",
              "      <td>0.000000</td>\n",
              "    </tr>\n",
              "    <tr>\n",
              "      <th>8</th>\n",
              "      <td>0.000506</td>\n",
              "      <td>0.000027</td>\n",
              "      <td>0.002643</td>\n",
              "      <td>0.000043</td>\n",
              "      <td>uniform</td>\n",
              "      <td>100</td>\n",
              "      <td>{'weights': 'uniform', 'n_neighbors': 100}</td>\n",
              "      <td>0.629630</td>\n",
              "      <td>0.592593</td>\n",
              "      <td>0.592593</td>\n",
              "      <td>0.615385</td>\n",
              "      <td>0.615385</td>\n",
              "      <td>0.609117</td>\n",
              "      <td>0.014460</td>\n",
              "      <td>9</td>\n",
              "      <td>0.603774</td>\n",
              "      <td>0.613208</td>\n",
              "      <td>0.613208</td>\n",
              "      <td>0.607477</td>\n",
              "      <td>0.607477</td>\n",
              "      <td>0.609028</td>\n",
              "      <td>0.003670</td>\n",
              "    </tr>\n",
              "    <tr>\n",
              "      <th>9</th>\n",
              "      <td>0.000813</td>\n",
              "      <td>0.000030</td>\n",
              "      <td>0.001851</td>\n",
              "      <td>0.000090</td>\n",
              "      <td>distance</td>\n",
              "      <td>20</td>\n",
              "      <td>{'weights': 'distance', 'n_neighbors': 20}</td>\n",
              "      <td>0.592593</td>\n",
              "      <td>0.814815</td>\n",
              "      <td>0.740741</td>\n",
              "      <td>0.961538</td>\n",
              "      <td>0.769231</td>\n",
              "      <td>0.775783</td>\n",
              "      <td>0.119045</td>\n",
              "      <td>5</td>\n",
              "      <td>1.000000</td>\n",
              "      <td>1.000000</td>\n",
              "      <td>1.000000</td>\n",
              "      <td>1.000000</td>\n",
              "      <td>1.000000</td>\n",
              "      <td>1.000000</td>\n",
              "      <td>0.000000</td>\n",
              "    </tr>\n",
              "  </tbody>\n",
              "</table>\n",
              "</div>"
            ],
            "text/plain": [
              "   mean_fit_time  std_fit_time  ...  mean_train_score  std_train_score\n",
              "0       0.000982      0.000314  ...          1.000000         0.000000\n",
              "1       0.000899      0.000198  ...          0.840240         0.015571\n",
              "2       0.000589      0.000020  ...          1.000000         0.000000\n",
              "3       0.000606      0.000027  ...          0.815835         0.020588\n",
              "4       0.000454      0.000039  ...          1.000000         0.000000\n",
              "5       0.000807      0.000017  ...          1.000000         0.000000\n",
              "6       0.000793      0.000009  ...          1.000000         0.000000\n",
              "7       0.000814      0.000029  ...          1.000000         0.000000\n",
              "8       0.000506      0.000027  ...          0.609028         0.003670\n",
              "9       0.000813      0.000030  ...          1.000000         0.000000\n",
              "\n",
              "[10 rows x 22 columns]"
            ]
          },
          "metadata": {
            "tags": []
          },
          "execution_count": 9
        }
      ]
    },
    {
      "cell_type": "code",
      "metadata": {
        "id": "prh3ZaQoWbkK",
        "colab_type": "code",
        "colab": {}
      },
      "source": [
        "# Fitting the K-NN Classifier\n",
        "KNN = KNeighborsClassifier(n_neighbors=5, weights='uniform')\n",
        "KNN.fit(data_train_pca, label_train)\n",
        "\n",
        "# Predictions\n",
        "train_pred_knn = KNN.predict(data_train_pca)"
      ],
      "execution_count": 0,
      "outputs": []
    },
    {
      "cell_type": "code",
      "metadata": {
        "id": "3m_gEMYgW7eo",
        "colab_type": "code",
        "outputId": "b1ae0374-b29b-470a-957f-9a753fbf83a8",
        "colab": {
          "base_uri": "https://localhost:8080/",
          "height": 105
        }
      },
      "source": [
        "# Evaluate KNN using cross-validation\n",
        "score_knn = cross_val_score(KNN, data_train_pca, label_train, cv=5)\n",
        "mean_score_knn = score_knn.mean()\n",
        "\n",
        "print(f'The accuracy of the validation set in 5 different folds is {score_knn}')\n",
        "print(f'\\n The mean accuracy of the validation set of 5 different folds is {round(mean_score_knn,2)}')\n",
        "\n",
        "# Evaluate accuracy of KNN on training set\n",
        "acc_train_knn = accuracy_score(label_train, train_pred_knn)\n",
        "print(f'\\n The accuracy of the training set is {round(acc_train_knn,2)}')"
      ],
      "execution_count": 11,
      "outputs": [
        {
          "output_type": "stream",
          "text": [
            "The accuracy of the validation set in 5 different folds is [0.74074074 0.81481481 0.81481481 0.92307692 0.84615385]\n",
            "\n",
            " The mean accuracy of the validation set of 5 different folds is 0.83\n",
            "\n",
            " The accuracy of the training set is 0.89\n"
          ],
          "name": "stdout"
        }
      ]
    },
    {
      "cell_type": "code",
      "metadata": {
        "id": "9JgSmsPxiHHq",
        "colab_type": "code",
        "outputId": "32e367d2-60ae-4fe7-e98b-8a1c796b30d9",
        "colab": {
          "base_uri": "https://localhost:8080/",
          "height": 230
        }
      },
      "source": [
        "# Confusion matrices and classification reports of trainings data\n",
        "print('Confusion matrix and classification report of training set')\n",
        "print(confusion_matrix(label_train, train_pred_knn))\n",
        "print(classification_report(label_train, train_pred_knn))"
      ],
      "execution_count": 12,
      "outputs": [
        {
          "output_type": "stream",
          "text": [
            "Confusion matrix and classification report of training set\n",
            "[[76  5]\n",
            " [ 9 43]]\n",
            "              precision    recall  f1-score   support\n",
            "\n",
            "           0       0.89      0.94      0.92        81\n",
            "           1       0.90      0.83      0.86        52\n",
            "\n",
            "    accuracy                           0.89       133\n",
            "   macro avg       0.89      0.88      0.89       133\n",
            "weighted avg       0.89      0.89      0.89       133\n",
            "\n"
          ],
          "name": "stdout"
        }
      ]
    },
    {
      "cell_type": "markdown",
      "metadata": {
        "id": "zWWd0nzQPEfa",
        "colab_type": "text"
      },
      "source": [
        "## Random Forest Classifier"
      ]
    },
    {
      "cell_type": "markdown",
      "metadata": {
        "id": "wCVShgspj-lQ",
        "colab_type": "text"
      },
      "source": [
        "### Random Forest with PCA"
      ]
    },
    {
      "cell_type": "code",
      "metadata": {
        "id": "FA1o4T0F6lOy",
        "colab_type": "code",
        "outputId": "65a26787-1b78-421f-e7c0-24beb8e9d811",
        "colab": {
          "base_uri": "https://localhost:8080/",
          "height": 781
        }
      },
      "source": [
        "# Hyperparameter optimization: trying out different amount of trees and compare bootstrapping True and False.\n",
        "\n",
        "#using different n_trees and bootstrapping  \n",
        "print('Results when bootstrapping=True')\n",
        "n_trees=[1,5,10,15,20,30,50,100,150,200]\n",
        "for n_tree in n_trees:\n",
        "  clf = RandomForestClassifier(n_estimators=n_tree, bootstrap=True)\n",
        "  clf.fit(data_train_pca,label_train)\n",
        "  \n",
        "  predictions_train = clf.predict(data_train_pca)\n",
        "  acc_train_RF = accuracy_score(label_train, predictions_train)\n",
        "  \n",
        "  print ('Train set: {} trees gives an accuracy of {}'.format(n_tree, round(acc_train_RF,2)))\n",
        "\n",
        "  predictions_test = clf.predict(data_test_pca)\n",
        "  acc_test_RF = accuracy_score(label_test, predictions_test)\n",
        "\n",
        "  print ('Test set: {} trees gives an accuracy of {}'.format(n_tree, round(acc_test_RF, 2)))\n",
        "\n",
        "print ('')\n",
        "\n",
        "#using different n_trees without bootstrapping \n",
        "print('Results when bootstrapping=False')\n",
        "for n_tree in n_trees:\n",
        "  clf = RandomForestClassifier(n_estimators=n_tree, bootstrap=False)\n",
        "  clf.fit(data_train_pca,label_train)\n",
        "  \n",
        "  predictions_train = clf.predict(data_train_pca)\n",
        "  acc_train_RF = accuracy_score(label_train, predictions_train)\n",
        "  print ('Train set: {} trees gives an accuracy of {}'.format(n_tree,round(acc_train_RF,2)))\n",
        "\n",
        "  predictions_test = clf.predict(data_test_pca)\n",
        "  acc_test_RF = accuracy_score(label_test, predictions_test)\n",
        "\n",
        "  print ('Test set: {} trees gives an accuracy of {}'.format(n_tree,round(acc_test_RF,2)))"
      ],
      "execution_count": 13,
      "outputs": [
        {
          "output_type": "stream",
          "text": [
            "Results when bootstrapping=True\n",
            "Train set: 1 trees gives an accuracy of 0.88\n",
            "Test set: 1 trees gives an accuracy of 0.65\n",
            "Train set: 5 trees gives an accuracy of 0.98\n",
            "Test set: 5 trees gives an accuracy of 0.74\n",
            "Train set: 10 trees gives an accuracy of 0.98\n",
            "Test set: 10 trees gives an accuracy of 0.79\n",
            "Train set: 15 trees gives an accuracy of 1.0\n",
            "Test set: 15 trees gives an accuracy of 0.65\n",
            "Train set: 20 trees gives an accuracy of 1.0\n",
            "Test set: 20 trees gives an accuracy of 0.82\n",
            "Train set: 30 trees gives an accuracy of 1.0\n",
            "Test set: 30 trees gives an accuracy of 0.74\n",
            "Train set: 50 trees gives an accuracy of 1.0\n",
            "Test set: 50 trees gives an accuracy of 0.74\n",
            "Train set: 100 trees gives an accuracy of 1.0\n",
            "Test set: 100 trees gives an accuracy of 0.91\n",
            "Train set: 150 trees gives an accuracy of 1.0\n",
            "Test set: 150 trees gives an accuracy of 0.82\n",
            "Train set: 200 trees gives an accuracy of 1.0\n",
            "Test set: 200 trees gives an accuracy of 0.79\n",
            "\n",
            "Results when bootstrapping=False\n",
            "Train set: 1 trees gives an accuracy of 1.0\n",
            "Test set: 1 trees gives an accuracy of 0.68\n",
            "Train set: 5 trees gives an accuracy of 1.0\n",
            "Test set: 5 trees gives an accuracy of 0.68\n",
            "Train set: 10 trees gives an accuracy of 1.0\n",
            "Test set: 10 trees gives an accuracy of 0.76\n",
            "Train set: 15 trees gives an accuracy of 1.0\n",
            "Test set: 15 trees gives an accuracy of 0.82\n",
            "Train set: 20 trees gives an accuracy of 1.0\n",
            "Test set: 20 trees gives an accuracy of 0.82\n",
            "Train set: 30 trees gives an accuracy of 1.0\n",
            "Test set: 30 trees gives an accuracy of 0.88\n",
            "Train set: 50 trees gives an accuracy of 1.0\n",
            "Test set: 50 trees gives an accuracy of 0.76\n",
            "Train set: 100 trees gives an accuracy of 1.0\n",
            "Test set: 100 trees gives an accuracy of 0.91\n",
            "Train set: 150 trees gives an accuracy of 1.0\n",
            "Test set: 150 trees gives an accuracy of 0.85\n",
            "Train set: 200 trees gives an accuracy of 1.0\n",
            "Test set: 200 trees gives an accuracy of 0.82\n"
          ],
          "name": "stdout"
        }
      ]
    },
    {
      "cell_type": "code",
      "metadata": {
        "id": "w27ZGUSg9TPx",
        "colab_type": "code",
        "outputId": "5f3d2a8f-d670-405c-ded2-5480af4e0f26",
        "colab": {
          "base_uri": "https://localhost:8080/",
          "height": 34
        }
      },
      "source": [
        "# Hyperparameter optimization of Random Forest Classifier with PCA\n",
        "\n",
        "# Parameter distributions, to optimize the number of estimators, max features and max depth \n",
        "param_distributions = {'n_estimators': [1,5,10,15,20,30,50,100,150,200],\n",
        "                       'max_features': list(range(10,len(data_train_pca[1]),10)),\n",
        "                       'max_depth': list(range(10,50,10))} \n",
        "                        \n",
        "# Execute RandomizedSearchCV to find optimal parameters\n",
        "clf_rf = RandomizedSearchCV(RandomForestClassifier(bootstrap=True), param_distributions, scoring='accuracy', cv=5, return_train_score=True)\n",
        "\n",
        "# Fit the classifier\n",
        "clf_rf.fit(data_train_pca, label_train)\n",
        "\n",
        "# The best parameters\n",
        "print(f'The best parameters are {clf_rf.best_params_} with a mean accuracy of {clf_rf.best_score_}')\n"
      ],
      "execution_count": 14,
      "outputs": [
        {
          "output_type": "stream",
          "text": [
            "The best parameters are {'n_estimators': 200, 'max_features': 30, 'max_depth': 20} with a mean accuracy of 0.805982905982906\n"
          ],
          "name": "stdout"
        }
      ]
    },
    {
      "cell_type": "code",
      "metadata": {
        "id": "VJb6pbVk4Pc1",
        "colab_type": "code",
        "colab": {}
      },
      "source": [
        "# Fitting the Random Forest classifier with PCA\n",
        "RF = RandomForestClassifier(n_estimators=50, max_features=40, max_depth=40, bootstrap=True)\n",
        "RF.fit(data_train_pca, label_train)\n",
        "\n",
        "# Predictions\n",
        "train_pred_RF = RF.predict(data_train_pca)\n"
      ],
      "execution_count": 0,
      "outputs": []
    },
    {
      "cell_type": "code",
      "metadata": {
        "id": "LAxcrYvhVM1d",
        "colab_type": "code",
        "outputId": "eddc425d-d09d-4761-f8fd-379e429a21ac",
        "colab": {
          "base_uri": "https://localhost:8080/",
          "height": 123
        }
      },
      "source": [
        "# Evaluate Random Forest using cross-validation\n",
        "score_rf = cross_val_score(RF, data_train_pca, label_train, cv=5)\n",
        "mean_score_rf = score_rf.mean()\n",
        "\n",
        "print(f'\\n The accuracy of the validation set in 5 different folds is {score_rf}')\n",
        "print(f'\\n The mean accuracy of the validation set of 5 different folds is {round(mean_score_rf,2)}')\n",
        "\n",
        "# Evaluate accuracy of Random Forest Classifier on training set\n",
        "acc_train_RF = accuracy_score(label_train, train_pred_RF)\n",
        "print(f'\\n The accuracy on the training set is {round(acc_train_RF, 2)}')"
      ],
      "execution_count": 16,
      "outputs": [
        {
          "output_type": "stream",
          "text": [
            "\n",
            " The accuracy of the validation set in 5 different folds is [0.7037037  0.7037037  0.74074074 0.88461538 0.80769231]\n",
            "\n",
            " The mean accuracy of the validation set of 5 different folds is 0.77\n",
            "\n",
            " The accuracy on the training set is 1.0\n"
          ],
          "name": "stdout"
        }
      ]
    },
    {
      "cell_type": "code",
      "metadata": {
        "id": "QDVEd0zhh3Vu",
        "colab_type": "code",
        "outputId": "4882ec15-cc50-4d45-fa83-abdf4278856d",
        "colab": {
          "base_uri": "https://localhost:8080/",
          "height": 230
        }
      },
      "source": [
        "# Confusion matrices and classification reports of trainings data\n",
        "print('Confusion matrix and classification report of training set')\n",
        "print(confusion_matrix(label_train, train_pred_RF))\n",
        "print(classification_report(label_train, train_pred_RF))"
      ],
      "execution_count": 17,
      "outputs": [
        {
          "output_type": "stream",
          "text": [
            "Confusion matrix and classification report of training set\n",
            "[[81  0]\n",
            " [ 0 52]]\n",
            "              precision    recall  f1-score   support\n",
            "\n",
            "           0       1.00      1.00      1.00        81\n",
            "           1       1.00      1.00      1.00        52\n",
            "\n",
            "    accuracy                           1.00       133\n",
            "   macro avg       1.00      1.00      1.00       133\n",
            "weighted avg       1.00      1.00      1.00       133\n",
            "\n"
          ],
          "name": "stdout"
        }
      ]
    },
    {
      "cell_type": "markdown",
      "metadata": {
        "id": "1Yd-arh0kCLd",
        "colab_type": "text"
      },
      "source": [
        "### Random Forest with Feature Importances"
      ]
    },
    {
      "cell_type": "code",
      "metadata": {
        "id": "NwVNtBTOhoMD",
        "colab_type": "code",
        "outputId": "de11e91b-e912-489f-bde9-68bb4dd05e0c",
        "colab": {
          "base_uri": "https://localhost:8080/",
          "height": 281
        }
      },
      "source": [
        "# Feature_Importances\n",
        "estimator_fi = RandomForestClassifier()\n",
        "estimator_fi.fit(data_df_train, label_train)\n",
        "importances = estimator_fi.feature_importances_\n",
        "std = np.std([tree.feature_importances_ for tree in estimator_fi.estimators_], axis=0)\n",
        "indices = np.argsort(importances)[::-1]\n",
        "\n",
        "# Print the feature ranking\n",
        "# print(\"Feature ranking:\")\n",
        "\n",
        "# for f in range(data_df_train.shape[1]):\n",
        "#     print(\"%d. feature %d (%f)\" % (f + 1, indices[f], importances[indices[f]]))\n",
        "\n",
        "# Plot the feature importances of the forest\n",
        "plt.figure()\n",
        "plt.title(\"Feature importances\")\n",
        "plt.bar(range(data_df_train.shape[1]), importances[indices],\n",
        "       color=\"r\", yerr=std[indices], align=\"center\")\n",
        "plt.xticks(range(data_df_train.shape[1]), indices)\n",
        "plt.xlim([-1, data_df_train.shape[1]])\n",
        "plt.show()\n",
        "\n",
        "# Only keep features with importance > 0.001\n",
        "  # Training set\n",
        "mask = importances > 0.001\n",
        "mask2 = data_df_train.columns[mask]\n",
        "data_train_selection = data_df_train[mask2]\n",
        "  # Test set\n",
        "data_test_selection = data_df_test[mask2]\n"
      ],
      "execution_count": 18,
      "outputs": [
        {
          "output_type": "display_data",
          "data": {
            "image/png": "[encoded data removed]",
            "text/plain": [
              "<Figure size 432x288 with 1 Axes>"
            ]
          },
          "metadata": {
            "tags": [],
            "needs_background": "light"
          }
        }
      ]
    },
    {
      "cell_type": "code",
      "metadata": {
        "id": "iZT2-xi60RQM",
        "colab_type": "code",
        "outputId": "3ac81a94-93cd-4542-fee8-1ab2b593e84a",
        "colab": {
          "base_uri": "https://localhost:8080/",
          "height": 34
        }
      },
      "source": [
        "# Hyperparameter optimization of Random Forest with 'Feature Importances'\n",
        "\n",
        "# Execute RandomizedSearchCV to find optimal parameters\n",
        "clf_fi = RandomizedSearchCV(estimator_fi, param_distributions, scoring='accuracy', cv=5, return_train_score=True)\n",
        "\n",
        "# Fit the classifier\n",
        "clf_fi.fit(data_train_selection, label_train)\n",
        "\n",
        "# The best parameters\n",
        "print(f'The best parameters are {clf_fi.best_params_} with a mean accuracy of {clf_fi.best_score_}')"
      ],
      "execution_count": 19,
      "outputs": [
        {
          "output_type": "stream",
          "text": [
            "The best parameters are {'n_estimators': 100, 'max_features': 10, 'max_depth': 40} with a mean accuracy of 0.9176638176638177\n"
          ],
          "name": "stdout"
        }
      ]
    },
    {
      "cell_type": "code",
      "metadata": {
        "id": "mwQROBTF0VF7",
        "colab_type": "code",
        "colab": {}
      },
      "source": [
        "# Fit the classifier on the selected features\n",
        "FI = RandomForestClassifier(n_estimators=10, max_features=60, max_depth=10, bootstrap=True)\n",
        "FI.fit(data_train_selection, label_train)\n",
        "\n",
        "# Predictions\n",
        "train_pred_fi = FI.predict(data_train_selection)"
      ],
      "execution_count": 0,
      "outputs": []
    },
    {
      "cell_type": "code",
      "metadata": {
        "id": "zvYo0A91kGAx",
        "colab_type": "code",
        "outputId": "a282dadc-298b-46d1-97a7-4c39fb54aecc",
        "colab": {
          "base_uri": "https://localhost:8080/",
          "height": 123
        }
      },
      "source": [
        "# Evaluate Random Forest using cross-validation\n",
        "score_fi = cross_val_score(FI, data_train_selection, label_train, cv=5)\n",
        "mean_score_fi = score_fi.mean()\n",
        "\n",
        "print(f'\\n The accuracy of the validation set in 5 different folds is {score_fi}')\n",
        "print(f'\\n The mean accuracy of the validation set of 5 different folds is {round(mean_score_fi,2)}')\n",
        "\n",
        "# Evaluate accuracy of Random Forest Classifier on training set\n",
        "acc_train_fi = accuracy_score(label_train, train_pred_fi)\n",
        "print(f'\\n The accuracy on the training set is {round(acc_train_fi, 2)}')"
      ],
      "execution_count": 21,
      "outputs": [
        {
          "output_type": "stream",
          "text": [
            "\n",
            " The accuracy of the validation set in 5 different folds is [0.81481481 1.         0.88888889 0.92307692 0.92307692]\n",
            "\n",
            " The mean accuracy of the validation set of 5 different folds is 0.91\n",
            "\n",
            " The accuracy on the training set is 0.99\n"
          ],
          "name": "stdout"
        }
      ]
    },
    {
      "cell_type": "code",
      "metadata": {
        "id": "BMrulvXMkLgn",
        "colab_type": "code",
        "outputId": "0bc7702d-c294-4546-fe00-220d9b90d4d5",
        "colab": {
          "base_uri": "https://localhost:8080/",
          "height": 230
        }
      },
      "source": [
        "# Confusion matrices and classification reports of trainings data\n",
        "print('Confusion matrix and classification report of training set')\n",
        "print(confusion_matrix(label_train, train_pred_fi))\n",
        "print(classification_report(label_train, train_pred_fi))"
      ],
      "execution_count": 22,
      "outputs": [
        {
          "output_type": "stream",
          "text": [
            "Confusion matrix and classification report of training set\n",
            "[[81  0]\n",
            " [ 1 51]]\n",
            "              precision    recall  f1-score   support\n",
            "\n",
            "           0       0.99      1.00      0.99        81\n",
            "           1       1.00      0.98      0.99        52\n",
            "\n",
            "    accuracy                           0.99       133\n",
            "   macro avg       0.99      0.99      0.99       133\n",
            "weighted avg       0.99      0.99      0.99       133\n",
            "\n"
          ],
          "name": "stdout"
        }
      ]
    },
    {
      "cell_type": "markdown",
      "metadata": {
        "id": "gL04AA6EH9_7",
        "colab_type": "text"
      },
      "source": [
        "## Support Vector Machine"
      ]
    },
    {
      "cell_type": "markdown",
      "metadata": {
        "id": "sCZWDiaAsRzE",
        "colab_type": "text"
      },
      "source": [
        "### SVM with PCA "
      ]
    },
    {
      "cell_type": "code",
      "metadata": {
        "id": "CrU_YknbHARw",
        "colab_type": "code",
        "outputId": "a0ec24eb-8913-4ef4-9508-c2a3af3e3f16",
        "colab": {
          "base_uri": "https://localhost:8080/",
          "height": 34
        }
      },
      "source": [
        "# Hyperparameter optimization of SVM with PCA\n",
        "\n",
        "# Parameter distributions, to optimize the degree, coef0, slack, gamma and the kernel\n",
        "degrees = [1, 3, 5]\n",
        "coef0s = [1, 0.5, 0.01]\n",
        "slacks = [0.1, 1, 10, 100]\n",
        "gammas = [1, 0.1 ,0.01, 0.001]\n",
        "kernels = ['linear', 'rbf', 'poly']\n",
        "\n",
        "# Creating paramater space\n",
        "param_grid = {'degree': degrees,'coef0': coef0s, 'C': slacks, 'gamma': gammas, 'kernel': kernels}\n",
        "\n",
        "# Execute RandomizedSearchCV to find optimal parameters\n",
        "clf_svm = RandomizedSearchCV(SVC(),param_grid, scoring='accuracy', cv=5, return_train_score=True)\n",
        "\n",
        "# Fit the classifier\n",
        "clf_svm.fit(data_train_pca, label_train)\n",
        "\n",
        "# The best parameters\n",
        "print(f'The best parameters are {clf_svm.best_params_} with a mean accuracy of {clf_svm.best_score_}')\n"
      ],
      "execution_count": 23,
      "outputs": [
        {
          "output_type": "stream",
          "text": [
            "The best parameters are {'kernel': 'poly', 'gamma': 1, 'degree': 3, 'coef0': 1, 'C': 100} with a mean accuracy of 0.8578347578347578\n"
          ],
          "name": "stdout"
        }
      ]
    },
    {
      "cell_type": "code",
      "metadata": {
        "id": "s0Zzz85DYOKV",
        "colab_type": "code",
        "colab": {}
      },
      "source": [
        "# Fitting the Support Vector Machine classifier\n",
        "SVM = SVC(C=10, kernel='linear', degree=1, gamma=0.001, coef0=0.01)\n",
        "SVM.fit(data_train_pca, label_train)\n",
        "\n",
        "# Predictions\n",
        "train_pred_svm = SVM.predict(data_train_pca)"
      ],
      "execution_count": 0,
      "outputs": []
    },
    {
      "cell_type": "code",
      "metadata": {
        "id": "WroktlYhUyat",
        "colab_type": "code",
        "outputId": "c5106729-6105-4e12-e9f1-b854911686b1",
        "colab": {
          "base_uri": "https://localhost:8080/",
          "height": 105
        }
      },
      "source": [
        "# Evaluate the SVM classifier using cross-validation\n",
        "score_svm = cross_val_score(SVM, data_train_pca, label_train, cv=5)\n",
        "mean_score_svm = score_svm.mean()\n",
        "\n",
        "print(f'The accuracy of the validation set in 5 different folds is {score_svm}')\n",
        "print(f'\\n The mean accuracy of the validation set of 5 different folds is {round(mean_score_svm,2)}')\n",
        "\n",
        "# Evaluate accuracy of SVM on training set\n",
        "acc_train_svm = accuracy_score(label_train, train_pred_svm)\n",
        "print(f'\\n The accuracy of the training set is {round(acc_train_svm,2)}')\n"
      ],
      "execution_count": 25,
      "outputs": [
        {
          "output_type": "stream",
          "text": [
            "The accuracy of the validation set in 5 different folds is [0.7037037  0.81481481 0.81481481 0.92307692 0.88461538]\n",
            "\n",
            " The mean accuracy of the validation set of 5 different folds is 0.83\n",
            "\n",
            " The accuracy of the training set is 1.0\n"
          ],
          "name": "stdout"
        }
      ]
    },
    {
      "cell_type": "code",
      "metadata": {
        "id": "dt_WPxIpgcvH",
        "colab_type": "code",
        "outputId": "4409d78a-8896-4aa6-adad-cdb769753fad",
        "colab": {
          "base_uri": "https://localhost:8080/",
          "height": 230
        }
      },
      "source": [
        "# Confusion matrix and classification reports of trainings data\n",
        "print('Confusion matrix and classification report of training set')\n",
        "print(confusion_matrix(label_train, train_pred_svm))\n",
        "print(classification_report(label_train, train_pred_svm))"
      ],
      "execution_count": 26,
      "outputs": [
        {
          "output_type": "stream",
          "text": [
            "Confusion matrix and classification report of training set\n",
            "[[81  0]\n",
            " [ 0 52]]\n",
            "              precision    recall  f1-score   support\n",
            "\n",
            "           0       1.00      1.00      1.00        81\n",
            "           1       1.00      1.00      1.00        52\n",
            "\n",
            "    accuracy                           1.00       133\n",
            "   macro avg       1.00      1.00      1.00       133\n",
            "weighted avg       1.00      1.00      1.00       133\n",
            "\n"
          ],
          "name": "stdout"
        }
      ]
    },
    {
      "cell_type": "markdown",
      "metadata": {
        "id": "jwsWtFaIsiOf",
        "colab_type": "text"
      },
      "source": [
        "### SVM with RFECV"
      ]
    },
    {
      "cell_type": "code",
      "metadata": {
        "id": "tBKUUGJ5skQm",
        "colab_type": "code",
        "colab": {}
      },
      "source": [
        "# RFECV\n",
        "estimator = SVC(kernel='linear')\n",
        "selector = RFECV(estimator, step=1, cv=5)\n",
        "selector = selector.fit(data_df_train, label_train)\n",
        "mask = selector.support_\n",
        "RFECV_columns = data_df_train.columns[mask]\n",
        "\n",
        "# Feature selection\n",
        "  # Training set\n",
        "data_train_RFECV = data_df_train[RFECV_columns]\n",
        "  # Test set\n",
        "data_test_RFECV = data_df_test[RFECV_columns]"
      ],
      "execution_count": 0,
      "outputs": []
    },
    {
      "cell_type": "code",
      "metadata": {
        "id": "T7VaSeggwegM",
        "colab_type": "code",
        "outputId": "ef52fc8b-1766-40b2-dff9-3e82d9d9e26e",
        "colab": {
          "base_uri": "https://localhost:8080/",
          "height": 54
        }
      },
      "source": [
        "# Hyperparameter optimization of SVM with RFECV\n",
        "\n",
        "# Execute RandomizedSearchCV to find optimal parameters\n",
        "clf_svmlin = RandomizedSearchCV(estimator, param_grid, scoring='accuracy', cv=5, return_train_score=True)\n",
        "\n",
        "# Fit the classifier\n",
        "clf_svmlin.fit(data_train_RFECV, label_train)\n",
        "\n",
        "# The best parameters\n",
        "print(f'The best parameters are {clf_svmlin.best_params_} with a mean accuracy of {clf_svmlin.best_score_}')\n"
      ],
      "execution_count": 28,
      "outputs": [
        {
          "output_type": "stream",
          "text": [
            "The best parameters are {'kernel': 'linear', 'gamma': 0.1, 'degree': 5, 'coef0': 0.01, 'C': 100} with a mean accuracy of 0.9772079772079773\n"
          ],
          "name": "stdout"
        }
      ]
    },
    {
      "cell_type": "code",
      "metadata": {
        "id": "yvd1lPeYwgh-",
        "colab_type": "code",
        "colab": {}
      },
      "source": [
        "# Fit the classifier on the selected features\n",
        "SVMLIN = SVC(C=0.1, kernel='linear', degree=1, gamma=1, coef0=0.5)\n",
        "SVMLIN.fit(data_train_RFECV, label_train)\n",
        "\n",
        "# Predictions\n",
        "train_pred_rfecv = SVMLIN.predict(data_train_RFECV)"
      ],
      "execution_count": 0,
      "outputs": []
    },
    {
      "cell_type": "code",
      "metadata": {
        "id": "Am5qThTxNLLj",
        "colab_type": "code",
        "outputId": "17fc54d0-6053-435a-9c46-6038396f5a1c",
        "colab": {
          "base_uri": "https://localhost:8080/",
          "height": 123
        }
      },
      "source": [
        "# Evaluate SVM using cross-validation\n",
        "score_rfecv = cross_val_score(SVMLIN, data_train_RFECV, label_train, cv=5)\n",
        "mean_score_rfecv = score_rfecv.mean()\n",
        "\n",
        "print(f'\\n The accuracy of the validation set in 5 different folds is {score_rfecv}')\n",
        "print(f'\\n The mean accuracy of the validation set of 5 different folds is {round(mean_score_rfecv,2)}')\n",
        "\n",
        "# Evaluate accuracy of SVM on training set\n",
        "acc_train_rfecv = accuracy_score(label_train, train_pred_rfecv)\n",
        "print(f'\\n The accuracy on the training set is {round(acc_train_rfecv, 2)}')"
      ],
      "execution_count": 30,
      "outputs": [
        {
          "output_type": "stream",
          "text": [
            "\n",
            " The accuracy of the validation set in 5 different folds is [0.92592593 1.         0.96296296 1.         1.        ]\n",
            "\n",
            " The mean accuracy of the validation set of 5 different folds is 0.98\n",
            "\n",
            " The accuracy on the training set is 0.99\n"
          ],
          "name": "stdout"
        }
      ]
    },
    {
      "cell_type": "code",
      "metadata": {
        "id": "9ONHw-ZQLuWG",
        "colab_type": "code",
        "outputId": "7e8f228f-d872-483b-b6ef-312550d93909",
        "colab": {
          "base_uri": "https://localhost:8080/",
          "height": 230
        }
      },
      "source": [
        "# Confusion matrices and classification reports of trainings data\n",
        "print('Confusion matrix and classification report of training set')\n",
        "print(confusion_matrix(label_train, train_pred_rfecv))\n",
        "print(classification_report(label_train, train_pred_rfecv))"
      ],
      "execution_count": 31,
      "outputs": [
        {
          "output_type": "stream",
          "text": [
            "Confusion matrix and classification report of training set\n",
            "[[81  0]\n",
            " [ 1 51]]\n",
            "              precision    recall  f1-score   support\n",
            "\n",
            "           0       0.99      1.00      0.99        81\n",
            "           1       1.00      0.98      0.99        52\n",
            "\n",
            "    accuracy                           0.99       133\n",
            "   macro avg       0.99      0.99      0.99       133\n",
            "weighted avg       0.99      0.99      0.99       133\n",
            "\n"
          ],
          "name": "stdout"
        }
      ]
    },
    {
      "cell_type": "markdown",
      "metadata": {
        "id": "nSEXIhNo9jtU",
        "colab_type": "text"
      },
      "source": [
        "## Neural Networks"
      ]
    },
    {
      "cell_type": "code",
      "metadata": {
        "id": "bODUN5a09lfX",
        "colab_type": "code",
        "outputId": "c7a95ad5-a2a6-46a4-e12d-1ba17689ddf7",
        "colab": {
          "base_uri": "https://localhost:8080/",
          "height": 54
        }
      },
      "source": [
        "# Hyperparameter optimization of Neural Network with PCA\n",
        "\n",
        "# Parameter distributions, to optimize the hidden layer sizes, alpha and the learning rate\n",
        "parameter_space = {\n",
        "    'hidden_layer_sizes': [(50,50,50), (50,100,50), (100,), (7,2), (7,7,7),(9,9,9,9),(50,50,50,50), (50,50,50,50,50)],\n",
        "    'alpha': [0.0001, 0.05],\n",
        "    'learning_rate': ['constant','adaptive'],\n",
        "}\n",
        "    \n",
        "# Execute RandomizedSearchCV to find optimal parameters\n",
        "clf_mlp = RandomizedSearchCV(MLPClassifier(solver='lbfgs', max_iter=8000), parameter_space, scoring='accuracy', cv=5, return_train_score=True)  # Verbose=2 & refit=True uitzoeken\n",
        "\n",
        "# Fit the classifier\n",
        "clf_mlp.fit(data_train_pca, label_train)\n",
        "\n",
        "# The best parameters\n",
        "print(f'The best parameters are {clf_mlp.best_params_} with a mean accuracy of {clf_mlp.best_score_}')"
      ],
      "execution_count": 32,
      "outputs": [
        {
          "output_type": "stream",
          "text": [
            "The best parameters are {'learning_rate': 'constant', 'hidden_layer_sizes': (50, 50, 50), 'alpha': 0.0001} with a mean accuracy of 0.8729344729344728\n"
          ],
          "name": "stdout"
        }
      ]
    },
    {
      "cell_type": "code",
      "metadata": {
        "id": "VuBiRAuB96Yf",
        "colab_type": "code",
        "colab": {}
      },
      "source": [
        "# Fitting the Neural Network Classifier with optimal hyperparameters\n",
        "MLP = MLPClassifier(solver='lbfgs', learning_rate='constant',hidden_layer_sizes=(100,), alpha=0.05, activation='relu', max_iter=1000)\n",
        "MLP.fit(data_train_pca, label_train)\n",
        "\n",
        "# Predictions\n",
        "train_pred_MLP = MLP.predict(data_train_pca)\n"
      ],
      "execution_count": 0,
      "outputs": []
    },
    {
      "cell_type": "code",
      "metadata": {
        "id": "AiVEssBr98he",
        "colab_type": "code",
        "outputId": "f2b908f6-67ca-4530-8f68-61c150448ba6",
        "colab": {
          "base_uri": "https://localhost:8080/",
          "height": 123
        }
      },
      "source": [
        "# Evaluate neural network using cross-validation\n",
        "score = cross_val_score(MLP, data_train_pca, label_train, cv=5)\n",
        "mean_score = score.mean()\n",
        "\n",
        "print(f'\\n The accuracy of the validation set in 5 different folds is {score}')\n",
        "print(f'\\n The mean accuracy of the validation set of 5 different folds is {round(mean_score,2)}')\n",
        "\n",
        "# Evaluate accuracy of neural network on training set\n",
        "acc_train_MLP = accuracy_score(label_train, train_pred_MLP)\n",
        "print(f'\\n The accuracy of the training set is {round(acc_train_MLP,2)}')"
      ],
      "execution_count": 34,
      "outputs": [
        {
          "output_type": "stream",
          "text": [
            "\n",
            " The accuracy of the validation set in 5 different folds is [0.77777778 0.88888889 0.85185185 0.96153846 0.88461538]\n",
            "\n",
            " The mean accuracy of the validation set of 5 different folds is 0.87\n",
            "\n",
            " The accuracy of the training set is 1.0\n"
          ],
          "name": "stdout"
        }
      ]
    },
    {
      "cell_type": "code",
      "metadata": {
        "id": "KjjObAu39_wV",
        "colab_type": "code",
        "outputId": "6e77d14c-488e-4c28-c6c9-ffa583bc1442",
        "colab": {
          "base_uri": "https://localhost:8080/",
          "height": 230
        }
      },
      "source": [
        "# Confusion matrices and classification reports of training data\n",
        "print('Confusion matrix and classification report of training set')\n",
        "print(confusion_matrix(label_train, train_pred_MLP))\n",
        "print(classification_report(label_train, train_pred_MLP))"
      ],
      "execution_count": 35,
      "outputs": [
        {
          "output_type": "stream",
          "text": [
            "Confusion matrix and classification report of training set\n",
            "[[81  0]\n",
            " [ 0 52]]\n",
            "              precision    recall  f1-score   support\n",
            "\n",
            "           0       1.00      1.00      1.00        81\n",
            "           1       1.00      1.00      1.00        52\n",
            "\n",
            "    accuracy                           1.00       133\n",
            "   macro avg       1.00      1.00      1.00       133\n",
            "weighted avg       1.00      1.00      1.00       133\n",
            "\n"
          ],
          "name": "stdout"
        }
      ]
    },
    {
      "cell_type": "markdown",
      "metadata": {
        "id": "hwGUOWXusaFh",
        "colab_type": "text"
      },
      "source": [
        "# Evaluation"
      ]
    },
    {
      "cell_type": "markdown",
      "metadata": {
        "id": "qnOQalC5-Zmb",
        "colab_type": "text"
      },
      "source": [
        "## Accuracies on test data"
      ]
    },
    {
      "cell_type": "code",
      "metadata": {
        "id": "QlafV3sn-dvE",
        "colab_type": "code",
        "outputId": "403389a4-6f02-435f-ab92-38b1435132c8",
        "colab": {
          "base_uri": "https://localhost:8080/",
          "height": 265
        }
      },
      "source": [
        "# K-NN with PCA - evaluation\n",
        "\n",
        "# Evaluate accuracy of KNN on test set\n",
        "test_pred_knn = KNN.predict(data_test_pca)\n",
        "acc_test_knn = accuracy_score(label_test, test_pred_knn)\n",
        "print(f'\\n The accuracy of the test set is {round(acc_test_knn,2)}')\n",
        "\n",
        "# Confusion matrices and classification reports of test data\n",
        "print('Confusion matrix and classification report of test set')\n",
        "print(confusion_matrix(label_test, test_pred_knn))\n",
        "print(classification_report(label_test, test_pred_knn))"
      ],
      "execution_count": 36,
      "outputs": [
        {
          "output_type": "stream",
          "text": [
            "\n",
            " The accuracy of the test set is 0.88\n",
            "Confusion matrix and classification report of test set\n",
            "[[19  2]\n",
            " [ 2 11]]\n",
            "              precision    recall  f1-score   support\n",
            "\n",
            "           0       0.90      0.90      0.90        21\n",
            "           1       0.85      0.85      0.85        13\n",
            "\n",
            "    accuracy                           0.88        34\n",
            "   macro avg       0.88      0.88      0.88        34\n",
            "weighted avg       0.88      0.88      0.88        34\n",
            "\n"
          ],
          "name": "stdout"
        }
      ]
    },
    {
      "cell_type": "code",
      "metadata": {
        "id": "wZGZf_ogll5T",
        "colab_type": "code",
        "outputId": "7cba2f7b-9957-4b27-9ce6-8de864439cd9",
        "colab": {
          "base_uri": "https://localhost:8080/",
          "height": 265
        }
      },
      "source": [
        "# Random Forest with 'Feature Importances' - evaluation\n",
        "\n",
        "# Evaluate accuracy of Random Forest Classifier on test set\n",
        "test_pred_fi = FI.predict(data_test_selection)\n",
        "acc_test_fi = accuracy_score(label_test, test_pred_fi)\n",
        "print(f'\\n The accuracy on the test set is {round(acc_test_fi, 2)}')\n",
        "\n",
        "# Confusion matrices and classification reports of test data\n",
        "print('Confusion matrix and classification report of test set')\n",
        "print(confusion_matrix(label_test, test_pred_fi))\n",
        "print(classification_report(label_test, test_pred_fi))"
      ],
      "execution_count": 37,
      "outputs": [
        {
          "output_type": "stream",
          "text": [
            "\n",
            " The accuracy on the test set is 0.85\n",
            "Confusion matrix and classification report of test set\n",
            "[[18  3]\n",
            " [ 2 11]]\n",
            "              precision    recall  f1-score   support\n",
            "\n",
            "           0       0.90      0.86      0.88        21\n",
            "           1       0.79      0.85      0.81        13\n",
            "\n",
            "    accuracy                           0.85        34\n",
            "   macro avg       0.84      0.85      0.85        34\n",
            "weighted avg       0.86      0.85      0.85        34\n",
            "\n"
          ],
          "name": "stdout"
        }
      ]
    },
    {
      "cell_type": "code",
      "metadata": {
        "id": "G5Gjj5JTAofG",
        "colab_type": "code",
        "outputId": "66141905-4aaa-4691-c167-e88a520f0cb1",
        "colab": {
          "base_uri": "https://localhost:8080/",
          "height": 265
        }
      },
      "source": [
        "# SVM with RFECV - evaluation\n",
        "\n",
        "# Evaluate accuracy of SVM on test set\n",
        "test_pred_rfecv = SVMLIN.predict(data_test_RFECV)\n",
        "acc_test_rfecv = accuracy_score(label_test, test_pred_rfecv)\n",
        "print(f'\\n The accuracy of the test set is {round(acc_test_rfecv,2)}')\n",
        "\n",
        "# Confusion matrices and classification reports of test data\n",
        "print('Confusion matrix and classification report of test set')\n",
        "print(confusion_matrix(label_test, test_pred_rfecv))\n",
        "print(classification_report(label_test, test_pred_rfecv))"
      ],
      "execution_count": 38,
      "outputs": [
        {
          "output_type": "stream",
          "text": [
            "\n",
            " The accuracy of the test set is 0.82\n",
            "Confusion matrix and classification report of test set\n",
            "[[17  4]\n",
            " [ 2 11]]\n",
            "              precision    recall  f1-score   support\n",
            "\n",
            "           0       0.89      0.81      0.85        21\n",
            "           1       0.73      0.85      0.79        13\n",
            "\n",
            "    accuracy                           0.82        34\n",
            "   macro avg       0.81      0.83      0.82        34\n",
            "weighted avg       0.83      0.82      0.83        34\n",
            "\n"
          ],
          "name": "stdout"
        }
      ]
    },
    {
      "cell_type": "code",
      "metadata": {
        "id": "6gsA9rJjAqNm",
        "colab_type": "code",
        "outputId": "c69d14b3-74d1-46cd-e01b-816a6235336b",
        "colab": {
          "base_uri": "https://localhost:8080/",
          "height": 265
        }
      },
      "source": [
        "# Neural Network with PCA - evaluation\n",
        "\n",
        "# Evaluate accuracy of Neural Network on test set\n",
        "test_pred_MLP = MLP.predict(data_test_pca)\n",
        "acc_test_MLP = accuracy_score(label_test, test_pred_MLP)\n",
        "print(f'\\n The accuracy of the test set is {round(acc_test_MLP,2)}')\n",
        "\n",
        "# Confusion matrices and classification reports of test data\n",
        "print('Confusion matrix and classification report of test set')\n",
        "print(confusion_matrix(label_test, test_pred_MLP))\n",
        "print(classification_report(label_test, test_pred_MLP))"
      ],
      "execution_count": 39,
      "outputs": [
        {
          "output_type": "stream",
          "text": [
            "\n",
            " The accuracy of the test set is 0.88\n",
            "Confusion matrix and classification report of test set\n",
            "[[19  2]\n",
            " [ 2 11]]\n",
            "              precision    recall  f1-score   support\n",
            "\n",
            "           0       0.90      0.90      0.90        21\n",
            "           1       0.85      0.85      0.85        13\n",
            "\n",
            "    accuracy                           0.88        34\n",
            "   macro avg       0.88      0.88      0.88        34\n",
            "weighted avg       0.88      0.88      0.88        34\n",
            "\n"
          ],
          "name": "stdout"
        }
      ]
    },
    {
      "cell_type": "markdown",
      "metadata": {
        "id": "aXTzxkGL-UbK",
        "colab_type": "text"
      },
      "source": [
        "## Learning Curves"
      ]
    },
    {
      "cell_type": "code",
      "metadata": {
        "id": "Jnh5imnpsYjk",
        "colab_type": "code",
        "colab": {}
      },
      "source": [
        "# Function definition of learning curves\n",
        "def plot_learning_curve(estimator, title, X, y, axes, ylim=None, cv=None,\n",
        "                        n_jobs=None, train_sizes=np.linspace(.1, 1.0, 5)):\n",
        "    axes.set_title(title)\n",
        "    if ylim is not None:\n",
        "        axes.set_ylim(*ylim)\n",
        "    axes.set_xlabel(\"Training examples\")\n",
        "    axes.set_ylabel(\"Score\")\n",
        "\n",
        "    train_sizes, train_scores, test_scores  = \\\n",
        "        learning_curve(estimator, X, y, cv=cv, n_jobs=n_jobs,\n",
        "                       train_sizes=train_sizes)\n",
        "    train_scores_mean = np.mean(train_scores, axis=1)\n",
        "    train_scores_std = np.std(train_scores, axis=1)\n",
        "    test_scores_mean = np.mean(test_scores, axis=1)\n",
        "    test_scores_std = np.std(test_scores, axis=1)\n",
        "\n",
        "    # Plot learning curve\n",
        "    axes.grid()\n",
        "    axes.fill_between(train_sizes, train_scores_mean - train_scores_std,\n",
        "                         train_scores_mean + train_scores_std, alpha=0.1,\n",
        "                         color=\"r\")\n",
        "    axes.fill_between(train_sizes, test_scores_mean - test_scores_std,\n",
        "                         test_scores_mean + test_scores_std, alpha=0.1,\n",
        "                         color=\"g\")\n",
        "    axes.plot(train_sizes, train_scores_mean, 'o-', color=\"r\",\n",
        "                 label=\"Training score\")\n",
        "    axes.plot(train_sizes, test_scores_mean, 'o-', color=\"g\",\n",
        "                 label=\"Cross-validation score\")\n",
        "    axes.legend(loc=\"best\")\n",
        "\n",
        "    return plt\n"
      ],
      "execution_count": 0,
      "outputs": []
    },
    {
      "cell_type": "code",
      "metadata": {
        "id": "4djNT-CZAADv",
        "colab_type": "code",
        "colab": {}
      },
      "source": [
        "# Learning curves of training data set\n",
        "# Plot figuren\n",
        "# fig = plt.figure(figsize=(24,24))\n",
        "  \n",
        "# # Create a cross-validation object\n",
        "# cv = StratifiedShuffleSplit(n_splits=3, test_size=0.15) # test_size=0.15, random_state=0\n",
        "\n",
        "# # Now use the classifiers on all datasets\n",
        "# num = 0\n",
        "\n",
        "# # K-NN with PCA\n",
        "# ax1 = fig.add_subplot(2,2,1)\n",
        "# title1 = f\"kNN Classifier with PCA, #neighbors = {KNN.n_neighbors}\"\n",
        "# plot_learning_curve(KNN, title1, data_train_pca, label_train, ax1, ylim=(0.3, 1.01), cv=cv)\n",
        "\n",
        "# # Random Forest with 'Feature Importances'\n",
        "# ax2 = fig.add_subplot(2,2,2)\n",
        "# title2 = f\"RF Classifier with Feature Importances, #trees = {FI.n_estimators}\"\n",
        "# plot_learning_curve(FI, title2, data_train_selection, label_train, ax2, ylim=(0.3, 1.01), cv=cv)\n",
        "\n",
        "# # SVM with RFECV\n",
        "# ax3 = fig.add_subplot(2,2,3)\n",
        "# title3 = f\"SVM Classifier with RFECV, slack = {SVMLIN.C}\"\n",
        "# plot_learning_curve(SVMLIN, title3, data_train_RFECV, label_train, ax3, ylim=(0.3, 1.01), cv=cv)\n",
        "\n",
        "# # Neural Network with PCA\n",
        "# ax4 = fig.add_subplot(2,2,4)\n",
        "# title4 = f\"MLP Classifier with PCA, hidden layer sizes = {MLP.hidden_layer_sizes}\"\n",
        "# plot_learning_curve(MLP, title4, data_train_pca, label_train, ax4, ylim=(0.3, 1.01), cv=cv)\n"
      ],
      "execution_count": 0,
      "outputs": []
    },
    {
      "cell_type": "code",
      "metadata": {
        "id": "qDoevDkwHgIj",
        "colab_type": "code",
        "colab": {}
      },
      "source": [
        "# Apply preprocessing to the whole dataset\n",
        "  # Scaling \n",
        "data_scaled = transformer.transform(data_no_strings.values)\n",
        "data_df = pd.DataFrame(data_scaled, index = data_no_strings.index, columns = data_no_strings.columns)\n",
        "  # PCA\n",
        "data_pca = pca_train.transform(data_df)\n",
        "# RFECV\n",
        "data_RFECV = data_df[RFECV_columns]\n",
        "# FI\n",
        "data_selection = data_df[mask2]"
      ],
      "execution_count": 0,
      "outputs": []
    },
    {
      "cell_type": "code",
      "metadata": {
        "id": "IaijybZ6Bd3g",
        "colab_type": "code",
        "outputId": "fcd7636e-a192-4bb6-bf9a-28e83e05b8a2",
        "colab": {
          "base_uri": "https://localhost:8080/",
          "height": 762
        }
      },
      "source": [
        "# Learning curves on the whole data set\n",
        "# Plot figuren\n",
        "fig = plt.figure(figsize=(24,15))\n",
        "  \n",
        "# Create a cross-validation object\n",
        "cv = StratifiedShuffleSplit(n_splits=3, test_size=0.15)\n",
        "\n",
        "# Now use the classifiers on all datasets\n",
        "num = 0\n",
        "\n",
        "# K-NN with PCA\n",
        "ax1 = fig.add_subplot(2,2,1)\n",
        "title1 = f\"kNN Classifier with PCA, #neighbors = {KNN.n_neighbors}\"\n",
        "plot_learning_curve(KNN, title1, data_pca, labels, ax1, ylim=(0.6, 1.01), cv=cv)\n",
        "\n",
        "# Random Forest with 'Feature Importances'\n",
        "ax2 = fig.add_subplot(2,2,2)\n",
        "title2 = f\"RF Classifier with Feature Importances, #trees = {FI.n_estimators}\"\n",
        "plot_learning_curve(FI, title2, data_selection, labels, ax2, ylim=(0.6, 1.01), cv=cv)\n",
        "\n",
        "# SVM with RFECV\n",
        "ax3 = fig.add_subplot(2,2,3)\n",
        "title3 = f\"SVM Classifier with RFECV, slack = {SVMLIN.C}\"\n",
        "plot_learning_curve(SVMLIN, title3, data_RFECV, labels, ax3, ylim=(0.6, 1.01), cv=cv)\n",
        "\n",
        "# Neural Network with PCA\n",
        "ax4 = fig.add_subplot(2,2,4)\n",
        "title4 = f\"MLP Classifier with PCA, hidden layer sizes = {MLP.hidden_layer_sizes}\"\n",
        "plot_learning_curve(MLP, title4, data_pca, labels, ax4, ylim=(0.6, 1.01), cv=cv)\n"
      ],
      "execution_count": 49,
      "outputs": [
        {
          "output_type": "execute_result",
          "data": {
            "text/plain": [
              "<module 'matplotlib.pyplot' from '/usr/local/lib/python3.6/dist-packages/matplotlib/pyplot.py'>"
            ]
          },
          "metadata": {
            "tags": []
          },
          "execution_count": 49
        },
        {
          "output_type": "display_data",
          "data": {
            "image/png": "[encoded data removed]",
            "text/plain": [
              "<Figure size 1728x1080 with 4 Axes>"
            ]
          },
          "metadata": {
            "tags": [],
            "needs_background": "light"
          }
        }
      ]
    }
  ]
}