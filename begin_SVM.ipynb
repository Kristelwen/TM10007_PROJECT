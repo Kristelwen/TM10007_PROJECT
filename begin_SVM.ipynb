{
  "nbformat": 4,
  "nbformat_minor": 0,
  "metadata": {
    "colab": {
      "name": "begin_SVM.ipynb",
      "provenance": [],
      "collapsed_sections": []
    },
    "kernelspec": {
      "display_name": "Python 3",
      "language": "python",
      "name": "python3"
    },
    "language_info": {
      "codemirror_mode": {
        "name": "ipython",
        "version": 3
      },
      "file_extension": ".py",
      "mimetype": "text/x-python",
      "name": "python",
      "nbconvert_exporter": "python",
      "pygments_lexer": "ipython3",
      "version": "3.7.4"
    }
  },
  "cells": [
    {
      "cell_type": "markdown",
      "metadata": {
        "colab_type": "text",
        "id": "7SXpaKwwGe5x"
      },
      "source": [
        "# TM10007 Assignment template"
      ]
    },
    {
      "cell_type": "code",
      "metadata": {
        "colab_type": "code",
        "id": "CiDn2Sk-VWqE",
        "outputId": "45ff30ff-8c9a-4191-f154-93dfc642ba20",
        "colab": {
          "base_uri": "https://localhost:8080/",
          "height": 34
        }
      },
      "source": [
        "# Run this to use from colab environment\n",
        "!pip install -q --upgrade git+https://github.com/karinvangarderen/tm10007_project.git"
      ],
      "execution_count": 28,
      "outputs": [
        {
          "output_type": "stream",
          "text": [
            "  Building wheel for brats (setup.py) ... \u001b[?25l\u001b[?25hdone\n"
          ],
          "name": "stdout"
        }
      ]
    },
    {
      "cell_type": "markdown",
      "metadata": {
        "id": "ySDv5ko54ViJ",
        "colab_type": "text"
      },
      "source": [
        "## Data loading and cleaning\n",
        "\n",
        "Below are functions to load the dataset of your choice. After that, it is all up to you to create and evaluate a classification method. Beware, there may be missing values in these datasets. Good luck!"
      ]
    },
    {
      "cell_type": "code",
      "metadata": {
        "id": "B_Lae4Zh5V3B",
        "colab_type": "code",
        "colab": {}
      },
      "source": [
        "# Importing modules\n",
        "from sklearn.model_selection import train_test_split\n",
        "from sklearn.preprocessing import LabelEncoder\n",
        "from sklearn.preprocessing import StandardScaler\n",
        "import numpy as np\n",
        "import pandas as pd\n",
        "import math\n",
        "from sklearn.decomposition import PCA"
      ],
      "execution_count": 0,
      "outputs": []
    },
    {
      "cell_type": "code",
      "metadata": {
        "colab_type": "code",
        "id": "-NE_fTbKGe5z",
        "outputId": "9e4426df-3d50-4c22-c676-ecaeb4c4dca8",
        "colab": {
          "base_uri": "https://localhost:8080/",
          "height": 50
        }
      },
      "source": [
        "# Data loading functions. Uncomment the one you want to use\n",
        "# from adni.load_data import load_data\n",
        "from brats.load_data import load_data\n",
        "#from hn.load_data import load_data\n",
        "# hoi\n",
        "# en als ik dit type?\n",
        "\n",
        "data = load_data()\n",
        "print(f'The number of samples: {len(data.index)}')\n",
        "print(f'The number of columns: {len(data.columns)}')\n"
      ],
      "execution_count": 34,
      "outputs": [
        {
          "output_type": "stream",
          "text": [
            "The number of samples: 167\n",
            "The number of columns: 725\n"
          ],
          "name": "stdout"
        }
      ]
    },
    {
      "cell_type": "code",
      "metadata": {
        "id": "50S8Z8Y968kr",
        "colab_type": "code",
        "colab": {}
      },
      "source": [
        "data_top = data.head()  \n",
        "\n",
        "# display  \n",
        "# data_top # = show data_top"
      ],
      "execution_count": 0,
      "outputs": []
    },
    {
      "cell_type": "markdown",
      "metadata": {
        "id": "AwfkNzjB8GFQ",
        "colab_type": "text"
      },
      "source": [
        "\n",
        "\n",
        "---\n",
        "\n",
        "\n",
        "# Outline opdracht\n",
        "\n",
        "\n",
        "---\n",
        "\n",
        "\n",
        "Gebaseerd op beeldvorming moeten we eruit kunnen halen wat voor een soort tumor het is?\n",
        "Je wil weten of het HIGH of LOW grade is."
      ]
    },
    {
      "cell_type": "code",
      "metadata": {
        "id": "kl2rwSBvHPjO",
        "colab_type": "code",
        "colab": {
          "base_uri": "https://localhost:8080/",
          "height": 269
        },
        "outputId": "0efbbc94-31e2-4849-98a9-47b02b3d45ec"
      },
      "source": [
        "# Preprocessing the data \n",
        "\n",
        "# Drop columns which contain NaN values\n",
        "threshold = math.floor(len(data)/2)  # calculate threshold, half of total rows\n",
        "data_drop = data.dropna(thresh=threshold, axis=1)  # Delete columns/features with more than 'threshold' NaNs\n",
        "data_drop = data_drop.dropna(axis=0)  # Delete rows/subjects with NaNs\n",
        "print(data_drop)\n",
        "\n",
        "# Split data and labels\n",
        "labels = data_drop['label']\n",
        "data_drop = data_drop.drop(columns=\"label\")  # Data without labels\n",
        "\n",
        "# Convert labels 'GBM' and 'LGG' to respectively 0 and 1\n",
        "label_encoder = LabelEncoder()\n",
        "labels = label_encoder.fit_transform(labels)\n",
        "\n",
        "# Delete columns with strings (2 columns)\n",
        "# data_strings = data_drop.select_dtypes(include=[object])\n",
        "# columns_strings = list(data_strings.columns)\n",
        "# data_no_strings = data_drop.drop(columns_strings, axis=1)\n",
        "\n",
        "# Replace infinity values with NaN\n",
        "#data_no_strings = data_no_strings.replace([np.inf, -np.inf], np.nan)\n",
        "# print(np.isinf(data_no_strings.values).any()) - check if dataframe contains infinity values\n",
        "\n",
        "# Feature scaling\n",
        "standard_scaler = StandardScaler()\n",
        "data_scaled = standard_scaler.fit_transform(data_drop.values)\n",
        "data_df = pd.DataFrame(data_scaled, index = data_drop.index, columns = data_drop.columns)\n",
        "\n",
        "# Split the data in a train (80%) and test set (20%)\n",
        "data_train, data_test, label_train, label_test = train_test_split(data_df, labels, test_size=0.2)\n",
        "\n",
        "# PCA\n",
        "  # Training set\n",
        "pca_train = PCA(n_components=20)  # Create a PCA with 20 components\n",
        "pca_train.fit(data_train)  # Fit PCA\n",
        "data_train_pca = pca_train.transform(data_train)  # Transform train data using PCA\n",
        "df_train_pca = pd.DataFrame(data_train_pca, index = data_train.index)  # Put train data back in dataframe with 20 most important features\n",
        "  # Test set\n",
        "data_test_pca = pca_train.transform(data_test)  # Transform test data using PCA\n"
      ],
      "execution_count": 36,
      "outputs": [
        {
          "output_type": "stream",
          "text": [
            "              VOLUME_ET  VOLUME_NET  VOLUME_ED  ...  TGM_Cog_Z_1    TGM_T_1  label\n",
            "ID                                              ...                               \n",
            "TCGA-02-0006       1662         384      36268  ...     0.052741    2.00000    GBM\n",
            "TCGA-02-0009       4362        4349      15723  ...     0.094336   91.47360    GBM\n",
            "TCGA-02-0011      33404       48612      45798  ...     0.096035  272.42900    GBM\n",
            "TCGA-02-0027      12114        7587      34086  ...     0.096470  128.46800    GBM\n",
            "TCGA-02-0033      34538        7137      65653  ...     0.096894  240.77800    GBM\n",
            "...                 ...         ...        ...  ...          ...        ...    ...\n",
            "TCGA-HT-7694       1036      189152     171595  ...     0.090456  719.23800    LGG\n",
            "TCGA-HT-8018       2093        8685      39142  ...     0.054307    2.00000    LGG\n",
            "TCGA-HT-8111       1929         437      54079  ...     0.126712    7.06744    LGG\n",
            "TCGA-HT-8114       8755      168606      11325  ...     0.107433   15.52240    LGG\n",
            "TCGA-HT-8563      11757        1012     138755  ...     0.069101    7.62280    LGG\n",
            "\n",
            "[146 rows x 705 columns]\n"
          ],
          "name": "stdout"
        }
      ]
    },
    {
      "cell_type": "markdown",
      "metadata": {
        "id": "0TlOEntcHLdo",
        "colab_type": "text"
      },
      "source": [
        "Vanaf hier begin van SVM. "
      ]
    },
    {
      "cell_type": "code",
      "metadata": {
        "id": "-UaR64n7HNwr",
        "colab_type": "code",
        "outputId": "0e6f027c-c554-4e14-d4c7-8e33dee41874",
        "colab": {
          "base_uri": "https://localhost:8080/",
          "height": 34
        }
      },
      "source": [
        "!pip install SimpleITK \n",
        "# General packages\n",
        "import numpy as np \n",
        "import matplotlib.pyplot as plt\n",
        "from sklearn import datasets as ds\n",
        "import SimpleITK as sitk\n",
        "\n",
        "# Classifiers and kernels\n",
        "from sklearn.neighbors import KNeighborsClassifier\n",
        "from sklearn.ensemble import RandomForestClassifier\n",
        "from sklearn.svm import SVC\n",
        "from sklearn.decomposition import PCA, KernelPCA\n",
        "from sklearn.kernel_approximation import RBFSampler\n",
        "from sklearn.metrics.pairwise import rbf_kernel, sigmoid_kernel"
      ],
      "execution_count": 37,
      "outputs": [
        {
          "output_type": "stream",
          "text": [
            "Requirement already satisfied: SimpleITK in /usr/local/lib/python3.6/dist-packages (1.2.4)\n"
          ],
          "name": "stdout"
        }
      ]
    },
    {
      "cell_type": "code",
      "metadata": {
        "id": "twjsXGFvIJqt",
        "colab_type": "code",
        "outputId": "7db75b80-0cf3-4efc-8378-9801e69ea63d",
        "colab": {
          "base_uri": "https://localhost:8080/",
          "height": 67
        }
      },
      "source": [
        "# Construct classifiers\n",
        "svmlin = SVC(kernel='linear', gamma='scale')  # linear kernel\n",
        "svmrbf = SVC(kernel='rbf', gamma='scale')  # radial basis function kernel\n",
        "svmpoly = SVC(kernel='poly', degree=3, gamma='scale')  # polynomial kernel\n",
        "\n",
        "clsfs = [svmlin, svmpoly, svmrbf] # verschillende classifiers in lijst\n",
        "for clf in clsfs: # voor alle classifiers in lijst\n",
        "   clf.fit(data_train_pca, label_train) # fit classifier op trainingsset\n",
        "   test = clf.predict(data_test_pca) # test classifier op testset\n",
        "   error = sum(abs(test - label_test)) # hoevaak komt het niet overeen met gegeven label?\n",
        "   print(f'Misclassified: {error}/{len(test)}')\n",
        "\n",
        "\n"
      ],
      "execution_count": 48,
      "outputs": [
        {
          "output_type": "stream",
          "text": [
            "Misclassified: 6/30\n",
            "Misclassified: 5/30\n",
            "Misclassified: 4/30\n"
          ],
          "name": "stdout"
        }
      ]
    }
  ]
}